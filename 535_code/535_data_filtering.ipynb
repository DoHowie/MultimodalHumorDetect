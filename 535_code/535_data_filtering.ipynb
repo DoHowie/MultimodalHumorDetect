{
  "cells": [
    {
      "cell_type": "code",
      "execution_count": null,
      "metadata": {
        "colab": {
          "base_uri": "https://localhost:8080/"
        },
        "id": "eR2gsDAnmRoD",
        "outputId": "b5198750-9e35-427b-e20f-ab65b0ccf360"
      },
      "outputs": [
        {
          "output_type": "stream",
          "name": "stdout",
          "text": [
            "Mounted at /content/drive\n"
          ]
        }
      ],
      "source": [
        "from google.colab import drive\n",
        "drive.mount('/content/drive')"
      ]
    },
    {
      "cell_type": "code",
      "execution_count": null,
      "metadata": {
        "colab": {
          "base_uri": "https://localhost:8080/"
        },
        "id": "72hqK_igk0WD",
        "outputId": "bbef17d0-a71c-4c55-d823-841be1c817d4"
      },
      "outputs": [
        {
          "name": "stdout",
          "output_type": "stream",
          "text": [
            "\u001b[2K   \u001b[90m━━━━━━━━━━━━━━━━━━━━━━━━━━━━━━━━━━━━━━━━\u001b[0m \u001b[32m17.3/17.3 MB\u001b[0m \u001b[31m115.5 MB/s\u001b[0m eta \u001b[36m0:00:00\u001b[0m\n",
            "\u001b[?25h\u001b[31mERROR: pip's dependency resolver does not currently take into account all the packages that are installed. This behaviour is the source of the following dependency conflicts.\n",
            "jaxlib 0.5.1 requires numpy>=1.25, but you have numpy 1.24.3 which is incompatible.\n",
            "tensorflow 2.18.0 requires numpy<2.1.0,>=1.26.0, but you have numpy 1.24.3 which is incompatible.\n",
            "albumentations 2.0.5 requires numpy>=1.24.4, but you have numpy 1.24.3 which is incompatible.\n",
            "blosc2 3.3.0 requires numpy>=1.26, but you have numpy 1.24.3 which is incompatible.\n",
            "jax 0.5.2 requires numpy>=1.25, but you have numpy 1.24.3 which is incompatible.\n",
            "albucore 0.0.23 requires numpy>=1.24.4, but you have numpy 1.24.3 which is incompatible.\n",
            "treescope 0.1.9 requires numpy>=1.25.2, but you have numpy 1.24.3 which is incompatible.\n",
            "thinc 8.3.6 requires numpy<3.0.0,>=2.0.0, but you have numpy 1.24.3 which is incompatible.\n",
            "pymc 5.21.2 requires numpy>=1.25.0, but you have numpy 1.24.3 which is incompatible.\u001b[0m\u001b[31m\n",
            "\u001b[0m"
          ]
        }
      ],
      "source": [
        "!pip install numpy==1.24.3 librosa ffmpeg-python --quiet"
      ]
    },
    {
      "cell_type": "code",
      "source": [
        "!pip install webrtcvad\n",
        "!apt-get install -y ffmpeg"
      ],
      "metadata": {
        "colab": {
          "base_uri": "https://localhost:8080/"
        },
        "id": "Rrzb1go2CZKT",
        "outputId": "3d7ed310-e7a5-46e1-872e-a6a3fbbbbbd8"
      },
      "execution_count": null,
      "outputs": [
        {
          "output_type": "stream",
          "name": "stdout",
          "text": [
            "Collecting webrtcvad\n",
            "  Downloading webrtcvad-2.0.10.tar.gz (66 kB)\n",
            "\u001b[?25l     \u001b[90m━━━━━━━━━━━━━━━━━━━━━━━━━━━━━━━━━━━━━━━━\u001b[0m \u001b[32m0.0/66.2 kB\u001b[0m \u001b[31m?\u001b[0m eta \u001b[36m-:--:--\u001b[0m\r\u001b[2K     \u001b[90m━━━━━━━━━━━━━━━━━━━━━━━━━━━━━━━━━━━━━━━━\u001b[0m \u001b[32m66.2/66.2 kB\u001b[0m \u001b[31m1.9 MB/s\u001b[0m eta \u001b[36m0:00:00\u001b[0m\n",
            "\u001b[?25h  Preparing metadata (setup.py) ... \u001b[?25l\u001b[?25hdone\n",
            "Building wheels for collected packages: webrtcvad\n",
            "  Building wheel for webrtcvad (setup.py) ... \u001b[?25l\u001b[?25hdone\n",
            "  Created wheel for webrtcvad: filename=webrtcvad-2.0.10-cp311-cp311-linux_x86_64.whl size=73499 sha256=8910f1fb780fe56a0d5e85ffb017c6de5f86d50b4a4e63352599f876a3bf734d\n",
            "  Stored in directory: /root/.cache/pip/wheels/94/65/3f/292d0b656be33d1c801831201c74b5f68f41a2ae465ff2ee2f\n",
            "Successfully built webrtcvad\n",
            "Installing collected packages: webrtcvad\n",
            "Successfully installed webrtcvad-2.0.10\n",
            "Reading package lists... Done\n",
            "Building dependency tree... Done\n",
            "Reading state information... Done\n",
            "ffmpeg is already the newest version (7:4.4.2-0ubuntu0.22.04.1).\n",
            "0 upgraded, 0 newly installed, 0 to remove and 34 not upgraded.\n"
          ]
        }
      ]
    },
    {
      "cell_type": "code",
      "execution_count": null,
      "metadata": {
        "colab": {
          "base_uri": "https://localhost:8080/"
        },
        "id": "alMS69kln5l6",
        "outputId": "da080440-2e80-4068-f743-a98f9460d3c7"
      },
      "outputs": [
        {
          "output_type": "stream",
          "name": "stdout",
          "text": [
            " Total videos to process: 10166\n",
            "\n",
            " Processing batch 1 (100 videos)...\n",
            "\n"
          ]
        },
        {
          "output_type": "stream",
          "name": "stderr",
          "text": [
            "100%|██████████| 100/100 [00:58<00:00,  1.72it/s]\n"
          ]
        },
        {
          "output_type": "stream",
          "name": "stdout",
          "text": [
            " Batch done: Kept 77, Dropped 23\n",
            "\n",
            " Processing batch 2 (100 videos)...\n",
            "\n"
          ]
        },
        {
          "output_type": "stream",
          "name": "stderr",
          "text": [
            "  2%|▏         | 2/100 [02:33<2:27:30, 90.31s/it]"
          ]
        },
        {
          "output_type": "stream",
          "name": "stdout",
          "text": [
            "[ERROR] Failed to extract audio: 10127.mp4\n"
          ]
        },
        {
          "output_type": "stream",
          "name": "stderr",
          "text": [
            "\r  3%|▎         | 3/100 [03:28<1:59:54, 74.17s/it]"
          ]
        },
        {
          "output_type": "stream",
          "name": "stdout",
          "text": [
            "[ERROR] Failed to extract audio: 10129.mp4\n"
          ]
        },
        {
          "output_type": "stream",
          "name": "stderr",
          "text": [
            "\r  4%|▍         | 4/100 [04:37<1:55:12, 72.00s/it]"
          ]
        },
        {
          "output_type": "stream",
          "name": "stdout",
          "text": [
            "[ERROR] Failed to extract audio: 1013.mp4\n"
          ]
        },
        {
          "output_type": "stream",
          "name": "stderr",
          "text": [
            "100%|██████████| 100/100 [05:15<00:00,  3.15s/it]\n"
          ]
        },
        {
          "output_type": "stream",
          "name": "stdout",
          "text": [
            " Batch done: Kept 72, Dropped 28\n",
            "\n",
            " Processing batch 3 (100 videos)...\n",
            "\n"
          ]
        },
        {
          "output_type": "stream",
          "name": "stderr",
          "text": [
            "100%|██████████| 100/100 [00:31<00:00,  3.20it/s]\n"
          ]
        },
        {
          "output_type": "stream",
          "name": "stdout",
          "text": [
            " Batch done: Kept 81, Dropped 19\n",
            "\n",
            " Processing batch 4 (100 videos)...\n",
            "\n"
          ]
        },
        {
          "output_type": "stream",
          "name": "stderr",
          "text": [
            "100%|██████████| 100/100 [00:21<00:00,  4.76it/s]\n"
          ]
        },
        {
          "output_type": "stream",
          "name": "stdout",
          "text": [
            " Batch done: Kept 73, Dropped 27\n",
            "\n",
            " Processing batch 5 (100 videos)...\n",
            "\n"
          ]
        },
        {
          "output_type": "stream",
          "name": "stderr",
          "text": [
            "100%|██████████| 100/100 [00:20<00:00,  4.90it/s]\n"
          ]
        },
        {
          "output_type": "stream",
          "name": "stdout",
          "text": [
            " Batch done: Kept 66, Dropped 34\n",
            "\n",
            " Processing batch 6 (100 videos)...\n",
            "\n"
          ]
        },
        {
          "output_type": "stream",
          "name": "stderr",
          "text": [
            "100%|██████████| 100/100 [00:20<00:00,  4.78it/s]\n"
          ]
        },
        {
          "output_type": "stream",
          "name": "stdout",
          "text": [
            " Batch done: Kept 73, Dropped 27\n",
            "\n",
            " Processing batch 7 (100 videos)...\n",
            "\n"
          ]
        },
        {
          "output_type": "stream",
          "name": "stderr",
          "text": [
            "100%|██████████| 100/100 [00:19<00:00,  5.08it/s]\n"
          ]
        },
        {
          "output_type": "stream",
          "name": "stdout",
          "text": [
            " Batch done: Kept 69, Dropped 31\n",
            "\n",
            " Processing batch 8 (100 videos)...\n",
            "\n"
          ]
        },
        {
          "output_type": "stream",
          "name": "stderr",
          "text": [
            "100%|██████████| 100/100 [00:21<00:00,  4.55it/s]\n"
          ]
        },
        {
          "output_type": "stream",
          "name": "stdout",
          "text": [
            " Batch done: Kept 75, Dropped 25\n",
            "\n",
            " Processing batch 9 (100 videos)...\n",
            "\n"
          ]
        },
        {
          "output_type": "stream",
          "name": "stderr",
          "text": [
            "100%|██████████| 100/100 [00:20<00:00,  4.97it/s]\n"
          ]
        },
        {
          "output_type": "stream",
          "name": "stdout",
          "text": [
            " Batch done: Kept 53, Dropped 47\n",
            "\n",
            " Processing batch 10 (100 videos)...\n",
            "\n"
          ]
        },
        {
          "output_type": "stream",
          "name": "stderr",
          "text": [
            "100%|██████████| 100/100 [00:21<00:00,  4.58it/s]\n"
          ]
        },
        {
          "output_type": "stream",
          "name": "stdout",
          "text": [
            " Batch done: Kept 67, Dropped 33\n",
            "\n",
            " Processing batch 11 (100 videos)...\n",
            "\n"
          ]
        },
        {
          "output_type": "stream",
          "name": "stderr",
          "text": [
            "100%|██████████| 100/100 [00:20<00:00,  4.92it/s]\n"
          ]
        },
        {
          "output_type": "stream",
          "name": "stdout",
          "text": [
            " Batch done: Kept 78, Dropped 22\n",
            "\n",
            " Processing batch 12 (100 videos)...\n",
            "\n"
          ]
        },
        {
          "output_type": "stream",
          "name": "stderr",
          "text": [
            "100%|██████████| 100/100 [00:18<00:00,  5.39it/s]\n"
          ]
        },
        {
          "output_type": "stream",
          "name": "stdout",
          "text": [
            " Batch done: Kept 62, Dropped 38\n",
            "\n",
            " Processing batch 13 (100 videos)...\n",
            "\n"
          ]
        },
        {
          "output_type": "stream",
          "name": "stderr",
          "text": [
            "100%|██████████| 100/100 [00:19<00:00,  5.17it/s]\n"
          ]
        },
        {
          "output_type": "stream",
          "name": "stdout",
          "text": [
            " Batch done: Kept 71, Dropped 29\n",
            "\n",
            " Processing batch 14 (100 videos)...\n",
            "\n"
          ]
        },
        {
          "output_type": "stream",
          "name": "stderr",
          "text": [
            "100%|██████████| 100/100 [00:19<00:00,  5.04it/s]\n"
          ]
        },
        {
          "output_type": "stream",
          "name": "stdout",
          "text": [
            " Batch done: Kept 75, Dropped 25\n",
            "\n",
            " Processing batch 15 (100 videos)...\n",
            "\n"
          ]
        },
        {
          "output_type": "stream",
          "name": "stderr",
          "text": [
            "100%|██████████| 100/100 [00:22<00:00,  4.53it/s]\n"
          ]
        },
        {
          "output_type": "stream",
          "name": "stdout",
          "text": [
            " Batch done: Kept 62, Dropped 38\n",
            "\n",
            " Processing batch 16 (100 videos)...\n",
            "\n"
          ]
        },
        {
          "output_type": "stream",
          "name": "stderr",
          "text": [
            "100%|██████████| 100/100 [00:18<00:00,  5.32it/s]\n"
          ]
        },
        {
          "output_type": "stream",
          "name": "stdout",
          "text": [
            " Batch done: Kept 70, Dropped 30\n",
            "\n",
            " Processing batch 17 (100 videos)...\n",
            "\n"
          ]
        },
        {
          "output_type": "stream",
          "name": "stderr",
          "text": [
            "100%|██████████| 100/100 [00:22<00:00,  4.48it/s]\n"
          ]
        },
        {
          "output_type": "stream",
          "name": "stdout",
          "text": [
            " Batch done: Kept 64, Dropped 36\n",
            "\n",
            " Processing batch 18 (100 videos)...\n",
            "\n"
          ]
        },
        {
          "output_type": "stream",
          "name": "stderr",
          "text": [
            "100%|██████████| 100/100 [00:22<00:00,  4.49it/s]\n"
          ]
        },
        {
          "output_type": "stream",
          "name": "stdout",
          "text": [
            " Batch done: Kept 68, Dropped 32\n",
            "\n",
            " Processing batch 19 (100 videos)...\n",
            "\n"
          ]
        },
        {
          "output_type": "stream",
          "name": "stderr",
          "text": [
            "100%|██████████| 100/100 [00:19<00:00,  5.18it/s]\n"
          ]
        },
        {
          "output_type": "stream",
          "name": "stdout",
          "text": [
            " Batch done: Kept 63, Dropped 37\n",
            "\n",
            " Processing batch 20 (100 videos)...\n",
            "\n"
          ]
        },
        {
          "output_type": "stream",
          "name": "stderr",
          "text": [
            "100%|██████████| 100/100 [00:21<00:00,  4.59it/s]\n"
          ]
        },
        {
          "output_type": "stream",
          "name": "stdout",
          "text": [
            " Batch done: Kept 57, Dropped 43\n",
            "\n",
            " Processing batch 21 (100 videos)...\n",
            "\n"
          ]
        },
        {
          "output_type": "stream",
          "name": "stderr",
          "text": [
            "100%|██████████| 100/100 [00:22<00:00,  4.53it/s]\n"
          ]
        },
        {
          "output_type": "stream",
          "name": "stdout",
          "text": [
            " Batch done: Kept 51, Dropped 49\n",
            "\n",
            " Processing batch 22 (100 videos)...\n",
            "\n"
          ]
        },
        {
          "output_type": "stream",
          "name": "stderr",
          "text": [
            "100%|██████████| 100/100 [00:23<00:00,  4.23it/s]\n"
          ]
        },
        {
          "output_type": "stream",
          "name": "stdout",
          "text": [
            " Batch done: Kept 48, Dropped 52\n",
            "\n",
            " Processing batch 23 (100 videos)...\n",
            "\n"
          ]
        },
        {
          "output_type": "stream",
          "name": "stderr",
          "text": [
            "100%|██████████| 100/100 [00:19<00:00,  5.13it/s]\n"
          ]
        },
        {
          "output_type": "stream",
          "name": "stdout",
          "text": [
            " Batch done: Kept 66, Dropped 34\n",
            "\n",
            " Processing batch 24 (100 videos)...\n",
            "\n"
          ]
        },
        {
          "output_type": "stream",
          "name": "stderr",
          "text": [
            "100%|██████████| 100/100 [00:20<00:00,  4.77it/s]\n"
          ]
        },
        {
          "output_type": "stream",
          "name": "stdout",
          "text": [
            " Batch done: Kept 71, Dropped 29\n",
            "\n",
            " Processing batch 25 (100 videos)...\n",
            "\n"
          ]
        },
        {
          "output_type": "stream",
          "name": "stderr",
          "text": [
            "100%|██████████| 100/100 [00:24<00:00,  4.00it/s]\n"
          ]
        },
        {
          "output_type": "stream",
          "name": "stdout",
          "text": [
            " Batch done: Kept 49, Dropped 51\n",
            "\n",
            " Processing batch 26 (100 videos)...\n",
            "\n"
          ]
        },
        {
          "output_type": "stream",
          "name": "stderr",
          "text": [
            "100%|██████████| 100/100 [00:18<00:00,  5.28it/s]\n"
          ]
        },
        {
          "output_type": "stream",
          "name": "stdout",
          "text": [
            " Batch done: Kept 38, Dropped 62\n",
            "\n",
            " Processing batch 27 (100 videos)...\n",
            "\n"
          ]
        },
        {
          "output_type": "stream",
          "name": "stderr",
          "text": [
            "100%|██████████| 100/100 [00:20<00:00,  4.89it/s]\n"
          ]
        },
        {
          "output_type": "stream",
          "name": "stdout",
          "text": [
            " Batch done: Kept 60, Dropped 40\n",
            "\n",
            " Processing batch 28 (100 videos)...\n",
            "\n"
          ]
        },
        {
          "output_type": "stream",
          "name": "stderr",
          "text": [
            "100%|██████████| 100/100 [00:18<00:00,  5.30it/s]\n"
          ]
        },
        {
          "output_type": "stream",
          "name": "stdout",
          "text": [
            " Batch done: Kept 74, Dropped 26\n",
            "\n",
            " Processing batch 29 (100 videos)...\n",
            "\n"
          ]
        },
        {
          "output_type": "stream",
          "name": "stderr",
          "text": [
            "100%|██████████| 100/100 [00:19<00:00,  5.25it/s]\n"
          ]
        },
        {
          "output_type": "stream",
          "name": "stdout",
          "text": [
            " Batch done: Kept 78, Dropped 22\n",
            "\n",
            " Processing batch 30 (100 videos)...\n",
            "\n"
          ]
        },
        {
          "output_type": "stream",
          "name": "stderr",
          "text": [
            "100%|██████████| 100/100 [00:22<00:00,  4.42it/s]\n"
          ]
        },
        {
          "output_type": "stream",
          "name": "stdout",
          "text": [
            " Batch done: Kept 47, Dropped 53\n",
            "\n",
            " Processing batch 31 (100 videos)...\n",
            "\n"
          ]
        },
        {
          "output_type": "stream",
          "name": "stderr",
          "text": [
            "100%|██████████| 100/100 [00:21<00:00,  4.56it/s]\n"
          ]
        },
        {
          "output_type": "stream",
          "name": "stdout",
          "text": [
            " Batch done: Kept 69, Dropped 31\n",
            "\n",
            " Processing batch 32 (100 videos)...\n",
            "\n"
          ]
        },
        {
          "output_type": "stream",
          "name": "stderr",
          "text": [
            "100%|██████████| 100/100 [00:21<00:00,  4.55it/s]\n"
          ]
        },
        {
          "output_type": "stream",
          "name": "stdout",
          "text": [
            " Batch done: Kept 64, Dropped 36\n",
            "\n",
            " Processing batch 33 (100 videos)...\n",
            "\n"
          ]
        },
        {
          "output_type": "stream",
          "name": "stderr",
          "text": [
            "100%|██████████| 100/100 [00:20<00:00,  4.85it/s]\n"
          ]
        },
        {
          "output_type": "stream",
          "name": "stdout",
          "text": [
            " Batch done: Kept 69, Dropped 31\n",
            "\n",
            " Processing batch 34 (100 videos)...\n",
            "\n"
          ]
        },
        {
          "output_type": "stream",
          "name": "stderr",
          "text": [
            "100%|██████████| 100/100 [00:20<00:00,  4.87it/s]\n"
          ]
        },
        {
          "output_type": "stream",
          "name": "stdout",
          "text": [
            " Batch done: Kept 58, Dropped 42\n",
            "\n",
            " Processing batch 35 (100 videos)...\n",
            "\n"
          ]
        },
        {
          "output_type": "stream",
          "name": "stderr",
          "text": [
            "100%|██████████| 100/100 [00:19<00:00,  5.09it/s]\n"
          ]
        },
        {
          "output_type": "stream",
          "name": "stdout",
          "text": [
            " Batch done: Kept 59, Dropped 41\n",
            "\n",
            " Processing batch 36 (100 videos)...\n",
            "\n"
          ]
        },
        {
          "output_type": "stream",
          "name": "stderr",
          "text": [
            "100%|██████████| 100/100 [00:21<00:00,  4.71it/s]\n"
          ]
        },
        {
          "output_type": "stream",
          "name": "stdout",
          "text": [
            " Batch done: Kept 64, Dropped 36\n",
            "\n",
            " Processing batch 37 (100 videos)...\n",
            "\n"
          ]
        },
        {
          "output_type": "stream",
          "name": "stderr",
          "text": [
            "100%|██████████| 100/100 [00:19<00:00,  5.05it/s]\n"
          ]
        },
        {
          "output_type": "stream",
          "name": "stdout",
          "text": [
            " Batch done: Kept 54, Dropped 46\n",
            "\n",
            " Processing batch 38 (100 videos)...\n",
            "\n"
          ]
        },
        {
          "output_type": "stream",
          "name": "stderr",
          "text": [
            "100%|██████████| 100/100 [00:20<00:00,  4.81it/s]\n"
          ]
        },
        {
          "output_type": "stream",
          "name": "stdout",
          "text": [
            " Batch done: Kept 72, Dropped 28\n",
            "\n",
            " Processing batch 39 (100 videos)...\n",
            "\n"
          ]
        },
        {
          "output_type": "stream",
          "name": "stderr",
          "text": [
            "100%|██████████| 100/100 [00:21<00:00,  4.58it/s]\n"
          ]
        },
        {
          "output_type": "stream",
          "name": "stdout",
          "text": [
            " Batch done: Kept 65, Dropped 35\n",
            "\n",
            " Processing batch 40 (100 videos)...\n",
            "\n"
          ]
        },
        {
          "output_type": "stream",
          "name": "stderr",
          "text": [
            "100%|██████████| 100/100 [00:19<00:00,  5.21it/s]\n"
          ]
        },
        {
          "output_type": "stream",
          "name": "stdout",
          "text": [
            " Batch done: Kept 59, Dropped 41\n",
            "\n",
            " Processing batch 41 (100 videos)...\n",
            "\n"
          ]
        },
        {
          "output_type": "stream",
          "name": "stderr",
          "text": [
            "100%|██████████| 100/100 [00:19<00:00,  5.18it/s]\n"
          ]
        },
        {
          "output_type": "stream",
          "name": "stdout",
          "text": [
            " Batch done: Kept 78, Dropped 22\n",
            "\n",
            " Processing batch 42 (100 videos)...\n",
            "\n"
          ]
        },
        {
          "output_type": "stream",
          "name": "stderr",
          "text": [
            "100%|██████████| 100/100 [00:20<00:00,  4.86it/s]\n"
          ]
        },
        {
          "output_type": "stream",
          "name": "stdout",
          "text": [
            " Batch done: Kept 42, Dropped 58\n",
            "\n",
            " Processing batch 43 (100 videos)...\n",
            "\n"
          ]
        },
        {
          "output_type": "stream",
          "name": "stderr",
          "text": [
            "100%|██████████| 100/100 [00:21<00:00,  4.71it/s]\n"
          ]
        },
        {
          "output_type": "stream",
          "name": "stdout",
          "text": [
            " Batch done: Kept 68, Dropped 32\n",
            "\n",
            " Processing batch 44 (100 videos)...\n",
            "\n"
          ]
        },
        {
          "output_type": "stream",
          "name": "stderr",
          "text": [
            "100%|██████████| 100/100 [00:19<00:00,  5.09it/s]\n"
          ]
        },
        {
          "output_type": "stream",
          "name": "stdout",
          "text": [
            " Batch done: Kept 68, Dropped 32\n",
            "\n",
            " Processing batch 45 (100 videos)...\n",
            "\n"
          ]
        },
        {
          "output_type": "stream",
          "name": "stderr",
          "text": [
            "100%|██████████| 100/100 [00:21<00:00,  4.63it/s]\n"
          ]
        },
        {
          "output_type": "stream",
          "name": "stdout",
          "text": [
            " Batch done: Kept 58, Dropped 42\n",
            "\n",
            " Processing batch 46 (100 videos)...\n",
            "\n"
          ]
        },
        {
          "output_type": "stream",
          "name": "stderr",
          "text": [
            "100%|██████████| 100/100 [00:19<00:00,  5.19it/s]\n"
          ]
        },
        {
          "output_type": "stream",
          "name": "stdout",
          "text": [
            " Batch done: Kept 50, Dropped 50\n",
            "\n",
            " Processing batch 47 (100 videos)...\n",
            "\n"
          ]
        },
        {
          "output_type": "stream",
          "name": "stderr",
          "text": [
            "100%|██████████| 100/100 [00:21<00:00,  4.63it/s]\n"
          ]
        },
        {
          "output_type": "stream",
          "name": "stdout",
          "text": [
            " Batch done: Kept 55, Dropped 45\n",
            "\n",
            " Processing batch 48 (100 videos)...\n",
            "\n"
          ]
        },
        {
          "output_type": "stream",
          "name": "stderr",
          "text": [
            "100%|██████████| 100/100 [00:20<00:00,  4.91it/s]\n"
          ]
        },
        {
          "output_type": "stream",
          "name": "stdout",
          "text": [
            " Batch done: Kept 63, Dropped 37\n",
            "\n",
            " Processing batch 49 (100 videos)...\n",
            "\n"
          ]
        },
        {
          "output_type": "stream",
          "name": "stderr",
          "text": [
            "100%|██████████| 100/100 [00:19<00:00,  5.06it/s]\n"
          ]
        },
        {
          "output_type": "stream",
          "name": "stdout",
          "text": [
            " Batch done: Kept 87, Dropped 13\n",
            "\n",
            " Processing batch 50 (100 videos)...\n",
            "\n"
          ]
        },
        {
          "output_type": "stream",
          "name": "stderr",
          "text": [
            "100%|██████████| 100/100 [00:23<00:00,  4.33it/s]\n"
          ]
        },
        {
          "output_type": "stream",
          "name": "stdout",
          "text": [
            " Batch done: Kept 52, Dropped 48\n",
            "\n",
            " Processing batch 51 (100 videos)...\n",
            "\n"
          ]
        },
        {
          "output_type": "stream",
          "name": "stderr",
          "text": [
            "100%|██████████| 100/100 [00:22<00:00,  4.46it/s]\n"
          ]
        },
        {
          "output_type": "stream",
          "name": "stdout",
          "text": [
            " Batch done: Kept 49, Dropped 51\n",
            "\n",
            " Processing batch 52 (100 videos)...\n",
            "\n"
          ]
        },
        {
          "output_type": "stream",
          "name": "stderr",
          "text": [
            "100%|██████████| 100/100 [00:21<00:00,  4.72it/s]\n"
          ]
        },
        {
          "output_type": "stream",
          "name": "stdout",
          "text": [
            " Batch done: Kept 69, Dropped 31\n",
            "\n",
            " Processing batch 53 (100 videos)...\n",
            "\n"
          ]
        },
        {
          "output_type": "stream",
          "name": "stderr",
          "text": [
            "100%|██████████| 100/100 [00:19<00:00,  5.03it/s]\n"
          ]
        },
        {
          "output_type": "stream",
          "name": "stdout",
          "text": [
            " Batch done: Kept 74, Dropped 26\n",
            "\n",
            " Processing batch 54 (100 videos)...\n",
            "\n"
          ]
        },
        {
          "output_type": "stream",
          "name": "stderr",
          "text": [
            "100%|██████████| 100/100 [00:21<00:00,  4.64it/s]\n"
          ]
        },
        {
          "output_type": "stream",
          "name": "stdout",
          "text": [
            " Batch done: Kept 66, Dropped 34\n",
            "\n",
            " Processing batch 55 (100 videos)...\n",
            "\n"
          ]
        },
        {
          "output_type": "stream",
          "name": "stderr",
          "text": [
            "100%|██████████| 100/100 [00:20<00:00,  4.95it/s]\n"
          ]
        },
        {
          "output_type": "stream",
          "name": "stdout",
          "text": [
            " Batch done: Kept 59, Dropped 41\n",
            "\n",
            " Processing batch 56 (100 videos)...\n",
            "\n"
          ]
        },
        {
          "output_type": "stream",
          "name": "stderr",
          "text": [
            "100%|██████████| 100/100 [00:20<00:00,  4.80it/s]\n"
          ]
        },
        {
          "output_type": "stream",
          "name": "stdout",
          "text": [
            " Batch done: Kept 56, Dropped 44\n",
            "\n",
            " Processing batch 57 (100 videos)...\n",
            "\n"
          ]
        },
        {
          "output_type": "stream",
          "name": "stderr",
          "text": [
            "100%|██████████| 100/100 [00:19<00:00,  5.18it/s]\n"
          ]
        },
        {
          "output_type": "stream",
          "name": "stdout",
          "text": [
            " Batch done: Kept 59, Dropped 41\n",
            "\n",
            " Processing batch 58 (100 videos)...\n",
            "\n"
          ]
        },
        {
          "output_type": "stream",
          "name": "stderr",
          "text": [
            "100%|██████████| 100/100 [00:22<00:00,  4.44it/s]\n"
          ]
        },
        {
          "output_type": "stream",
          "name": "stdout",
          "text": [
            " Batch done: Kept 54, Dropped 46\n",
            "\n",
            " Processing batch 59 (100 videos)...\n",
            "\n"
          ]
        },
        {
          "output_type": "stream",
          "name": "stderr",
          "text": [
            "100%|██████████| 100/100 [00:20<00:00,  4.99it/s]\n"
          ]
        },
        {
          "output_type": "stream",
          "name": "stdout",
          "text": [
            " Batch done: Kept 78, Dropped 22\n",
            "\n",
            " Processing batch 60 (100 videos)...\n",
            "\n"
          ]
        },
        {
          "output_type": "stream",
          "name": "stderr",
          "text": [
            "100%|██████████| 100/100 [00:19<00:00,  5.19it/s]\n"
          ]
        },
        {
          "output_type": "stream",
          "name": "stdout",
          "text": [
            " Batch done: Kept 59, Dropped 41\n",
            "\n",
            " Processing batch 61 (100 videos)...\n",
            "\n"
          ]
        },
        {
          "output_type": "stream",
          "name": "stderr",
          "text": [
            "100%|██████████| 100/100 [00:20<00:00,  4.99it/s]\n"
          ]
        },
        {
          "output_type": "stream",
          "name": "stdout",
          "text": [
            " Batch done: Kept 59, Dropped 41\n",
            "\n",
            " Processing batch 62 (100 videos)...\n",
            "\n"
          ]
        },
        {
          "output_type": "stream",
          "name": "stderr",
          "text": [
            "100%|██████████| 100/100 [00:19<00:00,  5.22it/s]\n"
          ]
        },
        {
          "output_type": "stream",
          "name": "stdout",
          "text": [
            " Batch done: Kept 58, Dropped 42\n",
            "\n",
            " Processing batch 63 (100 videos)...\n",
            "\n"
          ]
        },
        {
          "output_type": "stream",
          "name": "stderr",
          "text": [
            "100%|██████████| 100/100 [00:18<00:00,  5.27it/s]\n"
          ]
        },
        {
          "output_type": "stream",
          "name": "stdout",
          "text": [
            " Batch done: Kept 65, Dropped 35\n",
            "\n",
            " Processing batch 64 (100 videos)...\n",
            "\n"
          ]
        },
        {
          "output_type": "stream",
          "name": "stderr",
          "text": [
            "100%|██████████| 100/100 [00:19<00:00,  5.26it/s]\n"
          ]
        },
        {
          "output_type": "stream",
          "name": "stdout",
          "text": [
            " Batch done: Kept 69, Dropped 31\n",
            "\n",
            " Processing batch 65 (100 videos)...\n",
            "\n"
          ]
        },
        {
          "output_type": "stream",
          "name": "stderr",
          "text": [
            "100%|██████████| 100/100 [00:20<00:00,  4.85it/s]\n"
          ]
        },
        {
          "output_type": "stream",
          "name": "stdout",
          "text": [
            " Batch done: Kept 66, Dropped 34\n",
            "\n",
            " Processing batch 66 (100 videos)...\n",
            "\n"
          ]
        },
        {
          "output_type": "stream",
          "name": "stderr",
          "text": [
            "100%|██████████| 100/100 [00:22<00:00,  4.38it/s]\n"
          ]
        },
        {
          "output_type": "stream",
          "name": "stdout",
          "text": [
            " Batch done: Kept 71, Dropped 29\n",
            "\n",
            " Processing batch 67 (100 videos)...\n",
            "\n"
          ]
        },
        {
          "output_type": "stream",
          "name": "stderr",
          "text": [
            "100%|██████████| 100/100 [00:21<00:00,  4.67it/s]\n"
          ]
        },
        {
          "output_type": "stream",
          "name": "stdout",
          "text": [
            " Batch done: Kept 61, Dropped 39\n",
            "\n",
            " Processing batch 68 (100 videos)...\n",
            "\n"
          ]
        },
        {
          "output_type": "stream",
          "name": "stderr",
          "text": [
            "100%|██████████| 100/100 [00:20<00:00,  4.89it/s]\n"
          ]
        },
        {
          "output_type": "stream",
          "name": "stdout",
          "text": [
            " Batch done: Kept 68, Dropped 32\n",
            "\n",
            " Processing batch 69 (100 videos)...\n",
            "\n"
          ]
        },
        {
          "output_type": "stream",
          "name": "stderr",
          "text": [
            "100%|██████████| 100/100 [00:28<00:00,  3.57it/s]\n"
          ]
        },
        {
          "output_type": "stream",
          "name": "stdout",
          "text": [
            " Batch done: Kept 80, Dropped 20\n",
            "\n",
            " Processing batch 70 (100 videos)...\n",
            "\n"
          ]
        },
        {
          "output_type": "stream",
          "name": "stderr",
          "text": [
            "100%|██████████| 100/100 [00:21<00:00,  4.64it/s]\n"
          ]
        },
        {
          "output_type": "stream",
          "name": "stdout",
          "text": [
            " Batch done: Kept 67, Dropped 33\n",
            "\n",
            " Processing batch 71 (100 videos)...\n",
            "\n"
          ]
        },
        {
          "output_type": "stream",
          "name": "stderr",
          "text": [
            "100%|██████████| 100/100 [00:22<00:00,  4.41it/s]\n"
          ]
        },
        {
          "output_type": "stream",
          "name": "stdout",
          "text": [
            " Batch done: Kept 74, Dropped 26\n",
            "\n",
            " Processing batch 72 (100 videos)...\n",
            "\n"
          ]
        },
        {
          "output_type": "stream",
          "name": "stderr",
          "text": [
            "100%|██████████| 100/100 [00:22<00:00,  4.51it/s]\n"
          ]
        },
        {
          "output_type": "stream",
          "name": "stdout",
          "text": [
            " Batch done: Kept 52, Dropped 48\n",
            "\n",
            " Processing batch 73 (100 videos)...\n",
            "\n"
          ]
        },
        {
          "output_type": "stream",
          "name": "stderr",
          "text": [
            "100%|██████████| 100/100 [00:21<00:00,  4.64it/s]\n"
          ]
        },
        {
          "output_type": "stream",
          "name": "stdout",
          "text": [
            " Batch done: Kept 46, Dropped 54\n",
            "\n",
            " Processing batch 74 (100 videos)...\n",
            "\n"
          ]
        },
        {
          "output_type": "stream",
          "name": "stderr",
          "text": [
            "100%|██████████| 100/100 [00:20<00:00,  4.83it/s]\n"
          ]
        },
        {
          "output_type": "stream",
          "name": "stdout",
          "text": [
            " Batch done: Kept 50, Dropped 50\n",
            "\n",
            " Processing batch 75 (100 videos)...\n",
            "\n"
          ]
        },
        {
          "output_type": "stream",
          "name": "stderr",
          "text": [
            "100%|██████████| 100/100 [00:19<00:00,  5.05it/s]\n"
          ]
        },
        {
          "output_type": "stream",
          "name": "stdout",
          "text": [
            " Batch done: Kept 78, Dropped 22\n",
            "\n",
            " Processing batch 76 (100 videos)...\n",
            "\n"
          ]
        },
        {
          "output_type": "stream",
          "name": "stderr",
          "text": [
            "100%|██████████| 100/100 [00:20<00:00,  4.93it/s]\n"
          ]
        },
        {
          "output_type": "stream",
          "name": "stdout",
          "text": [
            " Batch done: Kept 65, Dropped 35\n",
            "\n",
            " Processing batch 77 (100 videos)...\n",
            "\n"
          ]
        },
        {
          "output_type": "stream",
          "name": "stderr",
          "text": [
            "100%|██████████| 100/100 [00:20<00:00,  4.97it/s]\n"
          ]
        },
        {
          "output_type": "stream",
          "name": "stdout",
          "text": [
            " Batch done: Kept 58, Dropped 42\n",
            "\n",
            " Processing batch 78 (100 videos)...\n",
            "\n"
          ]
        },
        {
          "output_type": "stream",
          "name": "stderr",
          "text": [
            "100%|██████████| 100/100 [00:23<00:00,  4.31it/s]\n"
          ]
        },
        {
          "output_type": "stream",
          "name": "stdout",
          "text": [
            " Batch done: Kept 59, Dropped 41\n",
            "\n",
            " Processing batch 79 (100 videos)...\n",
            "\n"
          ]
        },
        {
          "output_type": "stream",
          "name": "stderr",
          "text": [
            "100%|██████████| 100/100 [00:18<00:00,  5.53it/s]\n"
          ]
        },
        {
          "output_type": "stream",
          "name": "stdout",
          "text": [
            " Batch done: Kept 87, Dropped 13\n",
            "\n",
            " Processing batch 80 (100 videos)...\n",
            "\n"
          ]
        },
        {
          "output_type": "stream",
          "name": "stderr",
          "text": [
            "100%|██████████| 100/100 [00:20<00:00,  4.77it/s]\n"
          ]
        },
        {
          "output_type": "stream",
          "name": "stdout",
          "text": [
            " Batch done: Kept 57, Dropped 43\n",
            "\n",
            " Processing batch 81 (100 videos)...\n",
            "\n"
          ]
        },
        {
          "output_type": "stream",
          "name": "stderr",
          "text": [
            "100%|██████████| 100/100 [00:21<00:00,  4.75it/s]\n"
          ]
        },
        {
          "output_type": "stream",
          "name": "stdout",
          "text": [
            " Batch done: Kept 46, Dropped 54\n",
            "\n",
            " Processing batch 82 (100 videos)...\n",
            "\n"
          ]
        },
        {
          "output_type": "stream",
          "name": "stderr",
          "text": [
            "100%|██████████| 100/100 [00:20<00:00,  4.80it/s]\n"
          ]
        },
        {
          "output_type": "stream",
          "name": "stdout",
          "text": [
            " Batch done: Kept 58, Dropped 42\n",
            "\n",
            " Processing batch 83 (100 videos)...\n",
            "\n"
          ]
        },
        {
          "output_type": "stream",
          "name": "stderr",
          "text": [
            "100%|██████████| 100/100 [00:20<00:00,  4.99it/s]\n"
          ]
        },
        {
          "output_type": "stream",
          "name": "stdout",
          "text": [
            " Batch done: Kept 71, Dropped 29\n",
            "\n",
            " Processing batch 84 (100 videos)...\n",
            "\n"
          ]
        },
        {
          "output_type": "stream",
          "name": "stderr",
          "text": [
            "100%|██████████| 100/100 [00:18<00:00,  5.30it/s]\n"
          ]
        },
        {
          "output_type": "stream",
          "name": "stdout",
          "text": [
            " Batch done: Kept 69, Dropped 31\n",
            "\n",
            " Processing batch 85 (100 videos)...\n",
            "\n"
          ]
        },
        {
          "output_type": "stream",
          "name": "stderr",
          "text": [
            "100%|██████████| 100/100 [00:22<00:00,  4.42it/s]\n"
          ]
        },
        {
          "output_type": "stream",
          "name": "stdout",
          "text": [
            " Batch done: Kept 70, Dropped 30\n",
            "\n",
            " Processing batch 86 (100 videos)...\n",
            "\n"
          ]
        },
        {
          "output_type": "stream",
          "name": "stderr",
          "text": [
            "100%|██████████| 100/100 [00:21<00:00,  4.73it/s]\n"
          ]
        },
        {
          "output_type": "stream",
          "name": "stdout",
          "text": [
            " Batch done: Kept 69, Dropped 31\n",
            "\n",
            " Processing batch 87 (100 videos)...\n",
            "\n"
          ]
        },
        {
          "output_type": "stream",
          "name": "stderr",
          "text": [
            "100%|██████████| 100/100 [00:20<00:00,  4.95it/s]\n"
          ]
        },
        {
          "output_type": "stream",
          "name": "stdout",
          "text": [
            " Batch done: Kept 49, Dropped 51\n",
            "\n",
            " Processing batch 88 (100 videos)...\n",
            "\n"
          ]
        },
        {
          "output_type": "stream",
          "name": "stderr",
          "text": [
            "100%|██████████| 100/100 [00:21<00:00,  4.73it/s]\n"
          ]
        },
        {
          "output_type": "stream",
          "name": "stdout",
          "text": [
            " Batch done: Kept 73, Dropped 27\n",
            "\n",
            " Processing batch 89 (100 videos)...\n",
            "\n"
          ]
        },
        {
          "output_type": "stream",
          "name": "stderr",
          "text": [
            "100%|██████████| 100/100 [00:23<00:00,  4.32it/s]\n"
          ]
        },
        {
          "output_type": "stream",
          "name": "stdout",
          "text": [
            " Batch done: Kept 76, Dropped 24\n",
            "\n",
            " Processing batch 90 (100 videos)...\n",
            "\n"
          ]
        },
        {
          "output_type": "stream",
          "name": "stderr",
          "text": [
            "100%|██████████| 100/100 [00:20<00:00,  4.92it/s]\n"
          ]
        },
        {
          "output_type": "stream",
          "name": "stdout",
          "text": [
            " Batch done: Kept 65, Dropped 35\n",
            "\n",
            " Processing batch 91 (100 videos)...\n",
            "\n"
          ]
        },
        {
          "output_type": "stream",
          "name": "stderr",
          "text": [
            "100%|██████████| 100/100 [00:19<00:00,  5.16it/s]\n"
          ]
        },
        {
          "output_type": "stream",
          "name": "stdout",
          "text": [
            " Batch done: Kept 71, Dropped 29\n",
            "\n",
            " Processing batch 92 (100 videos)...\n",
            "\n"
          ]
        },
        {
          "output_type": "stream",
          "name": "stderr",
          "text": [
            "100%|██████████| 100/100 [00:21<00:00,  4.67it/s]\n"
          ]
        },
        {
          "output_type": "stream",
          "name": "stdout",
          "text": [
            " Batch done: Kept 44, Dropped 56\n",
            "\n",
            " Processing batch 93 (100 videos)...\n",
            "\n"
          ]
        },
        {
          "output_type": "stream",
          "name": "stderr",
          "text": [
            "100%|██████████| 100/100 [00:19<00:00,  5.02it/s]\n"
          ]
        },
        {
          "output_type": "stream",
          "name": "stdout",
          "text": [
            " Batch done: Kept 69, Dropped 31\n",
            "\n",
            " Processing batch 94 (100 videos)...\n",
            "\n"
          ]
        },
        {
          "output_type": "stream",
          "name": "stderr",
          "text": [
            "100%|██████████| 100/100 [00:22<00:00,  4.45it/s]\n"
          ]
        },
        {
          "output_type": "stream",
          "name": "stdout",
          "text": [
            " Batch done: Kept 67, Dropped 33\n",
            "\n",
            " Processing batch 95 (100 videos)...\n",
            "\n"
          ]
        },
        {
          "output_type": "stream",
          "name": "stderr",
          "text": [
            "100%|██████████| 100/100 [00:21<00:00,  4.74it/s]\n"
          ]
        },
        {
          "output_type": "stream",
          "name": "stdout",
          "text": [
            " Batch done: Kept 84, Dropped 16\n",
            "\n",
            " Processing batch 96 (100 videos)...\n",
            "\n"
          ]
        },
        {
          "output_type": "stream",
          "name": "stderr",
          "text": [
            "100%|██████████| 100/100 [00:21<00:00,  4.65it/s]\n"
          ]
        },
        {
          "output_type": "stream",
          "name": "stdout",
          "text": [
            " Batch done: Kept 80, Dropped 20\n",
            "\n",
            " Processing batch 97 (100 videos)...\n",
            "\n"
          ]
        },
        {
          "output_type": "stream",
          "name": "stderr",
          "text": [
            "100%|██████████| 100/100 [00:20<00:00,  4.87it/s]\n"
          ]
        },
        {
          "output_type": "stream",
          "name": "stdout",
          "text": [
            " Batch done: Kept 73, Dropped 27\n",
            "\n",
            " Processing batch 98 (100 videos)...\n",
            "\n"
          ]
        },
        {
          "output_type": "stream",
          "name": "stderr",
          "text": [
            "100%|██████████| 100/100 [00:21<00:00,  4.71it/s]\n"
          ]
        },
        {
          "output_type": "stream",
          "name": "stdout",
          "text": [
            " Batch done: Kept 55, Dropped 45\n",
            "\n",
            " Processing batch 99 (100 videos)...\n",
            "\n"
          ]
        },
        {
          "output_type": "stream",
          "name": "stderr",
          "text": [
            "100%|██████████| 100/100 [00:23<00:00,  4.22it/s]\n"
          ]
        },
        {
          "output_type": "stream",
          "name": "stdout",
          "text": [
            " Batch done: Kept 66, Dropped 34\n",
            "\n",
            " Processing batch 100 (100 videos)...\n",
            "\n"
          ]
        },
        {
          "output_type": "stream",
          "name": "stderr",
          "text": [
            "100%|██████████| 100/100 [00:21<00:00,  4.71it/s]\n"
          ]
        },
        {
          "output_type": "stream",
          "name": "stdout",
          "text": [
            " Batch done: Kept 55, Dropped 45\n",
            "\n",
            " Processing batch 101 (100 videos)...\n",
            "\n"
          ]
        },
        {
          "output_type": "stream",
          "name": "stderr",
          "text": [
            "100%|██████████| 100/100 [00:20<00:00,  4.80it/s]\n"
          ]
        },
        {
          "output_type": "stream",
          "name": "stdout",
          "text": [
            " Batch done: Kept 74, Dropped 26\n",
            "\n",
            " Processing batch 102 (66 videos)...\n",
            "\n"
          ]
        },
        {
          "output_type": "stream",
          "name": "stderr",
          "text": [
            "100%|██████████| 66/66 [00:12<00:00,  5.14it/s]"
          ]
        },
        {
          "output_type": "stream",
          "name": "stdout",
          "text": [
            " Batch done: Kept 51, Dropped 15\n",
            "\n",
            " All Batches Completed!\n",
            " Total Kept: 6560 (speech_ratio >= 0.85)\n",
            " Total Dropped: 3606 (too silent or failed)\n"
          ]
        },
        {
          "output_type": "stream",
          "name": "stderr",
          "text": [
            "\n"
          ]
        }
      ],
      "source": [
        "import os\n",
        "import shutil\n",
        "import wave\n",
        "import contextlib\n",
        "import webrtcvad\n",
        "import collections\n",
        "from tqdm import tqdm\n",
        "import numpy as np\n",
        "\n",
        "\n",
        "video_dir = \"/content/drive/MyDrive/urfunny2_videos_copied/urfunny2_videos\"\n",
        "filtered_output_dir = \"/content/drive/MyDrive/urfunny2_audio_filtered_videos_vad\"\n",
        "os.makedirs(filtered_output_dir, exist_ok=True)\n",
        "\n",
        "\n",
        "SPEECH_RATIO_THRESHOLD = 0.85\n",
        "BATCH_SIZE = 100\n",
        "\n",
        "\n",
        "def read_wave(path):\n",
        "    with contextlib.closing(wave.open(path, 'rb')) as wf:\n",
        "        assert wf.getnchannels() == 1\n",
        "        assert wf.getsampwidth() == 2\n",
        "        assert wf.getframerate() in (8000, 16000, 32000, 48000)\n",
        "        pcm_data = wf.readframes(wf.getnframes())\n",
        "        return pcm_data, wf.getframerate()\n",
        "\n",
        "def write_wav(pcm_data, sample_rate, out_path):\n",
        "    with contextlib.closing(wave.open(out_path, 'wb')) as wf:\n",
        "        wf.setnchannels(1)\n",
        "        wf.setsampwidth(2)\n",
        "        wf.setframerate(sample_rate)\n",
        "        wf.writeframes(pcm_data)\n",
        "\n",
        "def extract_audio_ffmpeg(video_path, output_wav_path):\n",
        "    cmd = f\"ffmpeg -y -loglevel error -i '{video_path}' -ar 16000 -ac 1 -vn '{output_wav_path}'\"\n",
        "    return os.system(cmd) == 0\n",
        "\n",
        "def calculate_vad_ratio(wav_path):\n",
        "    try:\n",
        "        audio, sample_rate = read_wave(wav_path)\n",
        "        vad = webrtcvad.Vad(2)\n",
        "        frame_duration = 30  # ms\n",
        "        frame_size = int(sample_rate * frame_duration / 1000) * 2\n",
        "        frames = [audio[i:i+frame_size] for i in range(0, len(audio), frame_size)]\n",
        "        voiced = sum(1 for frame in frames if len(frame) == frame_size and vad.is_speech(frame, sample_rate))\n",
        "        return voiced / len(frames) if frames else 0.0\n",
        "    except Exception as e:\n",
        "        print(f\"[ERROR] VAD failed for {wav_path}: {e}\")\n",
        "        return 0.0\n",
        "\n",
        "\n",
        "video_files = sorted([f for f in os.listdir(video_dir) if f.endswith(\".mp4\")])\n",
        "total_videos = len(video_files)\n",
        "print(f\" Total videos to process: {total_videos}\")\n",
        "\n",
        "kept_total = 0\n",
        "dropped_total = 0\n",
        "\n",
        "for i in range(0, total_videos, BATCH_SIZE):\n",
        "    batch = video_files[i:i+BATCH_SIZE]\n",
        "    print(f\"\\n Processing batch {i//BATCH_SIZE + 1} ({len(batch)} videos)...\\n\")\n",
        "\n",
        "    kept_count, dropped_count = 0, 0\n",
        "\n",
        "    for video_file in tqdm(batch):\n",
        "        video_path = os.path.join(video_dir, video_file)\n",
        "        temp_wav = \"temp_vad.wav\"\n",
        "\n",
        "        if extract_audio_ffmpeg(video_path, temp_wav):\n",
        "            ratio = calculate_vad_ratio(temp_wav)\n",
        "            os.remove(temp_wav)\n",
        "\n",
        "            if ratio >= SPEECH_RATIO_THRESHOLD:\n",
        "                shutil.copy(video_path, os.path.join(filtered_output_dir, video_file))\n",
        "                kept_count += 1\n",
        "            else:\n",
        "                dropped_count += 1\n",
        "        else:\n",
        "            print(f\"[ERROR] Failed to extract audio: {video_file}\")\n",
        "            dropped_count += 1\n",
        "\n",
        "    kept_total += kept_count\n",
        "    dropped_total += dropped_count\n",
        "\n",
        "    print(f\" Batch done: Kept {kept_count}, Dropped {dropped_count}\")\n",
        "\n",
        "print(\"\\n All Batches Completed!\")\n",
        "print(f\" Total Kept: {kept_total} (speech_ratio >= {SPEECH_RATIO_THRESHOLD})\")\n",
        "print(f\" Total Dropped: {dropped_total} (too silent or failed)\")\n"
      ]
    },
    {
      "cell_type": "code",
      "source": [
        "import os\n",
        "import cv2\n",
        "import shutil\n",
        "from tqdm import tqdm\n",
        "\n",
        "video_dir = \"/content/drive/MyDrive/urfunny2_audio_filtered_videos_vad\"\n",
        "filtered_output_dir = \"/content/drive/MyDrive/urfunny2_filtered_videos_visual_opencv\"\n",
        "os.makedirs(filtered_output_dir, exist_ok=True)\n",
        "\n",
        "face_cascade = cv2.CascadeClassifier(cv2.data.haarcascades + \"haarcascade_frontalface_default.xml\")\n",
        "\n",
        "def face_detect_ratio(video_path, sample_rate=2, min_ratio=0.6):\n",
        "    cap = cv2.VideoCapture(video_path)\n",
        "    fps = cap.get(cv2.CAP_PROP_FPS)\n",
        "    interval = max(1, int(fps // sample_rate))\n",
        "\n",
        "    total_sampled = 0\n",
        "    face_frames = 0\n",
        "    idx = 0\n",
        "\n",
        "    while True:\n",
        "        success, frame = cap.read()\n",
        "        if not success:\n",
        "            break\n",
        "        if idx % interval == 0:\n",
        "            gray = cv2.cvtColor(frame, cv2.COLOR_BGR2GRAY)\n",
        "            faces = face_cascade.detectMultiScale(gray, 1.3, 5)\n",
        "            if len(faces) > 0:\n",
        "                face_frames += 1\n",
        "            total_sampled += 1\n",
        "        idx += 1\n",
        "\n",
        "    cap.release()\n",
        "    if total_sampled == 0:\n",
        "        return 0.0\n",
        "    return face_frames / total_sampled\n",
        "\n",
        "video_files = sorted([f for f in os.listdir(video_dir) if f.endswith(\".mp4\")])\n",
        "print(f\" Total videos to process: {len(video_files)}\")\n",
        "kept = 0\n",
        "dropped = 0\n",
        "\n",
        "for vid in tqdm(video_files):\n",
        "    path = os.path.join(video_dir, vid)\n",
        "    try:\n",
        "        ratio = face_detect_ratio(path)\n",
        "        if ratio >= 0.6:\n",
        "            shutil.copy(path, os.path.join(filtered_output_dir, vid))\n",
        "            kept += 1\n",
        "        else:\n",
        "            dropped += 1\n",
        "    except Exception as e:\n",
        "        print(f\"[ERROR] {vid}: {e}\")\n",
        "        dropped += 1\n",
        "\n",
        "print(f\"\\n Done! Kept: {kept}, Dropped: {dropped}\")\n"
      ],
      "metadata": {
        "colab": {
          "base_uri": "https://localhost:8080/"
        },
        "id": "U_VyGhSf_kti",
        "outputId": "df6353e6-d0bc-4bf6-b205-219ea355edeb"
      },
      "execution_count": null,
      "outputs": [
        {
          "metadata": {
            "tags": null
          },
          "name": "stdout",
          "output_type": "stream",
          "text": [
            " Total videos to process: 6609\n"
          ]
        },
        {
          "output_type": "stream",
          "name": "stderr",
          "text": [
            "100%|██████████| 6609/6609 [3:35:35<00:00,  1.96s/it]"
          ]
        },
        {
          "output_type": "stream",
          "name": "stdout",
          "text": [
            "\n",
            " Done! Kept: 1329, Dropped: 5280\n"
          ]
        },
        {
          "output_type": "stream",
          "name": "stderr",
          "text": [
            "\n"
          ]
        }
      ]
    },
    {
      "cell_type": "code",
      "source": [
        "import cv2\n",
        "import os\n",
        "import numpy as np\n",
        "from tqdm import tqdm\n",
        "import shutil\n",
        "\n",
        "video_dir = \"/content/drive/MyDrive/urfunny2_filtered_videos\"\n",
        "output_dir = \"/content/drive/MyDrive/urfunny2_final_videos_motion_secondwise\"\n",
        "os.makedirs(output_dir, exist_ok=True)\n",
        "\n",
        "PIXEL_DIFF_THRESHOLD = 5.0\n",
        "STATIC_RATIO_THRESHOLD = 0.8\n",
        "MIN_DURATION = 3\n",
        "\n",
        "def static_video_detect(video_path):\n",
        "    cap = cv2.VideoCapture(video_path)\n",
        "    fps = cap.get(cv2.CAP_PROP_FPS)\n",
        "    total_frames = int(cap.get(cv2.CAP_PROP_FRAME_COUNT))\n",
        "    duration = total_frames / fps\n",
        "    if duration < MIN_DURATION:\n",
        "        cap.release()\n",
        "        return False\n",
        "\n",
        "    frame_indices = [int(fps * t) for t in range(int(duration))]\n",
        "    sampled_frames = []\n",
        "\n",
        "    for idx in frame_indices:\n",
        "        cap.set(cv2.CAP_PROP_POS_FRAMES, idx)\n",
        "        ret, frame = cap.read()\n",
        "        if not ret:\n",
        "            continue\n",
        "        gray = cv2.cvtColor(frame, cv2.COLOR_BGR2GRAY)\n",
        "        sampled_frames.append(gray)\n",
        "    cap.release()\n",
        "\n",
        "    if len(sampled_frames) < 2:\n",
        "        return True\n",
        "\n",
        "    diffs = [np.mean(np.abs(sampled_frames[i+1] - sampled_frames[i])) for i in range(len(sampled_frames)-1)]\n",
        "    static_count = sum(d < PIXEL_DIFF_THRESHOLD for d in diffs)\n",
        "    static_ratio = static_count / len(diffs)\n",
        "\n",
        "    return static_ratio >= STATIC_RATIO_THRESHOLD\n",
        "\n",
        "video_files = sorted([f for f in os.listdir(video_dir) if f.endswith('.mp4')])\n",
        "kept = 0\n",
        "dropped = 0\n",
        "\n",
        "for fname in tqdm(video_files, desc=\"Second-wise Motion Filtering\"):\n",
        "    fpath = os.path.join(video_dir, fname)\n",
        "    if static_video_detect(fpath):\n",
        "        dropped += 1\n",
        "        print(f\"[DROP] {fname} - Too many static seconds\")\n",
        "    else:\n",
        "        shutil.copy(fpath, os.path.join(output_dir, fname))\n",
        "        kept += 1\n",
        "\n",
        "print(f\"\\n Second-wise filtering completed: Kept {kept}, Dropped {dropped}\")\n"
      ],
      "metadata": {
        "colab": {
          "base_uri": "https://localhost:8080/"
        },
        "id": "HotlYME81KWe",
        "outputId": "b3f18b76-d7b8-490d-fbb8-5f4d2fc5b654"
      },
      "execution_count": null,
      "outputs": [
        {
          "output_type": "stream",
          "name": "stderr",
          "text": [
            "Second-wise Motion Filtering:  15%|█▍        | 194/1329 [01:54<09:45,  1.94it/s]"
          ]
        },
        {
          "output_type": "stream",
          "name": "stdout",
          "text": [
            "[DROP] 11561.mp4 - Too many static seconds\n"
          ]
        },
        {
          "output_type": "stream",
          "name": "stderr",
          "text": [
            "Second-wise Motion Filtering:  16%|█▌        | 208/1329 [01:57<03:55,  4.76it/s]"
          ]
        },
        {
          "output_type": "stream",
          "name": "stdout",
          "text": [
            "[DROP] 11749.mp4 - Too many static seconds\n"
          ]
        },
        {
          "output_type": "stream",
          "name": "stderr",
          "text": [
            "Second-wise Motion Filtering:  27%|██▋       | 360/1329 [03:13<07:42,  2.09it/s]"
          ]
        },
        {
          "output_type": "stream",
          "name": "stdout",
          "text": [
            "[DROP] 13458.mp4 - Too many static seconds\n"
          ]
        },
        {
          "output_type": "stream",
          "name": "stderr",
          "text": [
            "Second-wise Motion Filtering:  64%|██████▍   | 857/1329 [06:56<02:55,  2.68it/s]"
          ]
        },
        {
          "output_type": "stream",
          "name": "stdout",
          "text": [
            "[DROP] 486.mp4 - Too many static seconds\n"
          ]
        },
        {
          "output_type": "stream",
          "name": "stderr",
          "text": [
            "Second-wise Motion Filtering:  65%|██████▌   | 869/1329 [07:01<03:39,  2.10it/s]"
          ]
        },
        {
          "output_type": "stream",
          "name": "stdout",
          "text": [
            "[DROP] 49.mp4 - Too many static seconds\n"
          ]
        },
        {
          "output_type": "stream",
          "name": "stderr",
          "text": [
            "Second-wise Motion Filtering:  70%|██████▉   | 928/1329 [07:26<04:19,  1.55it/s]"
          ]
        },
        {
          "output_type": "stream",
          "name": "stdout",
          "text": [
            "[DROP] 5531.mp4 - Too many static seconds\n"
          ]
        },
        {
          "output_type": "stream",
          "name": "stderr",
          "text": [
            "Second-wise Motion Filtering: 100%|██████████| 1329/1329 [10:33<00:00,  2.10it/s]"
          ]
        },
        {
          "output_type": "stream",
          "name": "stdout",
          "text": [
            "\n",
            " Second-wise filtering completed: Kept 1323, Dropped 6\n"
          ]
        },
        {
          "output_type": "stream",
          "name": "stderr",
          "text": [
            "\n"
          ]
        }
      ]
    },
    {
      "cell_type": "code",
      "source": [
        "import os\n",
        "import cv2\n",
        "import numpy as np\n",
        "from tqdm import tqdm\n",
        "import shutil\n",
        "import pandas as pd\n",
        "\n",
        "video_dir = \"/content/drive/MyDrive/urfunny2_final_videos_motion_secondwise\"\n",
        "output_dir = \"/content/drive/MyDrive/urfunny2_final_videos_no_ppt\"\n",
        "os.makedirs(output_dir, exist_ok=True)\n",
        "\n",
        "\n",
        "SAMPLE_RATE = 1\n",
        "PPT_THRESHOLD = 0.3\n",
        "PIXEL_EDGE_RATIO = 0.02\n",
        "COLOR_STD_THRESHOLD = 15\n",
        "\n",
        "def ppt_frame_detect(image):\n",
        "    gray = cv2.cvtColor(image, cv2.COLOR_BGR2GRAY)\n",
        "    edges = cv2.Canny(gray, 50, 150)\n",
        "    edge_ratio = np.sum(edges > 0) / edges.size\n",
        "    color_std = np.std(image)\n",
        "    return edge_ratio < PIXEL_EDGE_RATIO and color_std < COLOR_STD_THRESHOLD\n",
        "\n",
        "def video_most_ppt(video_path):\n",
        "    cap = cv2.VideoCapture(video_path)\n",
        "    fps = cap.get(cv2.CAP_PROP_FPS)\n",
        "    total_frames = int(cap.get(cv2.CAP_PROP_FRAME_COUNT))\n",
        "    duration = int(total_frames / fps) if fps > 0 else 0\n",
        "    sampled_ppt_count = 0\n",
        "    total_sampled = 0\n",
        "\n",
        "    for t in range(0, duration, SAMPLE_RATE):\n",
        "        cap.set(cv2.CAP_PROP_POS_MSEC, t * 1000)\n",
        "        ret, frame = cap.read()\n",
        "        if not ret:\n",
        "            continue\n",
        "        total_sampled += 1\n",
        "        if ppt_frame_detect(frame):\n",
        "            sampled_ppt_count += 1\n",
        "\n",
        "    cap.release()\n",
        "    if total_sampled == 0:\n",
        "        return False\n",
        "    return (sampled_ppt_count / total_sampled) > PPT_THRESHOLD\n",
        "\n",
        "video_files = sorted([f for f in os.listdir(video_dir) if f.endswith(\".mp4\")])\n",
        "kept, dropped = 0, 0\n",
        "\n",
        "for fname in tqdm(video_files, desc=\"PPT Filtering\"):\n",
        "    fpath = os.path.join(video_dir, fname)\n",
        "    if video_most_ppt(fpath):\n",
        "        dropped += 1\n",
        "    else:\n",
        "        shutil.copy(fpath, os.path.join(output_dir, fname))\n",
        "        kept += 1\n",
        "\n",
        "summary_df = pd.DataFrame({\n",
        "    \"Total Videos\": [len(video_files)],\n",
        "    \"Kept\": [kept],\n",
        "    \"Dropped (PPT Dominated)\": [dropped]\n",
        "})\n",
        "print(summary_df)"
      ],
      "metadata": {
        "colab": {
          "base_uri": "https://localhost:8080/"
        },
        "id": "obUP3lxjBkl4",
        "outputId": "28b43605-c68c-473c-cd10-eeffb5246ebf"
      },
      "execution_count": null,
      "outputs": [
        {
          "output_type": "stream",
          "name": "stderr",
          "text": [
            "PPT Filtering: 100%|██████████| 1323/1323 [10:06<00:00,  2.18it/s]"
          ]
        },
        {
          "output_type": "stream",
          "name": "stdout",
          "text": [
            "   Total Videos  Kept  Dropped (PPT Dominated)\n",
            "0          1323  1322                        1\n"
          ]
        },
        {
          "output_type": "stream",
          "name": "stderr",
          "text": [
            "\n"
          ]
        }
      ]
    },
    {
      "cell_type": "code",
      "source": [
        "import os\n",
        "\n",
        "final_video_dir = \"/content/drive/MyDrive/urfunny2_final_videos_no_ppt\"\n",
        "video_files = [f for f in os.listdir(final_video_dir) if f.endswith(\".mp4\")]\n",
        "print(f\" Total videos remaining after all filters: {len(video_files)}\")\n"
      ],
      "metadata": {
        "id": "EhZ3kpfAFM9k",
        "outputId": "11220fbc-59b8-4027-d224-c9bb981ef0e1",
        "colab": {
          "base_uri": "https://localhost:8080/"
        }
      },
      "execution_count": null,
      "outputs": [
        {
          "output_type": "stream",
          "name": "stdout",
          "text": [
            " Total videos remaining after all filters: 1322\n"
          ]
        }
      ]
    }
  ],
  "metadata": {
    "accelerator": "GPU",
    "colab": {
      "gpuType": "A100",
      "machine_shape": "hm",
      "provenance": []
    },
    "kernelspec": {
      "display_name": "Python 3",
      "name": "python3"
    },
    "language_info": {
      "name": "python"
    }
  },
  "nbformat": 4,
  "nbformat_minor": 0
}