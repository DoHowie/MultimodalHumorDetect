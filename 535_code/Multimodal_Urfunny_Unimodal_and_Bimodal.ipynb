{
  "nbformat": 4,
  "nbformat_minor": 0,
  "metadata": {
    "colab": {
      "provenance": [],
      "collapsed_sections": [
        "uu1DPXTaOUhM",
        "f2h99DWYQNJi",
        "FridLIv8QH6O",
        "7mUx1oMzQt2S",
        "N7pDjhpuRCah",
        "qZm95nJDRFne",
        "WOObzIemRJ7w",
        "VJUDMRdsRVO0"
      ]
    },
    "kernelspec": {
      "name": "python3",
      "display_name": "Python 3"
    },
    "language_info": {
      "name": "python"
    }
  },
  "cells": [
    {
      "cell_type": "markdown",
      "source": [
        "## UrFunny Original Features"
      ],
      "metadata": {
        "id": "uu1DPXTaOUhM"
      }
    },
    {
      "cell_type": "code",
      "source": [
        "!wget -O urfunny_features.zip https://www.dropbox.com/sh/9h0pcqmqoplx9p2/AAC8yYikSBVYCSFjm3afFHQva?dl=1\n",
        "!unzip -o urfunny_features.zip\n",
        "\n",
        "import pickle\n",
        "import numpy as np\n",
        "import torch\n",
        "import torch.nn as nn\n",
        "import torch.nn.functional as F\n",
        "\n",
        "with open('data_folds.pkl', 'rb') as f:\n",
        "    data_folds = pickle.load(f)\n",
        "with open('language_sdk.pkl', 'rb') as f:\n",
        "    language_sdk = pickle.load(f)\n",
        "with open('openface_features_sdk.pkl', 'rb') as f:\n",
        "    openface_features_sdk = pickle.load(f)\n",
        "with open('covarep_features_sdk.pkl', 'rb') as f:\n",
        "    covarep_features_sdk = pickle.load(f)\n",
        "with open('humor_label_sdk.pkl', 'rb') as f:\n",
        "    humor_label_sdk = pickle.load(f)\n",
        "with open('word_embedding_list.pkl', 'rb') as f:\n",
        "    word_embedding_list = pickle.load(f)\n",
        "\n",
        "print(\"Data folds:\")\n",
        "for fold in data_folds:\n",
        "    print(f\"  {fold}: {len(data_folds[fold])} samples\")\n",
        "\n",
        "sample_id = data_folds['train'][0]\n",
        "print(\"\\nSample video segment features:\")\n",
        "print(f\"ID: {sample_id}\")\n",
        "print(\"\\nLanguage features:\")\n",
        "print(f\"  Punchline words: {len(language_sdk[sample_id]['punchline_embedding_indexes'])}\")\n",
        "print(f\"  Context sentences: {len(language_sdk[sample_id]['context_embedding_indexes'])}\")\n",
        "print(\"\\nVisual features:\")\n",
        "print(f\"  Punchline shape: {np.array(openface_features_sdk[sample_id]['punchline_features']).shape}\")\n",
        "print(f\"  Context shape: {len(openface_features_sdk[sample_id]['context_features'])}\")\n",
        "print(\"\\nAcoustic features:\")\n",
        "print(f\"  Punchline shape: {np.array(covarep_features_sdk[sample_id]['punchline_features']).shape}\")\n",
        "print(f\"  Context shape: {len(covarep_features_sdk[sample_id]['context_features'])}\")\n",
        "print(f\"\\nHumor label: {humor_label_sdk[sample_id]}\")\n",
        "print(f\"\\nWord embedding dimension: {len(word_embedding_list[0])}\")"
      ],
      "metadata": {
        "colab": {
          "base_uri": "https://localhost:8080/"
        },
        "id": "jYrVCKeqwQ24",
        "outputId": "e0c9526f-dd00-45e5-858e-5220cc0ccb6e"
      },
      "execution_count": null,
      "outputs": [
        {
          "output_type": "stream",
          "name": "stdout",
          "text": [
            "--2025-04-28 05:38:20--  https://www.dropbox.com/sh/9h0pcqmqoplx9p2/AAC8yYikSBVYCSFjm3afFHQva?dl=1\n",
            "Resolving www.dropbox.com (www.dropbox.com)... 162.125.3.18, 2620:100:601d:18::a27d:512\n",
            "Connecting to www.dropbox.com (www.dropbox.com)|162.125.3.18|:443... connected.\n",
            "HTTP request sent, awaiting response... 302 Found\n",
            "Location: https://www.dropbox.com/scl/fo/bt57hdswr8ryay34lsyau/ALP3BB4Dm6_C-UhWfK_pD_Y?rlkey=ct9kmz3lu2vth7katx9jcdbpb&dl=1 [following]\n",
            "--2025-04-28 05:38:20--  https://www.dropbox.com/scl/fo/bt57hdswr8ryay34lsyau/ALP3BB4Dm6_C-UhWfK_pD_Y?rlkey=ct9kmz3lu2vth7katx9jcdbpb&dl=1\n",
            "Reusing existing connection to www.dropbox.com:443.\n",
            "HTTP request sent, awaiting response... 302 Found\n",
            "Location: https://ucb3df300860c7b573f5b268552f.dl.dropboxusercontent.com/zip_download_get/CMAkYdBuU0QxbA3vF4h5OfyXWxYmOCyqtf0CjTBtC4M_LNd8K3CVsK6kvlYXjpBUVwdoiMKKmWes9Dwx2TZ5azqHV5RUt_1cRvOcZNAfPvx3Zw# [following]\n",
            "--2025-04-28 05:38:21--  https://ucb3df300860c7b573f5b268552f.dl.dropboxusercontent.com/zip_download_get/CMAkYdBuU0QxbA3vF4h5OfyXWxYmOCyqtf0CjTBtC4M_LNd8K3CVsK6kvlYXjpBUVwdoiMKKmWes9Dwx2TZ5azqHV5RUt_1cRvOcZNAfPvx3Zw\n",
            "Resolving ucb3df300860c7b573f5b268552f.dl.dropboxusercontent.com (ucb3df300860c7b573f5b268552f.dl.dropboxusercontent.com)... 162.125.5.15, 2620:100:6018:15::a27d:30f\n",
            "Connecting to ucb3df300860c7b573f5b268552f.dl.dropboxusercontent.com (ucb3df300860c7b573f5b268552f.dl.dropboxusercontent.com)|162.125.5.15|:443... connected.\n",
            "HTTP request sent, awaiting response... 200 OK\n",
            "Length: 3752534594 (3.5G) [application/zip]\n",
            "Saving to: ‘urfunny_features.zip’\n",
            "\n",
            "urfunny_features.zi 100%[===================>]   3.49G  70.1MB/s    in 52s     \n",
            "\n",
            "2025-04-28 05:39:13 (69.5 MB/s) - ‘urfunny_features.zip’ saved [3752534594/3752534594]\n",
            "\n",
            "Archive:  urfunny_features.zip\n",
            "warning:  stripped absolute path spec from /\n",
            "mapname:  conversion of  failed\n",
            " extracting: data_folds.pkl          \n",
            " extracting: word_to_idx.pkl         \n",
            " extracting: language_sdk.pkl        \n",
            " extracting: humor_label_sdk.pkl     \n",
            " extracting: word_embedding_list.pkl  \n",
            " extracting: covarep_features_sdk.pkl  \n",
            " extracting: openface_features_sdk.pkl  \n",
            "Data folds:\n",
            "  train: 7614 samples\n",
            "  dev: 980 samples\n",
            "  test: 994 samples\n",
            "\n",
            "Sample video segment features:\n",
            "ID: 1\n",
            "\n",
            "Language features:\n",
            "  Punchline words: 6\n",
            "  Context sentences: 4\n",
            "\n",
            "Visual features:\n",
            "  Punchline shape: (6, 371)\n",
            "  Context shape: 4\n",
            "\n",
            "Acoustic features:\n",
            "  Punchline shape: (6, 81)\n",
            "  Context shape: 4\n",
            "\n",
            "Humor label: 1\n",
            "\n",
            "Word embedding dimension: 300\n"
          ]
        }
      ]
    },
    {
      "cell_type": "markdown",
      "source": [
        "## New Features"
      ],
      "metadata": {
        "id": "f2h99DWYQNJi"
      }
    },
    {
      "cell_type": "code",
      "execution_count": null,
      "metadata": {
        "id": "t1xHZqDSuKj_"
      },
      "outputs": [],
      "source": [
        "import os\n",
        "import shutil\n",
        "\n",
        "video_dir = \"/content/drive/MyDrive/VLMS FOR FUNDUS IMAGES/urfunny2_refined\"\n",
        "text_src = \"/content/drive/MyDrive/urfunny2_text_feature_pkl\"\n",
        "audio_src = \"/content/drive/MyDrive/urfunny2_audios_pkl\"\n",
        "text_dst = \"/content/drive/MyDrive/VLMS FOR FUNDUS IMAGES/urfunny2_1322_text_feature_pkl\"\n",
        "audio_dst = \"/content/drive/MyDrive/VLMS FOR FUNDUS IMAGES/urfunny2_1322_audios_feature_pkl\"\n",
        "\n",
        "os.makedirs(text_dst, exist_ok=True)\n",
        "os.makedirs(audio_dst, exist_ok=True)\n",
        "\n",
        "video_ids = set(os.path.splitext(f)[0] for f in os.listdir(video_dir) if f.endswith(\".mp4\"))\n",
        "\n",
        "count_text = 0\n",
        "for vid in video_ids:\n",
        "    src = os.path.join(text_src, f\"{vid}.pkl\")\n",
        "    dst = os.path.join(text_dst, f\"{vid}.pkl\")\n",
        "    if os.path.exists(src):\n",
        "        shutil.copyfile(src, dst)\n",
        "        count_text += 1\n",
        "\n",
        "count_audio = 0\n",
        "for vid in video_ids:\n",
        "    src = os.path.join(audio_src, f\"{vid}.pkl\")\n",
        "    dst = os.path.join(audio_dst, f\"{vid}.pkl\")\n",
        "    if os.path.exists(src):\n",
        "        shutil.copyfile(src, dst)\n",
        "        count_audio += 1\n",
        "\n",
        "print(f\"Completed: text: {count_text}，audio: {count_audio}\")"
      ]
    },
    {
      "cell_type": "code",
      "source": [
        "import os\n",
        "\n",
        "visual_dir = \"/content/zip files/new_yo/urfunny2_visual_pkl\"\n",
        "audio_dir = \"/content/zip files/new_yo/urfunny2_1322_audios_feature_pkl\"\n",
        "# text_dir = \"/content/drive/MyDrive/VLMS FOR FUNDUS IMAGES/urfunny2_1322_text_feature_pkl\"\n",
        "\n",
        "visual_ids = set(os.path.splitext(f)[0] for f in os.listdir(visual_dir) if f.endswith(\".pkl\"))\n",
        "audio_ids = set(os.path.splitext(f)[0] for f in os.listdir(audio_dir) if f.endswith(\".pkl\"))\n",
        "text_ids  = set(os.path.splitext(f)[0] for f in os.listdir(text_dir)  if f.endswith(\".pkl\"))\n",
        "\n",
        "intersection = visual_ids & audio_ids & text_ids\n",
        "\n",
        "print(f\"Number of visual files: {len(visual_ids)}\")\n",
        "print(f\"Number of audio files: {len(audio_ids)}\")\n",
        "print(f\"Number of text files: {len(text_ids)}\")\n",
        "print(f\"Number of files aligned across all modalities: {len(intersection)}\")"
      ],
      "metadata": {
        "id": "tHeXA-J9xzUm",
        "colab": {
          "base_uri": "https://localhost:8080/"
        },
        "outputId": "1c681813-7424-490e-f40f-e85bbacdaafa"
      },
      "execution_count": null,
      "outputs": [
        {
          "output_type": "stream",
          "name": "stdout",
          "text": [
            "Number of visual files: 1322\n",
            "Number of audio files: 1322\n",
            "Number of text files: 1322\n",
            "Number of files aligned across all modalities: 1322\n"
          ]
        }
      ]
    },
    {
      "cell_type": "code",
      "source": [
        "!apt-get install p7zip-full"
      ],
      "metadata": {
        "colab": {
          "base_uri": "https://localhost:8080/"
        },
        "id": "vyFLw3DUxunb",
        "outputId": "13bfcfe5-0b65-4df2-987d-0c5ac511d3bf"
      },
      "execution_count": null,
      "outputs": [
        {
          "output_type": "stream",
          "name": "stdout",
          "text": [
            "Reading package lists... Done\n",
            "Building dependency tree... Done\n",
            "Reading state information... Done\n",
            "p7zip-full is already the newest version (16.02+dfsg-8).\n",
            "0 upgraded, 0 newly installed, 0 to remove and 34 not upgraded.\n"
          ]
        }
      ]
    },
    {
      "cell_type": "code",
      "source": [
        "!7z x \"/content/zip files/urfunny2_visual_pkl-20250427T063933Z-002.zip\" -o\"/content/zip files/new_yo\""
      ],
      "metadata": {
        "colab": {
          "base_uri": "https://localhost:8080/"
        },
        "id": "qiIZSLx8xvdE",
        "outputId": "4a930393-0f18-4ff8-f9cd-8f249e45a0ba"
      },
      "execution_count": null,
      "outputs": [
        {
          "output_type": "stream",
          "name": "stdout",
          "text": [
            "\n",
            "7-Zip [64] 16.02 : Copyright (c) 1999-2016 Igor Pavlov : 2016-05-21\n",
            "p7zip Version 16.02 (locale=en_US.UTF-8,Utf16=on,HugeFiles=on,64 bits,2 CPUs Intel(R) Xeon(R) CPU @ 2.20GHz (406F0),ASM,AES-NI)\n",
            "\n",
            "Scanning the drive for archives:\n",
            "  0M Scan /content/zip files/\b\b\b\b\b\b\b\b\b\b\b\b\b\b\b\b\b\b\b\b\b\b\b\b\b\b\b\b\b                             \b\b\b\b\b\b\b\b\b\b\b\b\b\b\b\b\b\b\b\b\b\b\b\b\b\b\b\b\b1 file, 897999128 bytes (857 MiB)\n",
            "\n",
            "Extracting archive: /content/zip files/urfunny2_visual_pkl-20250427T063933Z-002.zip\n",
            "--\n",
            "Path = /content/zip files/urfunny2_visual_pkl-20250427T063933Z-002.zip\n",
            "Type = zip\n",
            "Physical Size = 897999128\n",
            "\n",
            "  0%\b\b\b\b    \b\b\b\b  1% 3 - urfunny2_visual_pkl/3999.pkl\b\b\b\b\b\b\b\b\b\b\b\b\b\b\b\b\b\b\b\b\b\b\b\b\b\b\b\b\b\b\b\b\b\b\b\b\b                                     \b\b\b\b\b\b\b\b\b\b\b\b\b\b\b\b\b\b\b\b\b\b\b\b\b\b\b\b\b\b\b\b\b\b\b\b\b  3% 10 - urfunny2_visual_pkl/3609.pkl\b\b\b\b\b\b\b\b\b\b\b\b\b\b\b\b\b\b\b\b\b\b\b\b\b\b\b\b\b\b\b\b\b\b\b\b\b\b                                      \b\b\b\b\b\b\b\b\b\b\b\b\b\b\b\b\b\b\b\b\b\b\b\b\b\b\b\b\b\b\b\b\b\b\b\b\b\b  4% 17 - urfunny2_visual_pkl/3801.pkl\b\b\b\b\b\b\b\b\b\b\b\b\b\b\b\b\b\b\b\b\b\b\b\b\b\b\b\b\b\b\b\b\b\b\b\b\b\b                                      \b\b\b\b\b\b\b\b\b\b\b\b\b\b\b\b\b\b\b\b\b\b\b\b\b\b\b\b\b\b\b\b\b\b\b\b\b\b  6% 23 - urfunny2_visual_pkl/4207.pkl\b\b\b\b\b\b\b\b\b\b\b\b\b\b\b\b\b\b\b\b\b\b\b\b\b\b\b\b\b\b\b\b\b\b\b\b\b\b                                      \b\b\b\b\b\b\b\b\b\b\b\b\b\b\b\b\b\b\b\b\b\b\b\b\b\b\b\b\b\b\b\b\b\b\b\b\b\b  7% 30 - urfunny2_visual_pkl/3250.pkl\b\b\b\b\b\b\b\b\b\b\b\b\b\b\b\b\b\b\b\b\b\b\b\b\b\b\b\b\b\b\b\b\b\b\b\b\b\b                                      \b\b\b\b\b\b\b\b\b\b\b\b\b\b\b\b\b\b\b\b\b\b\b\b\b\b\b\b\b\b\b\b\b\b\b\b\b\b  8% 37 - urfunny2_visual_pkl/3417.pkl\b\b\b\b\b\b\b\b\b\b\b\b\b\b\b\b\b\b\b\b\b\b\b\b\b\b\b\b\b\b\b\b\b\b\b\b\b\b                                      \b\b\b\b\b\b\b\b\b\b\b\b\b\b\b\b\b\b\b\b\b\b\b\b\b\b\b\b\b\b\b\b\b\b\b\b\b\b 10% 43 - urfunny2_visual_pkl/3666.pkl\b\b\b\b\b\b\b\b\b\b\b\b\b\b\b\b\b\b\b\b\b\b\b\b\b\b\b\b\b\b\b\b\b\b\b\b\b\b                                      \b\b\b\b\b\b\b\b\b\b\b\b\b\b\b\b\b\b\b\b\b\b\b\b\b\b\b\b\b\b\b\b\b\b\b\b\b\b 11% 51 - urfunny2_visual_pkl/3060.pkl\b\b\b\b\b\b\b\b\b\b\b\b\b\b\b\b\b\b\b\b\b\b\b\b\b\b\b\b\b\b\b\b\b\b\b\b\b\b                                      \b\b\b\b\b\b\b\b\b\b\b\b\b\b\b\b\b\b\b\b\b\b\b\b\b\b\b\b\b\b\b\b\b\b\b\b\b\b 12% 54 - urfunny2_visual_pkl/3827.pkl\b\b\b\b\b\b\b\b\b\b\b\b\b\b\b\b\b\b\b\b\b\b\b\b\b\b\b\b\b\b\b\b\b\b\b\b\b\b                                      \b\b\b\b\b\b\b\b\b\b\b\b\b\b\b\b\b\b\b\b\b\b\b\b\b\b\b\b\b\b\b\b\b\b\b\b\b\b 14% 64 - urfunny2_visual_pkl/2841.pkl\b\b\b\b\b\b\b\b\b\b\b\b\b\b\b\b\b\b\b\b\b\b\b\b\b\b\b\b\b\b\b\b\b\b\b\b\b\b                                      \b\b\b\b\b\b\b\b\b\b\b\b\b\b\b\b\b\b\b\b\b\b\b\b\b\b\b\b\b\b\b\b\b\b\b\b\b\b 16% 69 - urfunny2_visual_pkl/3022.pkl\b\b\b\b\b\b\b\b\b\b\b\b\b\b\b\b\b\b\b\b\b\b\b\b\b\b\b\b\b\b\b\b\b\b\b\b\b\b                                      \b\b\b\b\b\b\b\b\b\b\b\b\b\b\b\b\b\b\b\b\b\b\b\b\b\b\b\b\b\b\b\b\b\b\b\b\b\b 17% 74 - urfunny2_visual_pkl/2999.pkl\b\b\b\b\b\b\b\b\b\b\b\b\b\b\b\b\b\b\b\b\b\b\b\b\b\b\b\b\b\b\b\b\b\b\b\b\b\b                                      \b\b\b\b\b\b\b\b\b\b\b\b\b\b\b\b\b\b\b\b\b\b\b\b\b\b\b\b\b\b\b\b\b\b\b\b\b\b 18% 80 - urfunny2_visual_pkl/259.pkl\b\b\b\b\b\b\b\b\b\b\b\b\b\b\b\b\b\b\b\b\b\b\b\b\b\b\b\b\b\b\b\b\b\b\b\b\b                                     \b\b\b\b\b\b\b\b\b\b\b\b\b\b\b\b\b\b\b\b\b\b\b\b\b\b\b\b\b\b\b\b\b\b\b\b\b 20% 85 - urfunny2_visual_pkl/2834.pkl\b\b\b\b\b\b\b\b\b\b\b\b\b\b\b\b\b\b\b\b\b\b\b\b\b\b\b\b\b\b\b\b\b\b\b\b\b\b                                      \b\b\b\b\b\b\b\b\b\b\b\b\b\b\b\b\b\b\b\b\b\b\b\b\b\b\b\b\b\b\b\b\b\b\b\b\b\b 21% 92 - urfunny2_visual_pkl/2531.pkl\b\b\b\b\b\b\b\b\b\b\b\b\b\b\b\b\b\b\b\b\b\b\b\b\b\b\b\b\b\b\b\b\b\b\b\b\b\b                                      \b\b\b\b\b\b\b\b\b\b\b\b\b\b\b\b\b\b\b\b\b\b\b\b\b\b\b\b\b\b\b\b\b\b\b\b\b\b 23% 97 - urfunny2_visual_pkl/2812.pkl\b\b\b\b\b\b\b\b\b\b\b\b\b\b\b\b\b\b\b\b\b\b\b\b\b\b\b\b\b\b\b\b\b\b\b\b\b\b                                      \b\b\b\b\b\b\b\b\b\b\b\b\b\b\b\b\b\b\b\b\b\b\b\b\b\b\b\b\b\b\b\b\b\b\b\b\b\b 24% 100 - urfunny2_visual_pkl/2943.pkl\b\b\b\b\b\b\b\b\b\b\b\b\b\b\b\b\b\b\b\b\b\b\b\b\b\b\b\b\b\b\b\b\b\b\b\b\b\b\b                                       \b\b\b\b\b\b\b\b\b\b\b\b\b\b\b\b\b\b\b\b\b\b\b\b\b\b\b\b\b\b\b\b\b\b\b\b\b\b\b 24% 101\b\b\b\b\b\b\b\b        \b\b\b\b\b\b\b\b 24% 101 - urfunny2_visual_pkl/2410.pkl\b\b\b\b\b\b\b\b\b\b\b\b\b\b\b\b\b\b\b\b\b\b\b\b\b\b\b\b\b\b\b\b\b\b\b\b\b\b\b                                       \b\b\b\b\b\b\b\b\b\b\b\b\b\b\b\b\b\b\b\b\b\b\b\b\b\b\b\b\b\b\b\b\b\b\b\b\b\b\b 24% 102 - urfunny2_visual_pkl/2424.pkl\b\b\b\b\b\b\b\b\b\b\b\b\b\b\b\b\b\b\b\b\b\b\b\b\b\b\b\b\b\b\b\b\b\b\b\b\b\b\b                                       \b\b\b\b\b\b\b\b\b\b\b\b\b\b\b\b\b\b\b\b\b\b\b\b\b\b\b\b\b\b\b\b\b\b\b\b\b\b\b 24% 103\b\b\b\b\b\b\b\b        \b\b\b\b\b\b\b\b 24% 103 - urfunny2_visual_pkl/2552.pkl\b\b\b\b\b\b\b\b\b\b\b\b\b\b\b\b\b\b\b\b\b\b\b\b\b\b\b\b\b\b\b\b\b\b\b\b\b\b\b                                       \b\b\b\b\b\b\b\b\b\b\b\b\b\b\b\b\b\b\b\b\b\b\b\b\b\b\b\b\b\b\b\b\b\b\b\b\b\b\b 24% 104 - urfunny2_visual_pkl/2379.pkl\b\b\b\b\b\b\b\b\b\b\b\b\b\b\b\b\b\b\b\b\b\b\b\b\b\b\b\b\b\b\b\b\b\b\b\b\b\b\b                                       \b\b\b\b\b\b\b\b\b\b\b\b\b\b\b\b\b\b\b\b\b\b\b\b\b\b\b\b\b\b\b\b\b\b\b\b\b\b\b 24% 105\b\b\b\b\b\b\b\b        \b\b\b\b\b\b\b\b 25% 109 - urfunny2_visual_pkl/263.pkl\b\b\b\b\b\b\b\b\b\b\b\b\b\b\b\b\b\b\b\b\b\b\b\b\b\b\b\b\b\b\b\b\b\b\b\b\b\b                                      \b\b\b\b\b\b\b\b\b\b\b\b\b\b\b\b\b\b\b\b\b\b\b\b\b\b\b\b\b\b\b\b\b\b\b\b\b\b 26% 111 - urfunny2_visual_pkl/2370.pkl\b\b\b\b\b\b\b\b\b\b\b\b\b\b\b\b\b\b\b\b\b\b\b\b\b\b\b\b\b\b\b\b\b\b\b\b\b\b\b                                       \b\b\b\b\b\b\b\b\b\b\b\b\b\b\b\b\b\b\b\b\b\b\b\b\b\b\b\b\b\b\b\b\b\b\b\b\b\b\b 27% 113 - urfunny2_visual_pkl/2381.pkl\b\b\b\b\b\b\b\b\b\b\b\b\b\b\b\b\b\b\b\b\b\b\b\b\b\b\b\b\b\b\b\b\b\b\b\b\b\b\b                                       \b\b\b\b\b\b\b\b\b\b\b\b\b\b\b\b\b\b\b\b\b\b\b\b\b\b\b\b\b\b\b\b\b\b\b\b\b\b\b 28% 116 - urfunny2_visual_pkl/2075.pkl\b\b\b\b\b\b\b\b\b\b\b\b\b\b\b\b\b\b\b\b\b\b\b\b\b\b\b\b\b\b\b\b\b\b\b\b\b\b\b                                       \b\b\b\b\b\b\b\b\b\b\b\b\b\b\b\b\b\b\b\b\b\b\b\b\b\b\b\b\b\b\b\b\b\b\b\b\b\b\b 29% 120 - urfunny2_visual_pkl/2073.pkl\b\b\b\b\b\b\b\b\b\b\b\b\b\b\b\b\b\b\b\b\b\b\b\b\b\b\b\b\b\b\b\b\b\b\b\b\b\b\b                                       \b\b\b\b\b\b\b\b\b\b\b\b\b\b\b\b\b\b\b\b\b\b\b\b\b\b\b\b\b\b\b\b\b\b\b\b\b\b\b 30% 122 - urfunny2_visual_pkl/2074.pkl\b\b\b\b\b\b\b\b\b\b\b\b\b\b\b\b\b\b\b\b\b\b\b\b\b\b\b\b\b\b\b\b\b\b\b\b\b\b\b                                       \b\b\b\b\b\b\b\b\b\b\b\b\b\b\b\b\b\b\b\b\b\b\b\b\b\b\b\b\b\b\b\b\b\b\b\b\b\b\b 31% 130 - urfunny2_visual_pkl/188.pkl\b\b\b\b\b\b\b\b\b\b\b\b\b\b\b\b\b\b\b\b\b\b\b\b\b\b\b\b\b\b\b\b\b\b\b\b\b\b                                      \b\b\b\b\b\b\b\b\b\b\b\b\b\b\b\b\b\b\b\b\b\b\b\b\b\b\b\b\b\b\b\b\b\b\b\b\b\b 32% 132 - urfunny2_visual_pkl/2036.pkl\b\b\b\b\b\b\b\b\b\b\b\b\b\b\b\b\b\b\b\b\b\b\b\b\b\b\b\b\b\b\b\b\b\b\b\b\b\b\b                                       \b\b\b\b\b\b\b\b\b\b\b\b\b\b\b\b\b\b\b\b\b\b\b\b\b\b\b\b\b\b\b\b\b\b\b\b\b\b\b 33% 135 - urfunny2_visual_pkl/2070.pkl\b\b\b\b\b\b\b\b\b\b\b\b\b\b\b\b\b\b\b\b\b\b\b\b\b\b\b\b\b\b\b\b\b\b\b\b\b\b\b                                       \b\b\b\b\b\b\b\b\b\b\b\b\b\b\b\b\b\b\b\b\b\b\b\b\b\b\b\b\b\b\b\b\b\b\b\b\b\b\b 34% 139 - urfunny2_visual_pkl/182.pkl\b\b\b\b\b\b\b\b\b\b\b\b\b\b\b\b\b\b\b\b\b\b\b\b\b\b\b\b\b\b\b\b\b\b\b\b\b\b                                      \b\b\b\b\b\b\b\b\b\b\b\b\b\b\b\b\b\b\b\b\b\b\b\b\b\b\b\b\b\b\b\b\b\b\b\b\b\b 35% 143 - urfunny2_visual_pkl/2037.pkl\b\b\b\b\b\b\b\b\b\b\b\b\b\b\b\b\b\b\b\b\b\b\b\b\b\b\b\b\b\b\b\b\b\b\b\b\b\b\b                                       \b\b\b\b\b\b\b\b\b\b\b\b\b\b\b\b\b\b\b\b\b\b\b\b\b\b\b\b\b\b\b\b\b\b\b\b\b\b\b 36% 147 - urfunny2_visual_pkl/2292.pkl\b\b\b\b\b\b\b\b\b\b\b\b\b\b\b\b\b\b\b\b\b\b\b\b\b\b\b\b\b\b\b\b\b\b\b\b\b\b\b                                       \b\b\b\b\b\b\b\b\b\b\b\b\b\b\b\b\b\b\b\b\b\b\b\b\b\b\b\b\b\b\b\b\b\b\b\b\b\b\b 38% 152 - urfunny2_visual_pkl/212.pkl\b\b\b\b\b\b\b\b\b\b\b\b\b\b\b\b\b\b\b\b\b\b\b\b\b\b\b\b\b\b\b\b\b\b\b\b\b\b                                      \b\b\b\b\b\b\b\b\b\b\b\b\b\b\b\b\b\b\b\b\b\b\b\b\b\b\b\b\b\b\b\b\b\b\b\b\b\b 39% 159 - urfunny2_visual_pkl/1773.pkl\b\b\b\b\b\b\b\b\b\b\b\b\b\b\b\b\b\b\b\b\b\b\b\b\b\b\b\b\b\b\b\b\b\b\b\b\b\b\b                                       \b\b\b\b\b\b\b\b\b\b\b\b\b\b\b\b\b\b\b\b\b\b\b\b\b\b\b\b\b\b\b\b\b\b\b\b\b\b\b 41% 164 - urfunny2_visual_pkl/15585.pkl\b\b\b\b\b\b\b\b\b\b\b\b\b\b\b\b\b\b\b\b\b\b\b\b\b\b\b\b\b\b\b\b\b\b\b\b\b\b\b\b                                        \b\b\b\b\b\b\b\b\b\b\b\b\b\b\b\b\b\b\b\b\b\b\b\b\b\b\b\b\b\b\b\b\b\b\b\b\b\b\b\b 42% 169 - urfunny2_visual_pkl/1562.pkl\b\b\b\b\b\b\b\b\b\b\b\b\b\b\b\b\b\b\b\b\b\b\b\b\b\b\b\b\b\b\b\b\b\b\b\b\b\b\b                                       \b\b\b\b\b\b\b\b\b\b\b\b\b\b\b\b\b\b\b\b\b\b\b\b\b\b\b\b\b\b\b\b\b\b\b\b\b\b\b 43% 173 - urfunny2_visual_pkl/1954.pkl\b\b\b\b\b\b\b\b\b\b\b\b\b\b\b\b\b\b\b\b\b\b\b\b\b\b\b\b\b\b\b\b\b\b\b\b\b\b\b                                       \b\b\b\b\b\b\b\b\b\b\b\b\b\b\b\b\b\b\b\b\b\b\b\b\b\b\b\b\b\b\b\b\b\b\b\b\b\b\b 45% 177 - urfunny2_visual_pkl/189.pkl\b\b\b\b\b\b\b\b\b\b\b\b\b\b\b\b\b\b\b\b\b\b\b\b\b\b\b\b\b\b\b\b\b\b\b\b\b\b                                      \b\b\b\b\b\b\b\b\b\b\b\b\b\b\b\b\b\b\b\b\b\b\b\b\b\b\b\b\b\b\b\b\b\b\b\b\b\b 46% 181 - urfunny2_visual_pkl/1884.pkl\b\b\b\b\b\b\b\b\b\b\b\b\b\b\b\b\b\b\b\b\b\b\b\b\b\b\b\b\b\b\b\b\b\b\b\b\b\b\b                                       \b\b\b\b\b\b\b\b\b\b\b\b\b\b\b\b\b\b\b\b\b\b\b\b\b\b\b\b\b\b\b\b\b\b\b\b\b\b\b 48% 190 - urfunny2_visual_pkl/15314.pkl\b\b\b\b\b\b\b\b\b\b\b\b\b\b\b\b\b\b\b\b\b\b\b\b\b\b\b\b\b\b\b\b\b\b\b\b\b\b\b\b                                        \b\b\b\b\b\b\b\b\b\b\b\b\b\b\b\b\b\b\b\b\b\b\b\b\b\b\b\b\b\b\b\b\b\b\b\b\b\b\b\b 49% 194 - urfunny2_visual_pkl/15531.pkl\b\b\b\b\b\b\b\b\b\b\b\b\b\b\b\b\b\b\b\b\b\b\b\b\b\b\b\b\b\b\b\b\b\b\b\b\b\b\b\b                                        \b\b\b\b\b\b\b\b\b\b\b\b\b\b\b\b\b\b\b\b\b\b\b\b\b\b\b\b\b\b\b\b\b\b\b\b\b\b\b\b 50% 200 - urfunny2_visual_pkl/15107.pkl\b\b\b\b\b\b\b\b\b\b\b\b\b\b\b\b\b\b\b\b\b\b\b\b\b\b\b\b\b\b\b\b\b\b\b\b\b\b\b\b                                        \b\b\b\b\b\b\b\b\b\b\b\b\b\b\b\b\b\b\b\b\b\b\b\b\b\b\b\b\b\b\b\b\b\b\b\b\b\b\b\b 51% 202 - urfunny2_visual_pkl/2082.pkl\b\b\b\b\b\b\b\b\b\b\b\b\b\b\b\b\b\b\b\b\b\b\b\b\b\b\b\b\b\b\b\b\b\b\b\b\b\b\b                                       \b\b\b\b\b\b\b\b\b\b\b\b\b\b\b\b\b\b\b\b\b\b\b\b\b\b\b\b\b\b\b\b\b\b\b\b\b\b\b 52% 209 - urfunny2_visual_pkl/14934.pkl\b\b\b\b\b\b\b\b\b\b\b\b\b\b\b\b\b\b\b\b\b\b\b\b\b\b\b\b\b\b\b\b\b\b\b\b\b\b\b\b                                        \b\b\b\b\b\b\b\b\b\b\b\b\b\b\b\b\b\b\b\b\b\b\b\b\b\b\b\b\b\b\b\b\b\b\b\b\b\b\b\b 54% 215 - urfunny2_visual_pkl/14812.pkl\b\b\b\b\b\b\b\b\b\b\b\b\b\b\b\b\b\b\b\b\b\b\b\b\b\b\b\b\b\b\b\b\b\b\b\b\b\b\b\b                                        \b\b\b\b\b\b\b\b\b\b\b\b\b\b\b\b\b\b\b\b\b\b\b\b\b\b\b\b\b\b\b\b\b\b\b\b\b\b\b\b 55% 223 - urfunny2_visual_pkl/14900.pkl\b\b\b\b\b\b\b\b\b\b\b\b\b\b\b\b\b\b\b\b\b\b\b\b\b\b\b\b\b\b\b\b\b\b\b\b\b\b\b\b                                        \b\b\b\b\b\b\b\b\b\b\b\b\b\b\b\b\b\b\b\b\b\b\b\b\b\b\b\b\b\b\b\b\b\b\b\b\b\b\b\b 57% 227 - urfunny2_visual_pkl/14625.pkl\b\b\b\b\b\b\b\b\b\b\b\b\b\b\b\b\b\b\b\b\b\b\b\b\b\b\b\b\b\b\b\b\b\b\b\b\b\b\b\b                                        \b\b\b\b\b\b\b\b\b\b\b\b\b\b\b\b\b\b\b\b\b\b\b\b\b\b\b\b\b\b\b\b\b\b\b\b\b\b\b\b 58% 232 - urfunny2_visual_pkl/14480.pkl\b\b\b\b\b\b\b\b\b\b\b\b\b\b\b\b\b\b\b\b\b\b\b\b\b\b\b\b\b\b\b\b\b\b\b\b\b\b\b\b                                        \b\b\b\b\b\b\b\b\b\b\b\b\b\b\b\b\b\b\b\b\b\b\b\b\b\b\b\b\b\b\b\b\b\b\b\b\b\b\b\b 60% 238 - urfunny2_visual_pkl/14908.pkl\b\b\b\b\b\b\b\b\b\b\b\b\b\b\b\b\b\b\b\b\b\b\b\b\b\b\b\b\b\b\b\b\b\b\b\b\b\b\b\b                                        \b\b\b\b\b\b\b\b\b\b\b\b\b\b\b\b\b\b\b\b\b\b\b\b\b\b\b\b\b\b\b\b\b\b\b\b\b\b\b\b 61% 242 - urfunny2_visual_pkl/1477.pkl\b\b\b\b\b\b\b\b\b\b\b\b\b\b\b\b\b\b\b\b\b\b\b\b\b\b\b\b\b\b\b\b\b\b\b\b\b\b\b                                       \b\b\b\b\b\b\b\b\b\b\b\b\b\b\b\b\b\b\b\b\b\b\b\b\b\b\b\b\b\b\b\b\b\b\b\b\b\b\b 62% 246 - urfunny2_visual_pkl/14817.pkl\b\b\b\b\b\b\b\b\b\b\b\b\b\b\b\b\b\b\b\b\b\b\b\b\b\b\b\b\b\b\b\b\b\b\b\b\b\b\b\b                                        \b\b\b\b\b\b\b\b\b\b\b\b\b\b\b\b\b\b\b\b\b\b\b\b\b\b\b\b\b\b\b\b\b\b\b\b\b\b\b\b 64% 250 - urfunny2_visual_pkl/14857.pkl\b\b\b\b\b\b\b\b\b\b\b\b\b\b\b\b\b\b\b\b\b\b\b\b\b\b\b\b\b\b\b\b\b\b\b\b\b\b\b\b                                        \b\b\b\b\b\b\b\b\b\b\b\b\b\b\b\b\b\b\b\b\b\b\b\b\b\b\b\b\b\b\b\b\b\b\b\b\b\b\b\b 65% 254 - urfunny2_visual_pkl/14436.pkl\b\b\b\b\b\b\b\b\b\b\b\b\b\b\b\b\b\b\b\b\b\b\b\b\b\b\b\b\b\b\b\b\b\b\b\b\b\b\b\b                                        \b\b\b\b\b\b\b\b\b\b\b\b\b\b\b\b\b\b\b\b\b\b\b\b\b\b\b\b\b\b\b\b\b\b\b\b\b\b\b\b 67% 262 - urfunny2_visual_pkl/14147.pkl\b\b\b\b\b\b\b\b\b\b\b\b\b\b\b\b\b\b\b\b\b\b\b\b\b\b\b\b\b\b\b\b\b\b\b\b\b\b\b\b                                        \b\b\b\b\b\b\b\b\b\b\b\b\b\b\b\b\b\b\b\b\b\b\b\b\b\b\b\b\b\b\b\b\b\b\b\b\b\b\b\b 68% 268 - urfunny2_visual_pkl/14213.pkl\b\b\b\b\b\b\b\b\b\b\b\b\b\b\b\b\b\b\b\b\b\b\b\b\b\b\b\b\b\b\b\b\b\b\b\b\b\b\b\b                                        \b\b\b\b\b\b\b\b\b\b\b\b\b\b\b\b\b\b\b\b\b\b\b\b\b\b\b\b\b\b\b\b\b\b\b\b\b\b\b\b 70% 275 - urfunny2_visual_pkl/14539.pkl\b\b\b\b\b\b\b\b\b\b\b\b\b\b\b\b\b\b\b\b\b\b\b\b\b\b\b\b\b\b\b\b\b\b\b\b\b\b\b\b                                        \b\b\b\b\b\b\b\b\b\b\b\b\b\b\b\b\b\b\b\b\b\b\b\b\b\b\b\b\b\b\b\b\b\b\b\b\b\b\b\b 71% 279 - urfunny2_visual_pkl/14137.pkl\b\b\b\b\b\b\b\b\b\b\b\b\b\b\b\b\b\b\b\b\b\b\b\b\b\b\b\b\b\b\b\b\b\b\b\b\b\b\b\b                                        \b\b\b\b\b\b\b\b\b\b\b\b\b\b\b\b\b\b\b\b\b\b\b\b\b\b\b\b\b\b\b\b\b\b\b\b\b\b\b\b 72% 283 - urfunny2_visual_pkl/13996.pkl\b\b\b\b\b\b\b\b\b\b\b\b\b\b\b\b\b\b\b\b\b\b\b\b\b\b\b\b\b\b\b\b\b\b\b\b\b\b\b\b                                        \b\b\b\b\b\b\b\b\b\b\b\b\b\b\b\b\b\b\b\b\b\b\b\b\b\b\b\b\b\b\b\b\b\b\b\b\b\b\b\b 74% 288 - urfunny2_visual_pkl/14725.pkl\b\b\b\b\b\b\b\b\b\b\b\b\b\b\b\b\b\b\b\b\b\b\b\b\b\b\b\b\b\b\b\b\b\b\b\b\b\b\b\b                                        \b\b\b\b\b\b\b\b\b\b\b\b\b\b\b\b\b\b\b\b\b\b\b\b\b\b\b\b\b\b\b\b\b\b\b\b\b\b\b\b 75% 292 - urfunny2_visual_pkl/13958.pkl\b\b\b\b\b\b\b\b\b\b\b\b\b\b\b\b\b\b\b\b\b\b\b\b\b\b\b\b\b\b\b\b\b\b\b\b\b\b\b\b                                        \b\b\b\b\b\b\b\b\b\b\b\b\b\b\b\b\b\b\b\b\b\b\b\b\b\b\b\b\b\b\b\b\b\b\b\b\b\b\b\b 77% 297 - urfunny2_visual_pkl/13992.pkl\b\b\b\b\b\b\b\b\b\b\b\b\b\b\b\b\b\b\b\b\b\b\b\b\b\b\b\b\b\b\b\b\b\b\b\b\b\b\b\b                                        \b\b\b\b\b\b\b\b\b\b\b\b\b\b\b\b\b\b\b\b\b\b\b\b\b\b\b\b\b\b\b\b\b\b\b\b\b\b\b\b 77% 298\b\b\b\b\b\b\b\b        \b\b\b\b\b\b\b\b 77% 298 - urfunny2_visual_pkl/14014.pkl\b\b\b\b\b\b\b\b\b\b\b\b\b\b\b\b\b\b\b\b\b\b\b\b\b\b\b\b\b\b\b\b\b\b\b\b\b\b\b\b                                        \b\b\b\b\b\b\b\b\b\b\b\b\b\b\b\b\b\b\b\b\b\b\b\b\b\b\b\b\b\b\b\b\b\b\b\b\b\b\b\b 77% 299\b\b\b\b\b\b\b\b        \b\b\b\b\b\b\b\b 78% 305 - urfunny2_visual_pkl/13625.pkl\b\b\b\b\b\b\b\b\b\b\b\b\b\b\b\b\b\b\b\b\b\b\b\b\b\b\b\b\b\b\b\b\b\b\b\b\b\b\b\b                                        \b\b\b\b\b\b\b\b\b\b\b\b\b\b\b\b\b\b\b\b\b\b\b\b\b\b\b\b\b\b\b\b\b\b\b\b\b\b\b\b 80% 307 - urfunny2_visual_pkl/14374.pkl\b\b\b\b\b\b\b\b\b\b\b\b\b\b\b\b\b\b\b\b\b\b\b\b\b\b\b\b\b\b\b\b\b\b\b\b\b\b\b\b                                        \b\b\b\b\b\b\b\b\b\b\b\b\b\b\b\b\b\b\b\b\b\b\b\b\b\b\b\b\b\b\b\b\b\b\b\b\b\b\b\b 81% 311 - urfunny2_visual_pkl/14462.pkl\b\b\b\b\b\b\b\b\b\b\b\b\b\b\b\b\b\b\b\b\b\b\b\b\b\b\b\b\b\b\b\b\b\b\b\b\b\b\b\b                                        \b\b\b\b\b\b\b\b\b\b\b\b\b\b\b\b\b\b\b\b\b\b\b\b\b\b\b\b\b\b\b\b\b\b\b\b\b\b\b\b 82% 315 - urfunny2_visual_pkl/13865.pkl\b\b\b\b\b\b\b\b\b\b\b\b\b\b\b\b\b\b\b\b\b\b\b\b\b\b\b\b\b\b\b\b\b\b\b\b\b\b\b\b                                        \b\b\b\b\b\b\b\b\b\b\b\b\b\b\b\b\b\b\b\b\b\b\b\b\b\b\b\b\b\b\b\b\b\b\b\b\b\b\b\b 84% 318 - urfunny2_visual_pkl/14040.pkl\b\b\b\b\b\b\b\b\b\b\b\b\b\b\b\b\b\b\b\b\b\b\b\b\b\b\b\b\b\b\b\b\b\b\b\b\b\b\b\b                                        \b\b\b\b\b\b\b\b\b\b\b\b\b\b\b\b\b\b\b\b\b\b\b\b\b\b\b\b\b\b\b\b\b\b\b\b\b\b\b\b 85% 324 - urfunny2_visual_pkl/13789.pkl\b\b\b\b\b\b\b\b\b\b\b\b\b\b\b\b\b\b\b\b\b\b\b\b\b\b\b\b\b\b\b\b\b\b\b\b\b\b\b\b                                        \b\b\b\b\b\b\b\b\b\b\b\b\b\b\b\b\b\b\b\b\b\b\b\b\b\b\b\b\b\b\b\b\b\b\b\b\b\b\b\b 87% 331 - urfunny2_visual_pkl/13404.pkl\b\b\b\b\b\b\b\b\b\b\b\b\b\b\b\b\b\b\b\b\b\b\b\b\b\b\b\b\b\b\b\b\b\b\b\b\b\b\b\b                                        \b\b\b\b\b\b\b\b\b\b\b\b\b\b\b\b\b\b\b\b\b\b\b\b\b\b\b\b\b\b\b\b\b\b\b\b\b\b\b\b 88% 336 - urfunny2_visual_pkl/13483.pkl\b\b\b\b\b\b\b\b\b\b\b\b\b\b\b\b\b\b\b\b\b\b\b\b\b\b\b\b\b\b\b\b\b\b\b\b\b\b\b\b                                        \b\b\b\b\b\b\b\b\b\b\b\b\b\b\b\b\b\b\b\b\b\b\b\b\b\b\b\b\b\b\b\b\b\b\b\b\b\b\b\b 89% 340 - urfunny2_visual_pkl/13505.pkl\b\b\b\b\b\b\b\b\b\b\b\b\b\b\b\b\b\b\b\b\b\b\b\b\b\b\b\b\b\b\b\b\b\b\b\b\b\b\b\b                                        \b\b\b\b\b\b\b\b\b\b\b\b\b\b\b\b\b\b\b\b\b\b\b\b\b\b\b\b\b\b\b\b\b\b\b\b\b\b\b\b 91% 345 - urfunny2_visual_pkl/1381.pkl\b\b\b\b\b\b\b\b\b\b\b\b\b\b\b\b\b\b\b\b\b\b\b\b\b\b\b\b\b\b\b\b\b\b\b\b\b\b\b                                       \b\b\b\b\b\b\b\b\b\b\b\b\b\b\b\b\b\b\b\b\b\b\b\b\b\b\b\b\b\b\b\b\b\b\b\b\b\b\b 92% 351 - urfunny2_visual_pkl/13068.pkl\b\b\b\b\b\b\b\b\b\b\b\b\b\b\b\b\b\b\b\b\b\b\b\b\b\b\b\b\b\b\b\b\b\b\b\b\b\b\b\b                                        \b\b\b\b\b\b\b\b\b\b\b\b\b\b\b\b\b\b\b\b\b\b\b\b\b\b\b\b\b\b\b\b\b\b\b\b\b\b\b\b 94% 358 - urfunny2_visual_pkl/13459.pkl\b\b\b\b\b\b\b\b\b\b\b\b\b\b\b\b\b\b\b\b\b\b\b\b\b\b\b\b\b\b\b\b\b\b\b\b\b\b\b\b                                        \b\b\b\b\b\b\b\b\b\b\b\b\b\b\b\b\b\b\b\b\b\b\b\b\b\b\b\b\b\b\b\b\b\b\b\b\b\b\b\b 95% 363 - urfunny2_visual_pkl/12989.pkl\b\b\b\b\b\b\b\b\b\b\b\b\b\b\b\b\b\b\b\b\b\b\b\b\b\b\b\b\b\b\b\b\b\b\b\b\b\b\b\b                                        \b\b\b\b\b\b\b\b\b\b\b\b\b\b\b\b\b\b\b\b\b\b\b\b\b\b\b\b\b\b\b\b\b\b\b\b\b\b\b\b 97% 368 - urfunny2_visual_pkl/13924.pkl\b\b\b\b\b\b\b\b\b\b\b\b\b\b\b\b\b\b\b\b\b\b\b\b\b\b\b\b\b\b\b\b\b\b\b\b\b\b\b\b                                        \b\b\b\b\b\b\b\b\b\b\b\b\b\b\b\b\b\b\b\b\b\b\b\b\b\b\b\b\b\b\b\b\b\b\b\b\b\b\b\b 98% 372 - urfunny2_visual_pkl/12982.pkl\b\b\b\b\b\b\b\b\b\b\b\b\b\b\b\b\b\b\b\b\b\b\b\b\b\b\b\b\b\b\b\b\b\b\b\b\b\b\b\b                                        \b\b\b\b\b\b\b\b\b\b\b\b\b\b\b\b\b\b\b\b\b\b\b\b\b\b\b\b\b\b\b\b\b\b\b\b\b\b\b\b 99% 375 - urfunny2_visual_pkl/13454.pkl\b\b\b\b\b\b\b\b\b\b\b\b\b\b\b\b\b\b\b\b\b\b\b\b\b\b\b\b\b\b\b\b\b\b\b\b\b\b\b\b                                        \b\b\b\b\b\b\b\b\b\b\b\b\b\b\b\b\b\b\b\b\b\b\b\b\b\b\b\b\b\b\b\b\b\b\b\b\b\b\b\bEverything is Ok\n",
            "\n",
            "Files: 377\n",
            "Size:       996421974\n",
            "Compressed: 897999128\n"
          ]
        }
      ]
    },
    {
      "cell_type": "code",
      "source": [
        "!cp -r \"/content/drive/MyDrive/multimodal/zip files\" /content/"
      ],
      "metadata": {
        "id": "_5KC00myp7b9"
      },
      "execution_count": null,
      "outputs": []
    },
    {
      "cell_type": "code",
      "source": [
        "!cat \"/content/zip files/urfunny2_1322_audios_feature_pkl-20250427T063814Z-\"*.zip > \"/content/zip files/urfunny2_audio.zip\""
      ],
      "metadata": {
        "id": "6Q-eaHT9sIvM"
      },
      "execution_count": null,
      "outputs": []
    },
    {
      "cell_type": "code",
      "source": [
        "!cat \"/content/zip files/urfunny2_visual_pkl-20250427T063933Z-\"*.zip > \"/content/zip files/urfunny2_visual.zip\""
      ],
      "metadata": {
        "id": "4WpT3usGsczT"
      },
      "execution_count": null,
      "outputs": []
    },
    {
      "cell_type": "code",
      "source": [
        "# !unzip -o \"/content/zip files/urfunny2_audio.zip\" -d \"/content/zip files/full_features\"\n",
        "!unzip -o \"/content/zip files/urfunny2_1322_text_feature_pkl-20250427T063141Z-001.zip\" -d \"/content/zip files/full_features\"\n",
        "!unzip -o \"/content/zip files/urfunny2_visual.zip\" -d \"/content/zip files/full_features\""
      ],
      "metadata": {
        "id": "Mrf4FidUqeng"
      },
      "execution_count": null,
      "outputs": []
    },
    {
      "cell_type": "markdown",
      "source": [
        "## Visual Classification - Original Features"
      ],
      "metadata": {
        "id": "FridLIv8QH6O"
      }
    },
    {
      "cell_type": "code",
      "source": [
        "# Visual feature classification(punchline only) using MLP and Transformer models\n",
        "\n",
        "import pickle\n",
        "import numpy as np\n",
        "import torch\n",
        "import torch.nn as nn\n",
        "import torch.nn.functional as F\n",
        "from torch.utils.data import Dataset, DataLoader\n",
        "from sklearn.metrics import accuracy_score, roc_auc_score\n",
        "from tqdm import tqdm\n",
        "\n",
        "# torch.manual_seed(2020)\n",
        "# np.random.seed(2020)\n",
        "\n",
        "class VisualDataset(Dataset):\n",
        "    def __init__(self, video_ids, openface_features, labels):\n",
        "        self.video_ids = video_ids\n",
        "        self.openface_features = openface_features\n",
        "        self.labels = labels\n",
        "\n",
        "    def __len__(self):\n",
        "        return len(self.video_ids)\n",
        "\n",
        "    def __getitem__(self, idx):\n",
        "        video_id = self.video_ids[idx]\n",
        "        visual_features = np.array(self.openface_features[video_id]['punchline_features'])\n",
        "        if visual_features.ndim > 1:\n",
        "            visual_features = np.mean(visual_features, axis=0)\n",
        "        label = self.labels[video_id]\n",
        "        return torch.tensor(visual_features, dtype=torch.float32), torch.tensor(label, dtype=torch.long)\n",
        "\n",
        "class VisualMLP1(nn.Module):\n",
        "    def __init__(self, input_dim):\n",
        "        super().__init__()\n",
        "        self.fc1 = nn.Linear(input_dim, 128)\n",
        "        self.fc2 = nn.Linear(128, 2)\n",
        "\n",
        "    def forward(self, x):\n",
        "        x = F.relu(self.fc1(x))\n",
        "        x = self.fc2(x)\n",
        "        return x\n",
        "\n",
        "class VisualMLP2(nn.Module):\n",
        "    def __init__(self, input_dim):\n",
        "        super().__init__()\n",
        "        self.fc1 = nn.Linear(input_dim, 256)\n",
        "        self.fc2 = nn.Linear(256, 128)\n",
        "        self.fc3 = nn.Linear(128, 64)\n",
        "        self.fc4 = nn.Linear(64, 2)\n",
        "\n",
        "    def forward(self, x):\n",
        "        x = F.relu(self.fc1(x))\n",
        "        x = F.relu(self.fc2(x))\n",
        "        x = F.relu(self.fc3(x))\n",
        "        x = self.fc4(x)\n",
        "        return x\n",
        "\n",
        "class TransformerModel(nn.Module):\n",
        "    def __init__(self, input_dim):\n",
        "        super().__init__()\n",
        "        self.input_proj = nn.Linear(input_dim, 128)\n",
        "        encoder_layer = nn.TransformerEncoderLayer(d_model=128, nhead=4, dim_feedforward=256, dropout=0.1, batch_first=True)\n",
        "        self.transformer = nn.TransformerEncoder(encoder_layer, num_layers=2)\n",
        "        self.classifier = nn.Linear(128, 2)\n",
        "\n",
        "    def forward(self, x):\n",
        "        x = self.input_proj(x)\n",
        "        if x.dim() == 2:\n",
        "            x = x.unsqueeze(1)\n",
        "        x = self.transformer(x)\n",
        "        x = x.mean(dim=1)\n",
        "        x = self.classifier(x)\n",
        "        return x\n",
        "\n",
        "def train_model(model, train_loader, val_loader, device, model_name, epochs=10):\n",
        "    print(f\"Training {model_name}...\")\n",
        "    model.to(device)\n",
        "    optimizer = torch.optim.Adam(model.parameters(), lr=0.001)\n",
        "    criterion = nn.CrossEntropyLoss()\n",
        "    best_val_acc = 0\n",
        "    best_model = None\n",
        "\n",
        "    for epoch in range(epochs):\n",
        "        model.train()\n",
        "        for features, labels in train_loader:\n",
        "            features, labels = features.to(device), labels.to(device)\n",
        "            optimizer.zero_grad()\n",
        "            outputs = model(features)\n",
        "            loss = criterion(outputs, labels)\n",
        "            loss.backward()\n",
        "            optimizer.step()\n",
        "\n",
        "        val_acc, val_auc = evaluate_model(model, val_loader, device)\n",
        "        if val_acc > best_val_acc:\n",
        "            best_val_acc = val_acc\n",
        "            best_model = model.state_dict().copy()\n",
        "\n",
        "    model.load_state_dict(best_model)\n",
        "    return model\n",
        "\n",
        "def evaluate_model(model, data_loader, device):\n",
        "    model.eval()\n",
        "    all_preds = []\n",
        "    all_probs = []\n",
        "    all_labels = []\n",
        "\n",
        "    with torch.no_grad():\n",
        "        for features, labels in data_loader:\n",
        "            features, labels = features.to(device), labels.to(device)\n",
        "            outputs = model(features)\n",
        "            _, preds = torch.max(outputs, 1)\n",
        "            probs = F.softmax(outputs, dim=1)[:, 1]\n",
        "            all_preds.extend(preds.cpu().numpy())\n",
        "            all_probs.extend(probs.cpu().numpy())\n",
        "            all_labels.extend(labels.cpu().numpy())\n",
        "\n",
        "    accuracy = accuracy_score(all_labels, all_preds)\n",
        "    auc = roc_auc_score(all_labels, all_probs)\n",
        "    return accuracy, auc\n",
        "\n",
        "device = torch.device(\"cuda\" if torch.cuda.is_available() else \"cpu\")\n",
        "train_dataset = VisualDataset(data_folds['train'], openface_features_sdk, humor_label_sdk)\n",
        "val_dataset = VisualDataset(data_folds['dev'], openface_features_sdk, humor_label_sdk)\n",
        "test_dataset = VisualDataset(data_folds['test'], openface_features_sdk, humor_label_sdk)\n",
        "\n",
        "sample_features, _ = train_dataset[0]\n",
        "input_dim = sample_features.shape[0]\n",
        "\n",
        "batch_size = 64\n",
        "train_loader = DataLoader(train_dataset, batch_size=batch_size, shuffle=True)\n",
        "val_loader = DataLoader(val_dataset, batch_size=batch_size)\n",
        "test_loader = DataLoader(test_dataset, batch_size=batch_size)\n",
        "\n",
        "model1 = VisualMLP1(input_dim)\n",
        "model2 = VisualMLP2(input_dim)\n",
        "model3 = TransformerModel(input_dim)\n",
        "\n",
        "model1 = train_model(model1, train_loader, val_loader, device, \"Simple Visual MLP\")\n",
        "test_acc1, test_auc1 = evaluate_model(model1, test_loader, device)\n",
        "print(f\"Simple Visual MLP - Test Accuracy: {test_acc1:.4f}, AUC: {test_auc1:.4f}\")\n",
        "\n",
        "model2 = train_model(model2, train_loader, val_loader, device, \"Better Visual MLP\")\n",
        "test_acc2, test_auc2 = evaluate_model(model2, test_loader, device)\n",
        "print(f\"Better Visual MLP - Test Accuracy: {test_acc2:.4f}, AUC: {test_auc2:.4f}\")\n",
        "\n",
        "model3 = train_model(model3, train_loader, val_loader, device, \"Visual Transformer\")\n",
        "test_acc3, test_auc3 = evaluate_model(model3, test_loader, device)\n",
        "print(f\"Visual Transformer - Test Accuracy: {test_acc3:.4f}, AUC: {test_auc3:.4f}\")"
      ],
      "metadata": {
        "colab": {
          "base_uri": "https://localhost:8080/"
        },
        "id": "31Tm8zUC8eCf",
        "outputId": "923c0878-d779-4c88-caa3-5705333be361"
      },
      "execution_count": null,
      "outputs": [
        {
          "output_type": "stream",
          "name": "stdout",
          "text": [
            "Training Simple Visual MLP...\n",
            "Simple Visual MLP - Test Accuracy: 0.5805, AUC: 0.6147\n",
            "Training Better Visual MLP...\n",
            "Better Visual MLP - Test Accuracy: 0.5795, AUC: 0.6142\n",
            "Training Visual Transformer...\n",
            "Visual Transformer - Test Accuracy: 0.5775, AUC: 0.6136\n"
          ]
        }
      ]
    },
    {
      "cell_type": "markdown",
      "source": [
        "## Unimodal Classification (Text Only, Full)"
      ],
      "metadata": {
        "id": "7mUx1oMzQt2S"
      }
    },
    {
      "cell_type": "code",
      "source": [
        "import os\n",
        "import pickle\n",
        "import numpy as np\n",
        "import torch\n",
        "import torch.nn as nn\n",
        "import torch.nn.functional as F\n",
        "from torch.utils.data import Dataset, DataLoader\n",
        "from sklearn.model_selection import train_test_split\n",
        "from sklearn.metrics import accuracy_score, roc_auc_score\n",
        "from tqdm import tqdm\n",
        "import joblib\n",
        "\n",
        "text_dir = \"/content/zip files/full_features/urfunny2_1322_text_feature_pkl\"\n",
        "label_path = \"/content/humor_label_sdk.pkl\"\n",
        "\n",
        "with open(label_path, \"rb\") as f:\n",
        "    label_dict = pickle.load(f)\n",
        "\n",
        "def safe_pool(x):\n",
        "    if isinstance(x, torch.Tensor):\n",
        "        x = x.cpu().numpy()\n",
        "    x = np.array(x)\n",
        "    while x.ndim > 2:\n",
        "        x = np.squeeze(x, axis=0)\n",
        "    if x.ndim == 2:\n",
        "        x = np.mean(x, axis=0)\n",
        "    return x\n",
        "\n",
        "def prepare_text_data(text_dir, label_dict):\n",
        "    X, y = [], []\n",
        "    for fname in tqdm(sorted(os.listdir(text_dir)), desc=\"Preparing text data\"):\n",
        "        if not fname.endswith(\".pkl\"):\n",
        "            continue\n",
        "        try:\n",
        "            vid = int(os.path.splitext(fname)[0])\n",
        "            if vid not in label_dict:\n",
        "                continue\n",
        "\n",
        "            with open(os.path.join(text_dir, f\"{vid}.pkl\"), \"rb\") as f:\n",
        "                text_feat = joblib.load(f)\n",
        "\n",
        "            if isinstance(text_feat, dict):\n",
        "                if 'punchline_embedding' in text_feat:\n",
        "                    text_feat = text_feat['punchline_embedding']\n",
        "                else:\n",
        "                    raise ValueError(f\"No punchline_embedding found in {fname}\")\n",
        "\n",
        "            if text_feat is None or len(text_feat) == 0:\n",
        "                raise ValueError(f\"Text feature is None or empty for {fname}\")\n",
        "\n",
        "            text_feat = safe_pool(text_feat)\n",
        "            X.append(text_feat)\n",
        "            y.append(label_dict[vid])\n",
        "\n",
        "        except Exception as e:\n",
        "            print(f\"Skipping {fname}: {e}\")\n",
        "\n",
        "    return np.array(X), np.array(y)\n",
        "\n",
        "class TextDataset(Dataset):\n",
        "    def __init__(self, X, y):\n",
        "        self.X = torch.tensor(X, dtype=torch.float32)\n",
        "        self.y = torch.tensor(y, dtype=torch.long)\n",
        "    def __len__(self):\n",
        "        return len(self.X)\n",
        "    def __getitem__(self, idx):\n",
        "        return self.X[idx], self.y[idx]\n",
        "\n",
        "\n",
        "# Model 1: Simple MLP\n",
        "class TextMLP1(nn.Module):\n",
        "    def __init__(self, input_dim):\n",
        "        super().__init__()\n",
        "        self.net = nn.Sequential(\n",
        "            nn.Linear(input_dim, 128),\n",
        "            nn.ReLU(),\n",
        "            nn.Linear(128, 2)\n",
        "        )\n",
        "    def forward(self, x):\n",
        "        return self.net(x)\n",
        "\n",
        "# Model 2: Deeper MLP\n",
        "class TextMLP2(nn.Module):\n",
        "    def __init__(self, input_dim):\n",
        "        super().__init__()\n",
        "        self.net = nn.Sequential(\n",
        "            nn.Linear(input_dim, 256),\n",
        "            nn.ReLU(),\n",
        "            nn.Linear(256, 128),\n",
        "            nn.ReLU(),\n",
        "            nn.Linear(128, 2)\n",
        "        )\n",
        "    def forward(self, x):\n",
        "        return self.net(x)\n",
        "\n",
        "# Model 3: MLP with dropout\n",
        "class TextMLP3(nn.Module):\n",
        "    def __init__(self, input_dim):\n",
        "        super().__init__()\n",
        "        self.net = nn.Sequential(\n",
        "            nn.Linear(input_dim, 256),\n",
        "            nn.ReLU(),\n",
        "            nn.Dropout(0.5),\n",
        "            nn.Linear(256, 128),\n",
        "            nn.ReLU(),\n",
        "            nn.Dropout(0.5),\n",
        "            nn.Linear(128, 2)\n",
        "        )\n",
        "    def forward(self, x):\n",
        "        return self.net(x)\n",
        "\n",
        "def train_model(model, train_loader, val_loader, device):\n",
        "    optimizer = torch.optim.Adam(model.parameters(), lr=1e-4)\n",
        "    criterion = nn.CrossEntropyLoss()\n",
        "    for epoch in range(1, 11):\n",
        "        model.train()\n",
        "        for xb, yb in train_loader:\n",
        "            xb, yb = xb.to(device), yb.to(device)\n",
        "            optimizer.zero_grad()\n",
        "            output = model(xb)\n",
        "            loss = criterion(output, yb)\n",
        "            loss.backward()\n",
        "            optimizer.step()\n",
        "\n",
        "def evaluate_model(model, loader, device):\n",
        "    model.eval()\n",
        "    preds, probs, labels = [], [], []\n",
        "    with torch.no_grad():\n",
        "        for xb, yb in loader:\n",
        "            xb, yb = xb.to(device), yb.to(device)\n",
        "            logits = model(xb)\n",
        "            probs.extend(F.softmax(logits, dim=1)[:, 1].cpu().numpy())\n",
        "            preds.extend(logits.argmax(dim=1).cpu().numpy())\n",
        "            labels.extend(yb.cpu().numpy())\n",
        "    acc = accuracy_score(labels, preds)\n",
        "    auc = roc_auc_score(labels, probs)\n",
        "    return acc, auc\n",
        "\n",
        "def run_text_experiment(text_dir, label_dict, device):\n",
        "    print(\"\\n====== Running Text Only Classification ======\")\n",
        "    X, y = prepare_text_data(text_dir, label_dict)\n",
        "\n",
        "    X_train, X_temp, y_train, y_temp = train_test_split(X, y, test_size=0.3, stratify=y, random_state=42)\n",
        "    X_val, X_test, y_val, y_test = train_test_split(X_temp, y_temp, test_size=0.5, stratify=y_temp, random_state=42)\n",
        "\n",
        "    train_loader = DataLoader(TextDataset(X_train, y_train), batch_size=64, shuffle=True)\n",
        "    val_loader = DataLoader(TextDataset(X_val, y_val), batch_size=64)\n",
        "    test_loader = DataLoader(TextDataset(X_test, y_test), batch_size=64)\n",
        "\n",
        "    input_dim = X.shape[1]\n",
        "\n",
        "    models = [\n",
        "        (\"TextMLP1 (Simple)\", TextMLP1(input_dim).to(device)),\n",
        "        (\"TextMLP2 (Deep)\", TextMLP2(input_dim).to(device)),\n",
        "        (\"TextMLP3 (With Dropout)\", TextMLP3(input_dim).to(device))\n",
        "    ]\n",
        "\n",
        "    for name, model in models:\n",
        "        print(f\"Training {name}...\")\n",
        "        train_model(model, train_loader, val_loader, device)\n",
        "        acc, auc = evaluate_model(model, test_loader, device)\n",
        "        print(f\"{name} - Test Accuracy: {acc:.4f}, AUC: {auc:.4f}\")\n",
        "\n",
        "# if __name__ == \"__main__\":\n",
        "#     device = torch.device(\"cuda\" if torch.cuda.is_available() else \"cpu\")\n",
        "#     run_text_experiment(text_dir, label_dict, device)"
      ],
      "metadata": {
        "colab": {
          "base_uri": "https://localhost:8080/"
        },
        "id": "rvzqQaqOzsRw",
        "outputId": "f449190b-3a91-4037-e714-e18a45f7e55e"
      },
      "execution_count": null,
      "outputs": [
        {
          "output_type": "stream",
          "name": "stdout",
          "text": [
            "\n",
            "====== Running Text Only Classification ======\n"
          ]
        },
        {
          "output_type": "stream",
          "name": "stderr",
          "text": [
            "Preparing text data: 100%|██████████| 1322/1322 [00:03<00:00, 369.59it/s]\n"
          ]
        },
        {
          "output_type": "stream",
          "name": "stdout",
          "text": [
            "Training TextMLP1 (Simple)...\n",
            "TextMLP1 (Simple) - Test Accuracy: 0.7136, AUC: 0.7662\n",
            "Training TextMLP2 (Deep)...\n",
            "TextMLP2 (Deep) - Test Accuracy: 0.7136, AUC: 0.7658\n",
            "Training TextMLP3 (With Dropout)...\n",
            "TextMLP3 (With Dropout) - Test Accuracy: 0.7035, AUC: 0.7529\n"
          ]
        }
      ]
    },
    {
      "cell_type": "markdown",
      "source": [
        "## Unimodal - Text - Temporal Models"
      ],
      "metadata": {
        "id": "N7pDjhpuRCah"
      }
    },
    {
      "cell_type": "code",
      "source": [
        "import os\n",
        "import pickle\n",
        "import numpy as np\n",
        "import torch\n",
        "import torch.nn as nn\n",
        "import torch.nn.functional as F\n",
        "from torch.utils.data import Dataset, DataLoader\n",
        "from sklearn.model_selection import train_test_split\n",
        "from sklearn.metrics import accuracy_score, roc_auc_score, classification_report\n",
        "from tqdm import tqdm\n",
        "import joblib\n",
        "import matplotlib.pyplot as plt\n",
        "\n",
        "text_dir = \"/content/zip files/full_features/urfunny2_1322_text_feature_pkl\"\n",
        "label_path = \"/content/humor_label_sdk.pkl\"\n",
        "\n",
        "with open(label_path, \"rb\") as f:\n",
        "    label_dict = pickle.load(f)\n",
        "\n",
        "def safe_pool(x):\n",
        "    if isinstance(x, torch.Tensor):\n",
        "        x = x.cpu().numpy()\n",
        "    x = np.array(x)\n",
        "    while x.ndim > 2:\n",
        "        x = np.squeeze(x, axis=0)\n",
        "    if x.ndim == 2:\n",
        "        x = np.mean(x, axis=0)\n",
        "    return x\n",
        "\n",
        "def prepare_text_data(text_dir, label_dict):\n",
        "    X, y = [], []\n",
        "    for fname in tqdm(sorted(os.listdir(text_dir)), desc=\"Preparing text data\"):\n",
        "        if not fname.endswith(\".pkl\"):\n",
        "            continue\n",
        "        try:\n",
        "            vid = int(os.path.splitext(fname)[0])\n",
        "            if vid not in label_dict:\n",
        "                continue\n",
        "\n",
        "            with open(os.path.join(text_dir, f\"{vid}.pkl\"), \"rb\") as f:\n",
        "                text_feat = joblib.load(f)\n",
        "\n",
        "            if isinstance(text_feat, dict):\n",
        "                if 'punchline_embedding' in text_feat:\n",
        "                    text_feat = text_feat['punchline_embedding']\n",
        "                else:\n",
        "                    raise ValueError(f\"No punchline_embedding found in {fname}\")\n",
        "\n",
        "            if text_feat is None or len(text_feat) == 0:\n",
        "                raise ValueError(f\"Text feature is None or empty for {fname}\")\n",
        "\n",
        "            text_feat = safe_pool(text_feat)\n",
        "            X.append(text_feat)\n",
        "            y.append(label_dict[vid])\n",
        "\n",
        "        except Exception as e:\n",
        "            print(f\"Skipping {fname}: {e}\")\n",
        "\n",
        "    return np.array(X), np.array(y)\n",
        "\n",
        "class TextDataset(Dataset):\n",
        "    def __init__(self, X, y):\n",
        "        self.X = torch.tensor(X, dtype=torch.float32)\n",
        "        self.y = torch.tensor(y, dtype=torch.long)\n",
        "    def __len__(self):\n",
        "        return len(self.X)\n",
        "    def __getitem__(self, idx):\n",
        "        return self.X[idx], self.y[idx]\n",
        "\n",
        "# Temporal Models\n",
        "\n",
        "# Model 1: Transformer-based model\n",
        "class TransformerModel(nn.Module):\n",
        "    def __init__(self, input_dim, nhead=4, num_layers=2):\n",
        "        super().__init__()\n",
        "        self.input_proj = nn.Linear(input_dim, 128)\n",
        "        encoder_layer = nn.TransformerEncoderLayer(\n",
        "            d_model=128,\n",
        "            nhead=nhead,\n",
        "            dim_feedforward=256,\n",
        "            dropout=0.1,\n",
        "            batch_first=True\n",
        "        )\n",
        "        self.transformer_encoder = nn.TransformerEncoder(encoder_layer, num_layers=num_layers)\n",
        "        self.classifier = nn.Linear(128, 2)\n",
        "\n",
        "    def forward(self, x):\n",
        "        if x.dim() == 2:\n",
        "            x = x.unsqueeze(1)\n",
        "\n",
        "        x = self.input_proj(x)\n",
        "        x = self.transformer_encoder(x)\n",
        "        x = x.mean(dim=1)\n",
        "        return self.classifier(x)\n",
        "\n",
        "# Model 2: Residual Network with Attention\n",
        "class ResidualAttentionModel(nn.Module):\n",
        "    def __init__(self, input_dim):\n",
        "        super().__init__()\n",
        "        self.fc1 = nn.Linear(input_dim, 256)\n",
        "        self.bn1 = nn.BatchNorm1d(256)\n",
        "        self.fc2 = nn.Linear(256, 256)\n",
        "        self.bn2 = nn.BatchNorm1d(256)\n",
        "        self.attention = nn.Sequential(\n",
        "            nn.Linear(256, 64),\n",
        "            nn.Tanh(),\n",
        "            nn.Linear(64, 1),\n",
        "            nn.Softmax(dim=1)\n",
        "        )\n",
        "        self.fc_out = nn.Linear(256, 2)\n",
        "        self.dropout = nn.Dropout(0.3)\n",
        "\n",
        "    def forward(self, x):\n",
        "        identity = self.fc1(x)\n",
        "        identity = self.bn1(identity)\n",
        "        identity = F.relu(identity)\n",
        "\n",
        "        out = self.fc2(identity)\n",
        "        out = self.bn2(out)\n",
        "        out = F.relu(out)\n",
        "\n",
        "        out = out + identity\n",
        "\n",
        "        attn = self.attention(out.unsqueeze(1))\n",
        "        out = (out.unsqueeze(1) * attn).sum(1)\n",
        "\n",
        "        out = self.dropout(out)\n",
        "        out = self.fc_out(out)\n",
        "        return out\n",
        "\n",
        "\n",
        "# Model 3: GRU based model\n",
        "class GRUModel(nn.Module):\n",
        "    def __init__(self, input_dim, hidden_dim=128, n_layers=2):\n",
        "        super().__init__()\n",
        "        self.projection = nn.Linear(input_dim, hidden_dim)\n",
        "\n",
        "        self.gru = nn.GRU(\n",
        "            input_size=hidden_dim,\n",
        "            hidden_size=hidden_dim,\n",
        "            num_layers=n_layers,\n",
        "            batch_first=True,\n",
        "            bidirectional=True,\n",
        "            dropout=0.3 if n_layers > 1 else 0\n",
        "        )\n",
        "\n",
        "        self.fc = nn.Sequential(\n",
        "            nn.Linear(hidden_dim*2, hidden_dim),\n",
        "            nn.ReLU(),\n",
        "            nn.Dropout(0.2),\n",
        "            nn.Linear(hidden_dim, 2)\n",
        "        )\n",
        "\n",
        "    def forward(self, x):\n",
        "        if x.dim() == 2:\n",
        "            x = x.unsqueeze(1)\n",
        "\n",
        "        x = self.projection(x)\n",
        "        output, _ = self.gru(x)\n",
        "        output = output[:, -1, :]\n",
        "        return self.fc(output)\n",
        "\n",
        "def train_model(model, train_loader, val_loader, device, epochs=15, patience=3):\n",
        "    optimizer = torch.optim.Adam(model.parameters(), lr=1e-4, weight_decay=1e-5)\n",
        "    scheduler = torch.optim.lr_scheduler.ReduceLROnPlateau(\n",
        "        optimizer, mode='max', factor=0.5, patience=2, verbose=True)\n",
        "    criterion = nn.CrossEntropyLoss()\n",
        "\n",
        "    best_val_auc = 0\n",
        "    patience_counter = 0\n",
        "    history = {'train_loss': [], 'val_loss': [], 'val_acc': [], 'val_auc': []}\n",
        "\n",
        "    for epoch in range(1, epochs+1):\n",
        "        model.train()\n",
        "        total_loss = 0\n",
        "\n",
        "        for xb, yb in tqdm(train_loader, desc=f\"Epoch {epoch}/{epochs}\"):\n",
        "            xb, yb = xb.to(device), yb.to(device)\n",
        "            optimizer.zero_grad()\n",
        "            output = model(xb)\n",
        "            loss = criterion(output, yb)\n",
        "            loss.backward()\n",
        "            torch.nn.utils.clip_grad_norm_(model.parameters(), 1.0)  # Gradient clipping\n",
        "            optimizer.step()\n",
        "            total_loss += loss.item()\n",
        "\n",
        "        avg_loss = total_loss / len(train_loader)\n",
        "        history['train_loss'].append(avg_loss)\n",
        "\n",
        "        val_loss, val_acc, val_auc = validate_model(model, val_loader, criterion, device)\n",
        "        history['val_loss'].append(val_loss)\n",
        "        history['val_acc'].append(val_acc)\n",
        "        history['val_auc'].append(val_auc)\n",
        "\n",
        "        scheduler.step(val_auc)\n",
        "\n",
        "        print(f\"Epoch {epoch}/{epochs} - Train Loss: {avg_loss:.4f}, Val Loss: {val_loss:.4f}, Val Acc: {val_acc:.4f}, Val AUC: {val_auc:.4f}\")\n",
        "\n",
        "        if val_auc > best_val_auc:\n",
        "            best_val_auc = val_auc\n",
        "            patience_counter = 0\n",
        "        else:\n",
        "            patience_counter += 1\n",
        "            if patience_counter >= patience:\n",
        "                print(f\"Early stopping triggered after {epoch} epochs\")\n",
        "                break\n",
        "\n",
        "    return history\n",
        "\n",
        "def validate_model(model, val_loader, criterion, device):\n",
        "    model.eval()\n",
        "    total_loss = 0\n",
        "    preds, probs, labels = [], [], []\n",
        "\n",
        "    with torch.no_grad():\n",
        "        for xb, yb in val_loader:\n",
        "            xb, yb = xb.to(device), yb.to(device)\n",
        "            logits = model(xb)\n",
        "            loss = criterion(logits, yb)\n",
        "            total_loss += loss.item()\n",
        "\n",
        "            probs.extend(F.softmax(logits, dim=1)[:, 1].cpu().numpy())\n",
        "            preds.extend(logits.argmax(dim=1).cpu().numpy())\n",
        "            labels.extend(yb.cpu().numpy())\n",
        "\n",
        "    avg_loss = total_loss / len(val_loader)\n",
        "    acc = accuracy_score(labels, preds)\n",
        "    auc = roc_auc_score(labels, probs)\n",
        "\n",
        "    return avg_loss, acc, auc\n",
        "\n",
        "def evaluate_model(model, loader, device):\n",
        "    model.eval()\n",
        "    preds, probs, labels = [], [], []\n",
        "\n",
        "    with torch.no_grad():\n",
        "        for xb, yb in loader:\n",
        "            xb = xb.to(device)\n",
        "            logits = model(xb)\n",
        "            probs.extend(F.softmax(logits, dim=1)[:, 1].cpu().numpy())\n",
        "            preds.extend(logits.argmax(dim=1).cpu().numpy())\n",
        "            labels.extend(yb.numpy())\n",
        "\n",
        "    acc = accuracy_score(labels, preds)\n",
        "    auc = roc_auc_score(labels, probs)\n",
        "    report = classification_report(labels, preds, target_names=['Not Funny', 'Funny'])\n",
        "\n",
        "    return acc, auc, report\n",
        "\n",
        "def plot_training_history(history, title):\n",
        "    fig, (ax1, ax2) = plt.subplots(1, 2, figsize=(15, 5))\n",
        "\n",
        "    ax1.plot(history['train_loss'], label='Train Loss')\n",
        "    ax1.plot(history['val_loss'], label='Validation Loss')\n",
        "    ax1.set_title('Loss vs. Epochs')\n",
        "    ax1.set_xlabel('Epochs')\n",
        "    ax1.set_ylabel('Loss')\n",
        "    ax1.legend()\n",
        "\n",
        "    ax2.plot(history['val_acc'], label='Validation Accuracy')\n",
        "    ax2.plot(history['val_auc'], label='Validation AUC')\n",
        "    ax2.set_title('Metrics vs. Epochs')\n",
        "    ax2.set_xlabel('Epochs')\n",
        "    ax2.set_ylabel('Score')\n",
        "    ax2.legend()\n",
        "\n",
        "    plt.suptitle(title)\n",
        "    plt.tight_layout()\n",
        "    plt.show()\n",
        "\n",
        "def run_text_experiment(text_dir, label_dict, device):\n",
        "    print(\"\\n====== Running Advanced Text-Only Classification ======\")\n",
        "    X, y = prepare_text_data(text_dir, label_dict)\n",
        "\n",
        "    X_train, X_temp, y_train, y_temp = train_test_split(X, y, test_size=0.3, stratify=y, random_state=42)\n",
        "    X_val, X_test, y_val, y_test = train_test_split(X_temp, y_temp, test_size=0.5, stratify=y_temp, random_state=42)\n",
        "\n",
        "    train_loader = DataLoader(TextDataset(X_train, y_train), batch_size=64, shuffle=True)\n",
        "    val_loader = DataLoader(TextDataset(X_val, y_val), batch_size=64)\n",
        "    test_loader = DataLoader(TextDataset(X_test, y_test), batch_size=64)\n",
        "\n",
        "    input_dim = X.shape[1]\n",
        "\n",
        "    models = [\n",
        "        (\"Transformer Model\", TransformerModel(input_dim).to(device)),\n",
        "        (\"Residual Attention Model\", ResidualAttentionModel(input_dim).to(device)),\n",
        "        (\"GRU Model\", GRUModel(input_dim).to(device))\n",
        "    ]\n",
        "\n",
        "    for name, model in models:\n",
        "        print(f\"\\nTraining {name}...\")\n",
        "        history = train_model(model, train_loader, val_loader, device)\n",
        "        acc, auc, report = evaluate_model(model, test_loader, device)\n",
        "\n",
        "        print(f\"\\n{name} - Test Results\")\n",
        "        print(f\"Accuracy: {acc:.4f}, AUC: {auc:.4f}\")\n",
        "        print(\"\\nClassification Report:\")\n",
        "        print(report)\n",
        "\n",
        "        plot_training_history(history, f\"{name} Training History\")\n",
        "\n",
        "# if __name__ == \"__main__\":\n",
        "#     device = torch.device(\"cuda\" if torch.cuda.is_available() else \"cpu\")\n",
        "#     print(f\"Using device: {device}\")\n",
        "#     run_text_experiment(text_dir, label_dict, device)\n"
      ],
      "metadata": {
        "colab": {
          "base_uri": "https://localhost:8080/",
          "height": 1000
        },
        "id": "SMu57GZ4zsPx",
        "outputId": "d52f5a88-87e7-47cd-e0de-bf4cb0f338e1"
      },
      "execution_count": null,
      "outputs": [
        {
          "output_type": "stream",
          "name": "stdout",
          "text": [
            "Using device: cpu\n",
            "\n",
            "====== Running Advanced Text-Only Classification ======\n"
          ]
        },
        {
          "output_type": "stream",
          "name": "stderr",
          "text": [
            "Preparing text data: 100%|██████████| 1322/1322 [00:01<00:00, 1186.81it/s]\n",
            "/usr/local/lib/python3.11/dist-packages/torch/optim/lr_scheduler.py:62: UserWarning: The verbose parameter is deprecated. Please use get_last_lr() to access the learning rate.\n",
            "  warnings.warn(\n"
          ]
        },
        {
          "output_type": "stream",
          "name": "stdout",
          "text": [
            "\n",
            "Training Transformer Model...\n"
          ]
        },
        {
          "output_type": "stream",
          "name": "stderr",
          "text": [
            "Epoch 1/15: 100%|██████████| 15/15 [00:00<00:00, 36.47it/s]\n"
          ]
        },
        {
          "output_type": "stream",
          "name": "stdout",
          "text": [
            "Epoch 1/15 - Train Loss: 0.6871, Val Loss: 0.6406, Val Acc: 0.6010, Val AUC: 0.6663\n"
          ]
        },
        {
          "output_type": "stream",
          "name": "stderr",
          "text": [
            "Epoch 2/15: 100%|██████████| 15/15 [00:00<00:00, 63.04it/s]\n"
          ]
        },
        {
          "output_type": "stream",
          "name": "stdout",
          "text": [
            "Epoch 2/15 - Train Loss: 0.6279, Val Loss: 0.6197, Val Acc: 0.5960, Val AUC: 0.6705\n"
          ]
        },
        {
          "output_type": "stream",
          "name": "stderr",
          "text": [
            "Epoch 3/15: 100%|██████████| 15/15 [00:00<00:00, 70.96it/s]\n"
          ]
        },
        {
          "output_type": "stream",
          "name": "stdout",
          "text": [
            "Epoch 3/15 - Train Loss: 0.5942, Val Loss: 0.6135, Val Acc: 0.6313, Val AUC: 0.6793\n"
          ]
        },
        {
          "output_type": "stream",
          "name": "stderr",
          "text": [
            "Epoch 4/15: 100%|██████████| 15/15 [00:00<00:00, 72.73it/s]\n"
          ]
        },
        {
          "output_type": "stream",
          "name": "stdout",
          "text": [
            "Epoch 4/15 - Train Loss: 0.5453, Val Loss: 0.6396, Val Acc: 0.6061, Val AUC: 0.6812\n"
          ]
        },
        {
          "output_type": "stream",
          "name": "stderr",
          "text": [
            "Epoch 5/15: 100%|██████████| 15/15 [00:00<00:00, 63.91it/s]\n"
          ]
        },
        {
          "output_type": "stream",
          "name": "stdout",
          "text": [
            "Epoch 5/15 - Train Loss: 0.5298, Val Loss: 0.6378, Val Acc: 0.6313, Val AUC: 0.6799\n"
          ]
        },
        {
          "output_type": "stream",
          "name": "stderr",
          "text": [
            "Epoch 6/15: 100%|██████████| 15/15 [00:00<00:00, 74.26it/s]\n"
          ]
        },
        {
          "output_type": "stream",
          "name": "stdout",
          "text": [
            "Epoch 6/15 - Train Loss: 0.4953, Val Loss: 0.6442, Val Acc: 0.6061, Val AUC: 0.6808\n"
          ]
        },
        {
          "output_type": "stream",
          "name": "stderr",
          "text": [
            "Epoch 7/15: 100%|██████████| 15/15 [00:00<00:00, 76.91it/s]\n"
          ]
        },
        {
          "output_type": "stream",
          "name": "stdout",
          "text": [
            "Epoch 7/15 - Train Loss: 0.4688, Val Loss: 0.6696, Val Acc: 0.6212, Val AUC: 0.6785\n",
            "Early stopping triggered after 7 epochs\n",
            "\n",
            "Transformer Model - Test Results\n",
            "Accuracy: 0.6834, AUC: 0.7229\n",
            "\n",
            "Classification Report:\n",
            "              precision    recall  f1-score   support\n",
            "\n",
            "   Not Funny       0.71      0.64      0.67       101\n",
            "       Funny       0.66      0.72      0.69        98\n",
            "\n",
            "    accuracy                           0.68       199\n",
            "   macro avg       0.69      0.68      0.68       199\n",
            "weighted avg       0.69      0.68      0.68       199\n",
            "\n"
          ]
        },
        {
          "output_type": "display_data",
          "data": {
            "text/plain": [
              "<Figure size 1500x500 with 2 Axes>"
            ],
            "image/png": "[encoded data removed]"
          },
          "metadata": {}
        },
        {
          "output_type": "stream",
          "name": "stderr",
          "text": [
            "/usr/local/lib/python3.11/dist-packages/torch/optim/lr_scheduler.py:62: UserWarning: The verbose parameter is deprecated. Please use get_last_lr() to access the learning rate.\n",
            "  warnings.warn(\n"
          ]
        },
        {
          "output_type": "stream",
          "name": "stdout",
          "text": [
            "\n",
            "Training Residual Attention Model...\n"
          ]
        },
        {
          "output_type": "stream",
          "name": "stderr",
          "text": [
            "Epoch 1/15: 100%|██████████| 15/15 [00:00<00:00, 77.87it/s]\n"
          ]
        },
        {
          "output_type": "stream",
          "name": "stdout",
          "text": [
            "Epoch 1/15 - Train Loss: 0.8138, Val Loss: 0.6556, Val Acc: 0.5606, Val AUC: 0.6481\n"
          ]
        },
        {
          "output_type": "stream",
          "name": "stderr",
          "text": [
            "Epoch 2/15: 100%|██████████| 15/15 [00:00<00:00, 85.04it/s]\n"
          ]
        },
        {
          "output_type": "stream",
          "name": "stdout",
          "text": [
            "Epoch 2/15 - Train Loss: 0.6029, Val Loss: 0.6264, Val Acc: 0.5960, Val AUC: 0.6744\n"
          ]
        },
        {
          "output_type": "stream",
          "name": "stderr",
          "text": [
            "Epoch 3/15: 100%|██████████| 15/15 [00:00<00:00, 80.53it/s]\n"
          ]
        },
        {
          "output_type": "stream",
          "name": "stdout",
          "text": [
            "Epoch 3/15 - Train Loss: 0.4833, Val Loss: 0.6404, Val Acc: 0.6263, Val AUC: 0.6665\n"
          ]
        },
        {
          "output_type": "stream",
          "name": "stderr",
          "text": [
            "Epoch 4/15: 100%|██████████| 15/15 [00:00<00:00, 84.71it/s]\n"
          ]
        },
        {
          "output_type": "stream",
          "name": "stdout",
          "text": [
            "Epoch 4/15 - Train Loss: 0.4236, Val Loss: 0.6330, Val Acc: 0.6111, Val AUC: 0.6632\n"
          ]
        },
        {
          "output_type": "stream",
          "name": "stderr",
          "text": [
            "Epoch 5/15: 100%|██████████| 15/15 [00:00<00:00, 79.00it/s]\n"
          ]
        },
        {
          "output_type": "stream",
          "name": "stdout",
          "text": [
            "Epoch 5/15 - Train Loss: 0.3682, Val Loss: 0.6637, Val Acc: 0.6364, Val AUC: 0.6732\n",
            "Early stopping triggered after 5 epochs\n",
            "\n",
            "Residual Attention Model - Test Results\n",
            "Accuracy: 0.6683, AUC: 0.7158\n",
            "\n",
            "Classification Report:\n",
            "              precision    recall  f1-score   support\n",
            "\n",
            "   Not Funny       0.65      0.73      0.69       101\n",
            "       Funny       0.69      0.60      0.64        98\n",
            "\n",
            "    accuracy                           0.67       199\n",
            "   macro avg       0.67      0.67      0.67       199\n",
            "weighted avg       0.67      0.67      0.67       199\n",
            "\n"
          ]
        },
        {
          "output_type": "display_data",
          "data": {
            "text/plain": [
              "<Figure size 1500x500 with 2 Axes>"
            ],
            "image/png": "[encoded data removed]"
          },
          "metadata": {}
        },
        {
          "output_type": "stream",
          "name": "stderr",
          "text": [
            "/usr/local/lib/python3.11/dist-packages/torch/optim/lr_scheduler.py:62: UserWarning: The verbose parameter is deprecated. Please use get_last_lr() to access the learning rate.\n",
            "  warnings.warn(\n"
          ]
        },
        {
          "output_type": "stream",
          "name": "stdout",
          "text": [
            "\n",
            "Training Multi-Scale Model...\n"
          ]
        },
        {
          "output_type": "stream",
          "name": "stderr",
          "text": [
            "Epoch 1/15: 100%|██████████| 15/15 [00:00<00:00, 53.23it/s]\n"
          ]
        },
        {
          "output_type": "stream",
          "name": "stdout",
          "text": [
            "Epoch 1/15 - Train Loss: 0.6932, Val Loss: 0.6869, Val Acc: 0.5202, Val AUC: 0.6468\n"
          ]
        },
        {
          "output_type": "stream",
          "name": "stderr",
          "text": [
            "Epoch 2/15: 100%|██████████| 15/15 [00:00<00:00, 52.19it/s]\n"
          ]
        },
        {
          "output_type": "stream",
          "name": "stdout",
          "text": [
            "Epoch 2/15 - Train Loss: 0.6429, Val Loss: 0.6648, Val Acc: 0.6111, Val AUC: 0.6641\n"
          ]
        },
        {
          "output_type": "stream",
          "name": "stderr",
          "text": [
            "Epoch 3/15: 100%|██████████| 15/15 [00:00<00:00, 64.99it/s]\n"
          ]
        },
        {
          "output_type": "stream",
          "name": "stdout",
          "text": [
            "Epoch 3/15 - Train Loss: 0.5984, Val Loss: 0.6371, Val Acc: 0.6212, Val AUC: 0.6719\n"
          ]
        },
        {
          "output_type": "stream",
          "name": "stderr",
          "text": [
            "Epoch 4/15: 100%|██████████| 15/15 [00:00<00:00, 64.04it/s]\n"
          ]
        },
        {
          "output_type": "stream",
          "name": "stdout",
          "text": [
            "Epoch 4/15 - Train Loss: 0.5688, Val Loss: 0.6175, Val Acc: 0.6263, Val AUC: 0.6787\n"
          ]
        },
        {
          "output_type": "stream",
          "name": "stderr",
          "text": [
            "Epoch 5/15: 100%|██████████| 15/15 [00:00<00:00, 64.50it/s]\n"
          ]
        },
        {
          "output_type": "stream",
          "name": "stdout",
          "text": [
            "Epoch 5/15 - Train Loss: 0.5361, Val Loss: 0.6136, Val Acc: 0.6313, Val AUC: 0.6817\n"
          ]
        },
        {
          "output_type": "stream",
          "name": "stderr",
          "text": [
            "Epoch 6/15: 100%|██████████| 15/15 [00:00<00:00, 60.69it/s]\n"
          ]
        },
        {
          "output_type": "stream",
          "name": "stdout",
          "text": [
            "Epoch 6/15 - Train Loss: 0.5014, Val Loss: 0.6130, Val Acc: 0.6465, Val AUC: 0.6825\n"
          ]
        },
        {
          "output_type": "stream",
          "name": "stderr",
          "text": [
            "Epoch 7/15: 100%|██████████| 15/15 [00:00<00:00, 59.39it/s]\n"
          ]
        },
        {
          "output_type": "stream",
          "name": "stdout",
          "text": [
            "Epoch 7/15 - Train Loss: 0.4742, Val Loss: 0.6182, Val Acc: 0.6313, Val AUC: 0.6874\n"
          ]
        },
        {
          "output_type": "stream",
          "name": "stderr",
          "text": [
            "Epoch 8/15: 100%|██████████| 15/15 [00:00<00:00, 58.19it/s]\n"
          ]
        },
        {
          "output_type": "stream",
          "name": "stdout",
          "text": [
            "Epoch 8/15 - Train Loss: 0.4386, Val Loss: 0.6318, Val Acc: 0.6465, Val AUC: 0.6847\n"
          ]
        },
        {
          "output_type": "stream",
          "name": "stderr",
          "text": [
            "Epoch 9/15: 100%|██████████| 15/15 [00:00<00:00, 60.07it/s]\n"
          ]
        },
        {
          "output_type": "stream",
          "name": "stdout",
          "text": [
            "Epoch 9/15 - Train Loss: 0.4152, Val Loss: 0.6357, Val Acc: 0.6515, Val AUC: 0.6826\n"
          ]
        },
        {
          "output_type": "stream",
          "name": "stderr",
          "text": [
            "Epoch 10/15: 100%|██████████| 15/15 [00:00<00:00, 87.89it/s]\n"
          ]
        },
        {
          "output_type": "stream",
          "name": "stdout",
          "text": [
            "Epoch 10/15 - Train Loss: 0.3809, Val Loss: 0.6645, Val Acc: 0.6364, Val AUC: 0.6886\n"
          ]
        },
        {
          "output_type": "stream",
          "name": "stderr",
          "text": [
            "Epoch 11/15: 100%|██████████| 15/15 [00:00<00:00, 79.11it/s]\n"
          ]
        },
        {
          "output_type": "stream",
          "name": "stdout",
          "text": [
            "Epoch 11/15 - Train Loss: 0.3479, Val Loss: 0.6587, Val Acc: 0.6414, Val AUC: 0.6887\n"
          ]
        },
        {
          "output_type": "stream",
          "name": "stderr",
          "text": [
            "Epoch 12/15: 100%|██████████| 15/15 [00:00<00:00, 89.10it/s]\n"
          ]
        },
        {
          "output_type": "stream",
          "name": "stdout",
          "text": [
            "Epoch 12/15 - Train Loss: 0.3089, Val Loss: 0.6989, Val Acc: 0.6162, Val AUC: 0.6829\n"
          ]
        },
        {
          "output_type": "stream",
          "name": "stderr",
          "text": [
            "Epoch 13/15: 100%|██████████| 15/15 [00:00<00:00, 86.77it/s]\n"
          ]
        },
        {
          "output_type": "stream",
          "name": "stdout",
          "text": [
            "Epoch 13/15 - Train Loss: 0.2778, Val Loss: 0.7110, Val Acc: 0.6364, Val AUC: 0.6878\n"
          ]
        },
        {
          "output_type": "stream",
          "name": "stderr",
          "text": [
            "Epoch 14/15: 100%|██████████| 15/15 [00:00<00:00, 89.11it/s]\n"
          ]
        },
        {
          "output_type": "stream",
          "name": "stdout",
          "text": [
            "Epoch 14/15 - Train Loss: 0.2534, Val Loss: 0.7316, Val Acc: 0.6162, Val AUC: 0.6840\n",
            "Early stopping triggered after 14 epochs\n",
            "\n",
            "Multi-Scale Model - Test Results\n",
            "Accuracy: 0.6633, AUC: 0.7248\n",
            "\n",
            "Classification Report:\n",
            "              precision    recall  f1-score   support\n",
            "\n",
            "   Not Funny       0.65      0.73      0.69       101\n",
            "       Funny       0.68      0.59      0.63        98\n",
            "\n",
            "    accuracy                           0.66       199\n",
            "   macro avg       0.67      0.66      0.66       199\n",
            "weighted avg       0.67      0.66      0.66       199\n",
            "\n"
          ]
        },
        {
          "output_type": "display_data",
          "data": {
            "text/plain": [
              "<Figure size 1500x500 with 2 Axes>"
            ],
            "image/png": "[encoded data removed]"
          },
          "metadata": {}
        },
        {
          "output_type": "stream",
          "name": "stderr",
          "text": [
            "/usr/local/lib/python3.11/dist-packages/torch/optim/lr_scheduler.py:62: UserWarning: The verbose parameter is deprecated. Please use get_last_lr() to access the learning rate.\n",
            "  warnings.warn(\n"
          ]
        },
        {
          "output_type": "stream",
          "name": "stdout",
          "text": [
            "\n",
            "Training GRU Model...\n"
          ]
        },
        {
          "output_type": "stream",
          "name": "stderr",
          "text": [
            "Epoch 1/15: 100%|██████████| 15/15 [00:00<00:00, 61.16it/s]\n"
          ]
        },
        {
          "output_type": "stream",
          "name": "stdout",
          "text": [
            "Epoch 1/15 - Train Loss: 0.6938, Val Loss: 0.6876, Val Acc: 0.5101, Val AUC: 0.6244\n"
          ]
        },
        {
          "output_type": "stream",
          "name": "stderr",
          "text": [
            "Epoch 2/15: 100%|██████████| 15/15 [00:00<00:00, 62.31it/s]\n"
          ]
        },
        {
          "output_type": "stream",
          "name": "stdout",
          "text": [
            "Epoch 2/15 - Train Loss: 0.6904, Val Loss: 0.6860, Val Acc: 0.5859, Val AUC: 0.6418\n"
          ]
        },
        {
          "output_type": "stream",
          "name": "stderr",
          "text": [
            "Epoch 3/15: 100%|██████████| 15/15 [00:00<00:00, 64.34it/s]\n"
          ]
        },
        {
          "output_type": "stream",
          "name": "stdout",
          "text": [
            "Epoch 3/15 - Train Loss: 0.6868, Val Loss: 0.6797, Val Acc: 0.6162, Val AUC: 0.6570\n"
          ]
        },
        {
          "output_type": "stream",
          "name": "stderr",
          "text": [
            "Epoch 4/15: 100%|██████████| 15/15 [00:00<00:00, 61.12it/s]\n"
          ]
        },
        {
          "output_type": "stream",
          "name": "stdout",
          "text": [
            "Epoch 4/15 - Train Loss: 0.6800, Val Loss: 0.6693, Val Acc: 0.6061, Val AUC: 0.6754\n"
          ]
        },
        {
          "output_type": "stream",
          "name": "stderr",
          "text": [
            "Epoch 5/15: 100%|██████████| 15/15 [00:00<00:00, 64.72it/s]\n"
          ]
        },
        {
          "output_type": "stream",
          "name": "stdout",
          "text": [
            "Epoch 5/15 - Train Loss: 0.6661, Val Loss: 0.6483, Val Acc: 0.6162, Val AUC: 0.6869\n"
          ]
        },
        {
          "output_type": "stream",
          "name": "stderr",
          "text": [
            "Epoch 6/15: 100%|██████████| 15/15 [00:00<00:00, 63.72it/s]\n"
          ]
        },
        {
          "output_type": "stream",
          "name": "stdout",
          "text": [
            "Epoch 6/15 - Train Loss: 0.6409, Val Loss: 0.6238, Val Acc: 0.6364, Val AUC: 0.6940\n"
          ]
        },
        {
          "output_type": "stream",
          "name": "stderr",
          "text": [
            "Epoch 7/15: 100%|██████████| 15/15 [00:00<00:00, 66.11it/s]\n"
          ]
        },
        {
          "output_type": "stream",
          "name": "stdout",
          "text": [
            "Epoch 7/15 - Train Loss: 0.6116, Val Loss: 0.5998, Val Acc: 0.6364, Val AUC: 0.7007\n"
          ]
        },
        {
          "output_type": "stream",
          "name": "stderr",
          "text": [
            "Epoch 8/15: 100%|██████████| 15/15 [00:00<00:00, 60.64it/s]\n"
          ]
        },
        {
          "output_type": "stream",
          "name": "stdout",
          "text": [
            "Epoch 8/15 - Train Loss: 0.5831, Val Loss: 0.6026, Val Acc: 0.6162, Val AUC: 0.7022\n"
          ]
        },
        {
          "output_type": "stream",
          "name": "stderr",
          "text": [
            "Epoch 9/15: 100%|██████████| 15/15 [00:00<00:00, 66.32it/s]\n"
          ]
        },
        {
          "output_type": "stream",
          "name": "stdout",
          "text": [
            "Epoch 9/15 - Train Loss: 0.5531, Val Loss: 0.5931, Val Acc: 0.6566, Val AUC: 0.6985\n"
          ]
        },
        {
          "output_type": "stream",
          "name": "stderr",
          "text": [
            "Epoch 10/15: 100%|██████████| 15/15 [00:00<00:00, 66.24it/s]\n"
          ]
        },
        {
          "output_type": "stream",
          "name": "stdout",
          "text": [
            "Epoch 10/15 - Train Loss: 0.5274, Val Loss: 0.6010, Val Acc: 0.6465, Val AUC: 0.6974\n"
          ]
        },
        {
          "output_type": "stream",
          "name": "stderr",
          "text": [
            "Epoch 11/15: 100%|██████████| 15/15 [00:00<00:00, 66.98it/s]\n"
          ]
        },
        {
          "output_type": "stream",
          "name": "stdout",
          "text": [
            "Epoch 11/15 - Train Loss: 0.5086, Val Loss: 0.6289, Val Acc: 0.6515, Val AUC: 0.7000\n",
            "Early stopping triggered after 11 epochs\n",
            "\n",
            "GRU Model - Test Results\n",
            "Accuracy: 0.7136, AUC: 0.7560\n",
            "\n",
            "Classification Report:\n",
            "              precision    recall  f1-score   support\n",
            "\n",
            "   Not Funny       0.69      0.79      0.74       101\n",
            "       Funny       0.75      0.63      0.69        98\n",
            "\n",
            "    accuracy                           0.71       199\n",
            "   macro avg       0.72      0.71      0.71       199\n",
            "weighted avg       0.72      0.71      0.71       199\n",
            "\n"
          ]
        },
        {
          "output_type": "display_data",
          "data": {
            "text/plain": [
              "<Figure size 1500x500 with 2 Axes>"
            ],
            "image/png": "[encoded data removed]"
          },
          "metadata": {}
        }
      ]
    },
    {
      "cell_type": "markdown",
      "source": [
        "## Unimodal - Audio (New Features)"
      ],
      "metadata": {
        "id": "qZm95nJDRFne"
      }
    },
    {
      "cell_type": "code",
      "source": [
        "import os\n",
        "import pickle\n",
        "import numpy as np\n",
        "import torch\n",
        "import torch.nn as nn\n",
        "import torch.nn.functional as F\n",
        "from torch.utils.data import Dataset, DataLoader\n",
        "from sklearn.model_selection import train_test_split\n",
        "from sklearn.metrics import accuracy_score, roc_auc_score\n",
        "from tqdm import tqdm\n",
        "import joblib\n",
        "\n",
        "label_path = \"/content/humor_label_sdk.pkl\"\n",
        "\n",
        "with open(label_path, \"rb\") as f:\n",
        "    label_dict = pickle.load(f)\n",
        "\n",
        "def safe_pool(x):\n",
        "    if isinstance(x, torch.Tensor):\n",
        "        x = x.cpu().numpy()\n",
        "    x = np.array(x)\n",
        "    while x.ndim > 2:\n",
        "        x = np.squeeze(x, axis=0)\n",
        "    if x.ndim == 2:\n",
        "        x = np.mean(x, axis=0)\n",
        "    return x\n",
        "\n",
        "def prepare_audio_data(audio_dir, label_dict):\n",
        "    X, y = [], []\n",
        "    for fname in tqdm(sorted(os.listdir(audio_dir)), desc=\"Preparing audio data\"):\n",
        "        if not fname.endswith(\".pkl\"):\n",
        "            continue\n",
        "        try:\n",
        "            vid = int(os.path.splitext(fname)[0])\n",
        "            if vid not in label_dict:\n",
        "                continue\n",
        "            with open(os.path.join(audio_dir, f\"{vid}.pkl\"), \"rb\") as f:\n",
        "                audio_feat = joblib.load(f)\n",
        "            if isinstance(audio_feat, dict):\n",
        "                if 'punchline_embedding' in audio_feat:\n",
        "                    audio_feat = audio_feat['punchline_embedding']\n",
        "                else:\n",
        "                    raise ValueError(f\"No punchline_embedding found in {fname}\")\n",
        "            if audio_feat is None or len(audio_feat) == 0:\n",
        "                raise ValueError(f\"Audio feature is None or empty for {fname}\")\n",
        "            audio_feat = safe_pool(audio_feat)\n",
        "            X.append(audio_feat)\n",
        "            y.append(label_dict[vid])\n",
        "        except Exception as e:\n",
        "            print(f\"Skipping {fname}: {e}\")\n",
        "    return np.array(X), np.array(y)\n",
        "\n",
        "class AudioDataset(Dataset):\n",
        "    def __init__(self, X, y):\n",
        "        self.X = torch.tensor(X, dtype=torch.float32)\n",
        "        self.y = torch.tensor(y, dtype=torch.long)\n",
        "    def __len__(self):\n",
        "        return len(self.X)\n",
        "    def __getitem__(self, idx):\n",
        "        return self.X[idx], self.y[idx]\n",
        "\n",
        "# Simple MLP\n",
        "class SimpleAudioMLP(nn.Module):\n",
        "    def __init__(self, input_dim):\n",
        "        super().__init__()\n",
        "        self.net = nn.Sequential(\n",
        "            nn.Linear(input_dim, 128),\n",
        "            nn.ReLU(),\n",
        "            nn.Linear(128, 2)\n",
        "        )\n",
        "    def forward(self, x):\n",
        "        return self.net(x)\n",
        "\n",
        "# Deeper MLP\n",
        "class AudioMLP(nn.Module):\n",
        "    def __init__(self, input_dim):\n",
        "        super().__init__()\n",
        "        self.net = nn.Sequential(\n",
        "            nn.Linear(input_dim, 256),\n",
        "            nn.ReLU(),\n",
        "            nn.Dropout(0.3),\n",
        "            nn.Linear(256, 128),\n",
        "            nn.ReLU(),\n",
        "            nn.Linear(128, 2)\n",
        "        )\n",
        "    def forward(self, x):\n",
        "        return self.net(x)\n",
        "\n",
        "# Transformer model\n",
        "class AudioTransformer(nn.Module):\n",
        "    def __init__(self, input_dim, nhead=8, num_layers=2):\n",
        "        super().__init__()\n",
        "        self.input_proj = nn.Linear(input_dim, 256)\n",
        "        encoder_layer = nn.TransformerEncoderLayer(\n",
        "            d_model=256,\n",
        "            nhead=nhead,\n",
        "            dim_feedforward=512,\n",
        "            dropout=0.2,\n",
        "            batch_first=True\n",
        "        )\n",
        "        self.transformer_encoder = nn.TransformerEncoder(encoder_layer, num_layers=num_layers)\n",
        "        self.classifier = nn.Linear(256, 2)\n",
        "    def forward(self, x):\n",
        "        if x.dim() == 2:\n",
        "            x = x.unsqueeze(1)\n",
        "        x = self.input_proj(x)\n",
        "        x = self.transformer_encoder(x)\n",
        "        x = x.mean(dim=1)\n",
        "        return self.classifier(x)\n",
        "\n",
        "class ResidualAudioNet(nn.Module):\n",
        "    def __init__(self, input_dim):\n",
        "        super().__init__()\n",
        "        self.fc1 = nn.Linear(input_dim, 256)\n",
        "        self.bn1 = nn.BatchNorm1d(256)\n",
        "        self.fc2 = nn.Linear(256, 256)\n",
        "        self.bn2 = nn.BatchNorm1d(256)\n",
        "        self.fc3 = nn.Linear(256, 128)\n",
        "        self.bn3 = nn.BatchNorm1d(128)\n",
        "        self.dropout = nn.Dropout(0.4)\n",
        "        self.output = nn.Linear(128, 2)\n",
        "    def forward(self, x):\n",
        "        identity = self.fc1(x)\n",
        "        identity = self.bn1(identity)\n",
        "        identity = F.relu(identity)\n",
        "        out = self.fc2(identity)\n",
        "        out = self.bn2(out)\n",
        "        out = F.relu(out)\n",
        "        out = out + identity\n",
        "        out = self.fc3(out)\n",
        "        out = self.bn3(out)\n",
        "        out = F.relu(out)\n",
        "        out = self.dropout(out)\n",
        "        return self.output(out)\n",
        "\n",
        "def train_model(model, train_loader, val_loader, device, epochs=10):\n",
        "    optimizer = torch.optim.Adam(model.parameters(), lr=1e-4, weight_decay=1e-5)\n",
        "    scheduler = torch.optim.lr_scheduler.ReduceLROnPlateau(optimizer, mode='max', factor=0.5, patience=2)\n",
        "    criterion = nn.CrossEntropyLoss()\n",
        "    best_val_auc = 0\n",
        "    for epoch in range(1, epochs+1):\n",
        "        model.train()\n",
        "        train_loss = 0\n",
        "        for xb, yb in tqdm(train_loader, desc=f\"Epoch {epoch}/{epochs}\"):\n",
        "            xb, yb = xb.to(device), yb.to(device)\n",
        "            optimizer.zero_grad()\n",
        "            output = model(xb)\n",
        "            loss = criterion(output, yb)\n",
        "            loss.backward()\n",
        "            optimizer.step()\n",
        "            train_loss += loss.item()\n",
        "        avg_loss = train_loss / len(train_loader)\n",
        "        val_acc, val_auc = evaluate_model(model, val_loader, device)\n",
        "        print(f\"Epoch {epoch}/{epochs} - Loss: {avg_loss:.4f}, Val Acc: {val_acc:.4f}, Val AUC: {val_auc:.4f}\")\n",
        "        scheduler.step(val_auc)\n",
        "        if val_auc > best_val_auc:\n",
        "            best_val_auc = val_auc\n",
        "\n",
        "def evaluate_model(model, loader, device):\n",
        "    model.eval()\n",
        "    preds, probs, labels = [], [], []\n",
        "    with torch.no_grad():\n",
        "        for xb, yb in loader:\n",
        "            xb = xb.to(device)\n",
        "            logits = model(xb)\n",
        "            probs.extend(F.softmax(logits, dim=1)[:, 1].cpu().numpy())\n",
        "            preds.extend(logits.argmax(dim=1).cpu().numpy())\n",
        "            labels.extend(yb.numpy())\n",
        "    acc = accuracy_score(labels, preds)\n",
        "    auc = roc_auc_score(labels, probs)\n",
        "    return acc, auc\n",
        "\n",
        "def run_audio_experiment(audio_dir, label_dict, device):\n",
        "    print(\"\\n====== Running Wav2Vec Audio Classification ======\")\n",
        "    X, y = prepare_audio_data(audio_dir, label_dict)\n",
        "    X_train, X_temp, y_train, y_temp = train_test_split(X, y, test_size=0.3, stratify=y, random_state=42)\n",
        "    X_val, X_test, y_val, y_test = train_test_split(X_temp, y_temp, test_size=0.5, stratify=y_temp, random_state=42)\n",
        "    train_loader = DataLoader(AudioDataset(X_train, y_train), batch_size=64, shuffle=True)\n",
        "    val_loader = DataLoader(AudioDataset(X_val, y_val), batch_size=64)\n",
        "    test_loader = DataLoader(AudioDataset(X_test, y_test), batch_size=64)\n",
        "    input_dim = X.shape[1]\n",
        "    models = [\n",
        "        (\"Very Simple MLP\", SimpleAudioMLP(input_dim).to(device)),\n",
        "        (\"Simple AudioMLP\", AudioMLP(input_dim).to(device)),\n",
        "        (\"Audio Transformer\", AudioTransformer(input_dim).to(device)),\n",
        "        (\"Residual Audio Network\", ResidualAudioNet(input_dim).to(device))\n",
        "    ]\n",
        "    for name, model in models:\n",
        "        print(f\"\\nTraining {name}...\")\n",
        "        train_model(model, train_loader, val_loader, device)\n",
        "        test_acc, test_auc = evaluate_model(model, test_loader, device)\n",
        "        print(f\"{name} - Test Results: Accuracy: {test_acc:.4f}, AUC: {test_auc:.4f}\")\n",
        "\n",
        "# if __name__ == \"__main__\":\n",
        "#     device = torch.device(\"cuda\" if torch.cuda.is_available() else \"cpu\")\n",
        "#     print(f\"Using device: {device}\")\n",
        "#     run_audio_experiment(audio_dir, label_dict, device)"
      ],
      "metadata": {
        "colab": {
          "base_uri": "https://localhost:8080/"
        },
        "id": "AgHvcQIjzsN2",
        "outputId": "4fa15fff-fd58-4282-9a79-a0130bfb47c8"
      },
      "execution_count": null,
      "outputs": [
        {
          "output_type": "stream",
          "name": "stdout",
          "text": [
            "Using device: cpu\n",
            "\n",
            "====== Running Wav2Vec Audio Classification ======\n"
          ]
        },
        {
          "output_type": "stream",
          "name": "stderr",
          "text": [
            "Preparing audio data: 100%|██████████| 1322/1322 [00:44<00:00, 29.70it/s]\n"
          ]
        },
        {
          "output_type": "stream",
          "name": "stdout",
          "text": [
            "\n",
            "Training Very Simple MLP...\n"
          ]
        },
        {
          "output_type": "stream",
          "name": "stderr",
          "text": [
            "Epoch 1/10: 100%|██████████| 15/15 [00:00<00:00, 239.42it/s]\n"
          ]
        },
        {
          "output_type": "stream",
          "name": "stdout",
          "text": [
            "Epoch 1/10 - Loss: 0.6909, Val Acc: 0.4798, Val AUC: 0.4926\n"
          ]
        },
        {
          "output_type": "stream",
          "name": "stderr",
          "text": [
            "Epoch 2/10: 100%|██████████| 15/15 [00:00<00:00, 249.29it/s]\n"
          ]
        },
        {
          "output_type": "stream",
          "name": "stdout",
          "text": [
            "Epoch 2/10 - Loss: 0.6870, Val Acc: 0.5051, Val AUC: 0.4959\n"
          ]
        },
        {
          "output_type": "stream",
          "name": "stderr",
          "text": [
            "Epoch 3/10: 100%|██████████| 15/15 [00:00<00:00, 278.51it/s]\n"
          ]
        },
        {
          "output_type": "stream",
          "name": "stdout",
          "text": [
            "Epoch 3/10 - Loss: 0.6848, Val Acc: 0.5051, Val AUC: 0.4989\n"
          ]
        },
        {
          "output_type": "stream",
          "name": "stderr",
          "text": [
            "Epoch 4/10: 100%|██████████| 15/15 [00:00<00:00, 276.54it/s]\n"
          ]
        },
        {
          "output_type": "stream",
          "name": "stdout",
          "text": [
            "Epoch 4/10 - Loss: 0.6848, Val Acc: 0.4949, Val AUC: 0.4998\n"
          ]
        },
        {
          "output_type": "stream",
          "name": "stderr",
          "text": [
            "Epoch 5/10: 100%|██████████| 15/15 [00:00<00:00, 273.92it/s]\n"
          ]
        },
        {
          "output_type": "stream",
          "name": "stdout",
          "text": [
            "Epoch 5/10 - Loss: 0.6805, Val Acc: 0.5202, Val AUC: 0.5021\n"
          ]
        },
        {
          "output_type": "stream",
          "name": "stderr",
          "text": [
            "Epoch 6/10: 100%|██████████| 15/15 [00:00<00:00, 295.52it/s]\n"
          ]
        },
        {
          "output_type": "stream",
          "name": "stdout",
          "text": [
            "Epoch 6/10 - Loss: 0.6798, Val Acc: 0.4899, Val AUC: 0.5026\n"
          ]
        },
        {
          "output_type": "stream",
          "name": "stderr",
          "text": [
            "Epoch 7/10: 100%|██████████| 15/15 [00:00<00:00, 285.01it/s]\n"
          ]
        },
        {
          "output_type": "stream",
          "name": "stdout",
          "text": [
            "Epoch 7/10 - Loss: 0.6765, Val Acc: 0.4798, Val AUC: 0.5033\n"
          ]
        },
        {
          "output_type": "stream",
          "name": "stderr",
          "text": [
            "Epoch 8/10: 100%|██████████| 15/15 [00:00<00:00, 270.02it/s]"
          ]
        },
        {
          "output_type": "stream",
          "name": "stdout",
          "text": [
            "Epoch 8/10 - Loss: 0.6768, Val Acc: 0.4798, Val AUC: 0.5038"
          ]
        },
        {
          "output_type": "stream",
          "name": "stderr",
          "text": [
            "\n"
          ]
        },
        {
          "output_type": "stream",
          "name": "stdout",
          "text": [
            "\n"
          ]
        },
        {
          "output_type": "stream",
          "name": "stderr",
          "text": [
            "Epoch 9/10: 100%|██████████| 15/15 [00:00<00:00, 256.05it/s]\n"
          ]
        },
        {
          "output_type": "stream",
          "name": "stdout",
          "text": [
            "Epoch 9/10 - Loss: 0.6753, Val Acc: 0.4949, Val AUC: 0.5077\n"
          ]
        },
        {
          "output_type": "stream",
          "name": "stderr",
          "text": [
            "Epoch 10/10: 100%|██████████| 15/15 [00:00<00:00, 226.75it/s]\n"
          ]
        },
        {
          "output_type": "stream",
          "name": "stdout",
          "text": [
            "Epoch 10/10 - Loss: 0.6741, Val Acc: 0.5000, Val AUC: 0.5085\n",
            "Very Simple MLP - Test Results: Accuracy: 0.5829, AUC: 0.5716\n",
            "\n",
            "Training Simple AudioMLP...\n"
          ]
        },
        {
          "output_type": "stream",
          "name": "stderr",
          "text": [
            "Epoch 1/10: 100%|██████████| 15/15 [00:00<00:00, 140.51it/s]\n"
          ]
        },
        {
          "output_type": "stream",
          "name": "stdout",
          "text": [
            "Epoch 1/10 - Loss: 0.6924, Val Acc: 0.4949, Val AUC: 0.5238\n"
          ]
        },
        {
          "output_type": "stream",
          "name": "stderr",
          "text": [
            "Epoch 2/10: 100%|██████████| 15/15 [00:00<00:00, 135.99it/s]\n"
          ]
        },
        {
          "output_type": "stream",
          "name": "stdout",
          "text": [
            "Epoch 2/10 - Loss: 0.6899, Val Acc: 0.5202, Val AUC: 0.5174\n"
          ]
        },
        {
          "output_type": "stream",
          "name": "stderr",
          "text": [
            "Epoch 3/10: 100%|██████████| 15/15 [00:00<00:00, 154.94it/s]\n"
          ]
        },
        {
          "output_type": "stream",
          "name": "stdout",
          "text": [
            "Epoch 3/10 - Loss: 0.6888, Val Acc: 0.5202, Val AUC: 0.5162\n"
          ]
        },
        {
          "output_type": "stream",
          "name": "stderr",
          "text": [
            "Epoch 4/10: 100%|██████████| 15/15 [00:00<00:00, 163.60it/s]\n"
          ]
        },
        {
          "output_type": "stream",
          "name": "stdout",
          "text": [
            "Epoch 4/10 - Loss: 0.6864, Val Acc: 0.5202, Val AUC: 0.5138\n"
          ]
        },
        {
          "output_type": "stream",
          "name": "stderr",
          "text": [
            "Epoch 5/10: 100%|██████████| 15/15 [00:00<00:00, 165.26it/s]\n"
          ]
        },
        {
          "output_type": "stream",
          "name": "stdout",
          "text": [
            "Epoch 5/10 - Loss: 0.6841, Val Acc: 0.5253, Val AUC: 0.5143\n"
          ]
        },
        {
          "output_type": "stream",
          "name": "stderr",
          "text": [
            "Epoch 6/10: 100%|██████████| 15/15 [00:00<00:00, 161.55it/s]\n"
          ]
        },
        {
          "output_type": "stream",
          "name": "stdout",
          "text": [
            "Epoch 6/10 - Loss: 0.6832, Val Acc: 0.5253, Val AUC: 0.5138\n"
          ]
        },
        {
          "output_type": "stream",
          "name": "stderr",
          "text": [
            "Epoch 7/10: 100%|██████████| 15/15 [00:00<00:00, 167.33it/s]\n"
          ]
        },
        {
          "output_type": "stream",
          "name": "stdout",
          "text": [
            "Epoch 7/10 - Loss: 0.6832, Val Acc: 0.5152, Val AUC: 0.5122\n"
          ]
        },
        {
          "output_type": "stream",
          "name": "stderr",
          "text": [
            "Epoch 8/10: 100%|██████████| 15/15 [00:00<00:00, 152.75it/s]\n"
          ]
        },
        {
          "output_type": "stream",
          "name": "stdout",
          "text": [
            "Epoch 8/10 - Loss: 0.6821, Val Acc: 0.5101, Val AUC: 0.5126\n"
          ]
        },
        {
          "output_type": "stream",
          "name": "stderr",
          "text": [
            "Epoch 9/10: 100%|██████████| 15/15 [00:00<00:00, 151.26it/s]\n"
          ]
        },
        {
          "output_type": "stream",
          "name": "stdout",
          "text": [
            "Epoch 9/10 - Loss: 0.6806, Val Acc: 0.5101, Val AUC: 0.5125\n"
          ]
        },
        {
          "output_type": "stream",
          "name": "stderr",
          "text": [
            "Epoch 10/10: 100%|██████████| 15/15 [00:00<00:00, 141.81it/s]\n"
          ]
        },
        {
          "output_type": "stream",
          "name": "stdout",
          "text": [
            "Epoch 10/10 - Loss: 0.6811, Val Acc: 0.5051, Val AUC: 0.5133\n",
            "Simple AudioMLP - Test Results: Accuracy: 0.5427, AUC: 0.5639\n",
            "\n",
            "Training Audio Transformer...\n"
          ]
        },
        {
          "output_type": "stream",
          "name": "stderr",
          "text": [
            "Epoch 1/10: 100%|██████████| 15/15 [00:00<00:00, 28.75it/s]\n"
          ]
        },
        {
          "output_type": "stream",
          "name": "stdout",
          "text": [
            "Epoch 1/10 - Loss: 0.7361, Val Acc: 0.5051, Val AUC: 0.5390\n"
          ]
        },
        {
          "output_type": "stream",
          "name": "stderr",
          "text": [
            "Epoch 2/10: 100%|██████████| 15/15 [00:00<00:00, 26.98it/s]\n"
          ]
        },
        {
          "output_type": "stream",
          "name": "stdout",
          "text": [
            "Epoch 2/10 - Loss: 0.6905, Val Acc: 0.5152, Val AUC: 0.5449\n"
          ]
        },
        {
          "output_type": "stream",
          "name": "stderr",
          "text": [
            "Epoch 3/10: 100%|██████████| 15/15 [00:00<00:00, 40.99it/s]\n"
          ]
        },
        {
          "output_type": "stream",
          "name": "stdout",
          "text": [
            "Epoch 3/10 - Loss: 0.6904, Val Acc: 0.5556, Val AUC: 0.5584\n"
          ]
        },
        {
          "output_type": "stream",
          "name": "stderr",
          "text": [
            "Epoch 4/10: 100%|██████████| 15/15 [00:00<00:00, 41.98it/s]\n"
          ]
        },
        {
          "output_type": "stream",
          "name": "stdout",
          "text": [
            "Epoch 4/10 - Loss: 0.6794, Val Acc: 0.5404, Val AUC: 0.5548\n"
          ]
        },
        {
          "output_type": "stream",
          "name": "stderr",
          "text": [
            "Epoch 5/10: 100%|██████████| 15/15 [00:00<00:00, 38.63it/s]\n"
          ]
        },
        {
          "output_type": "stream",
          "name": "stdout",
          "text": [
            "Epoch 5/10 - Loss: 0.6700, Val Acc: 0.5303, Val AUC: 0.5495\n"
          ]
        },
        {
          "output_type": "stream",
          "name": "stderr",
          "text": [
            "Epoch 6/10: 100%|██████████| 15/15 [00:00<00:00, 42.94it/s]\n"
          ]
        },
        {
          "output_type": "stream",
          "name": "stdout",
          "text": [
            "Epoch 6/10 - Loss: 0.6734, Val Acc: 0.5303, Val AUC: 0.5504\n"
          ]
        },
        {
          "output_type": "stream",
          "name": "stderr",
          "text": [
            "Epoch 7/10: 100%|██████████| 15/15 [00:00<00:00, 41.29it/s]\n"
          ]
        },
        {
          "output_type": "stream",
          "name": "stdout",
          "text": [
            "Epoch 7/10 - Loss: 0.6664, Val Acc: 0.5657, Val AUC: 0.5519\n"
          ]
        },
        {
          "output_type": "stream",
          "name": "stderr",
          "text": [
            "Epoch 8/10: 100%|██████████| 15/15 [00:00<00:00, 42.94it/s]\n"
          ]
        },
        {
          "output_type": "stream",
          "name": "stdout",
          "text": [
            "Epoch 8/10 - Loss: 0.6570, Val Acc: 0.5253, Val AUC: 0.5545\n"
          ]
        },
        {
          "output_type": "stream",
          "name": "stderr",
          "text": [
            "Epoch 9/10: 100%|██████████| 15/15 [00:00<00:00, 42.15it/s]\n"
          ]
        },
        {
          "output_type": "stream",
          "name": "stdout",
          "text": [
            "Epoch 9/10 - Loss: 0.6698, Val Acc: 0.5152, Val AUC: 0.5572\n"
          ]
        },
        {
          "output_type": "stream",
          "name": "stderr",
          "text": [
            "Epoch 10/10: 100%|██████████| 15/15 [00:00<00:00, 40.17it/s]\n"
          ]
        },
        {
          "output_type": "stream",
          "name": "stdout",
          "text": [
            "Epoch 10/10 - Loss: 0.6514, Val Acc: 0.5202, Val AUC: 0.5579\n",
            "Audio Transformer - Test Results: Accuracy: 0.5075, AUC: 0.5736\n",
            "\n",
            "Training Residual Audio Network...\n"
          ]
        },
        {
          "output_type": "stream",
          "name": "stderr",
          "text": [
            "Epoch 1/10: 100%|██████████| 15/15 [00:00<00:00, 151.24it/s]\n"
          ]
        },
        {
          "output_type": "stream",
          "name": "stdout",
          "text": [
            "Epoch 1/10 - Loss: 0.7598, Val Acc: 0.5101, Val AUC: 0.5014\n"
          ]
        },
        {
          "output_type": "stream",
          "name": "stderr",
          "text": [
            "Epoch 2/10: 100%|██████████| 15/15 [00:00<00:00, 145.04it/s]\n"
          ]
        },
        {
          "output_type": "stream",
          "name": "stdout",
          "text": [
            "Epoch 2/10 - Loss: 0.6817, Val Acc: 0.5051, Val AUC: 0.5133\n"
          ]
        },
        {
          "output_type": "stream",
          "name": "stderr",
          "text": [
            "Epoch 3/10: 100%|██████████| 15/15 [00:00<00:00, 158.23it/s]\n"
          ]
        },
        {
          "output_type": "stream",
          "name": "stdout",
          "text": [
            "Epoch 3/10 - Loss: 0.6171, Val Acc: 0.5101, Val AUC: 0.5030\n"
          ]
        },
        {
          "output_type": "stream",
          "name": "stderr",
          "text": [
            "Epoch 4/10: 100%|██████████| 15/15 [00:00<00:00, 153.39it/s]\n"
          ]
        },
        {
          "output_type": "stream",
          "name": "stdout",
          "text": [
            "Epoch 4/10 - Loss: 0.5940, Val Acc: 0.5101, Val AUC: 0.5010\n"
          ]
        },
        {
          "output_type": "stream",
          "name": "stderr",
          "text": [
            "Epoch 5/10: 100%|██████████| 15/15 [00:00<00:00, 164.39it/s]\n"
          ]
        },
        {
          "output_type": "stream",
          "name": "stdout",
          "text": [
            "Epoch 5/10 - Loss: 0.5585, Val Acc: 0.5152, Val AUC: 0.4890\n"
          ]
        },
        {
          "output_type": "stream",
          "name": "stderr",
          "text": [
            "Epoch 6/10: 100%|██████████| 15/15 [00:00<00:00, 144.52it/s]\n"
          ]
        },
        {
          "output_type": "stream",
          "name": "stdout",
          "text": [
            "Epoch 6/10 - Loss: 0.5382, Val Acc: 0.5152, Val AUC: 0.4924\n"
          ]
        },
        {
          "output_type": "stream",
          "name": "stderr",
          "text": [
            "Epoch 7/10: 100%|██████████| 15/15 [00:00<00:00, 161.31it/s]\n"
          ]
        },
        {
          "output_type": "stream",
          "name": "stdout",
          "text": [
            "Epoch 7/10 - Loss: 0.5232, Val Acc: 0.5101, Val AUC: 0.4909\n"
          ]
        },
        {
          "output_type": "stream",
          "name": "stderr",
          "text": [
            "Epoch 8/10: 100%|██████████| 15/15 [00:00<00:00, 123.91it/s]\n"
          ]
        },
        {
          "output_type": "stream",
          "name": "stdout",
          "text": [
            "Epoch 8/10 - Loss: 0.5096, Val Acc: 0.5000, Val AUC: 0.4979\n"
          ]
        },
        {
          "output_type": "stream",
          "name": "stderr",
          "text": [
            "Epoch 9/10: 100%|██████████| 15/15 [00:00<00:00, 159.71it/s]\n"
          ]
        },
        {
          "output_type": "stream",
          "name": "stdout",
          "text": [
            "Epoch 9/10 - Loss: 0.4970, Val Acc: 0.5152, Val AUC: 0.4921\n"
          ]
        },
        {
          "output_type": "stream",
          "name": "stderr",
          "text": [
            "Epoch 10/10: 100%|██████████| 15/15 [00:00<00:00, 158.12it/s]"
          ]
        },
        {
          "output_type": "stream",
          "name": "stdout",
          "text": [
            "Epoch 10/10 - Loss: 0.4859, Val Acc: 0.5000, Val AUC: 0.4893\n",
            "Residual Audio Network - Test Results: Accuracy: 0.5477, AUC: 0.5508\n"
          ]
        },
        {
          "output_type": "stream",
          "name": "stderr",
          "text": [
            "\n"
          ]
        }
      ]
    },
    {
      "cell_type": "markdown",
      "source": [
        "## Unimodal - Visual (New Features)"
      ],
      "metadata": {
        "id": "WOObzIemRJ7w"
      }
    },
    {
      "cell_type": "code",
      "source": [
        "import os\n",
        "import pickle\n",
        "import numpy as np\n",
        "import torch\n",
        "import torch.nn as nn\n",
        "import torch.nn.functional as F\n",
        "from torch.utils.data import Dataset, DataLoader\n",
        "from sklearn.model_selection import train_test_split\n",
        "from sklearn.metrics import accuracy_score, roc_auc_score\n",
        "from tqdm import tqdm\n",
        "import joblib\n",
        "\n",
        "visual_dir = \"/content/zip files/full_features/urfunny2_visual_pkl\"\n",
        "label_path = \"/content/humor_label_sdk.pkl\"\n",
        "\n",
        "with open(label_path, \"rb\") as f:\n",
        "    label_dict = pickle.load(f)\n",
        "\n",
        "def safe_pool(x):\n",
        "    if isinstance(x, torch.Tensor):\n",
        "        x = x.cpu().numpy()\n",
        "    x = np.array(x)\n",
        "    while x.ndim > 2:\n",
        "        x = np.squeeze(x, axis=0)\n",
        "    if x.ndim == 2:\n",
        "        x = np.mean(x, axis=0)\n",
        "    return x\n",
        "\n",
        "def prepare_visual_data(visual_dir, label_dict):\n",
        "    X, y = []\n",
        "    for fname in tqdm(sorted(os.listdir(visual_dir)), desc=\"Preparing visual data\"):\n",
        "        if not fname.endswith(\".pkl\"):\n",
        "            continue\n",
        "        try:\n",
        "            vid = int(os.path.splitext(fname)[0])\n",
        "            if vid not in label_dict:\n",
        "                continue\n",
        "            with open(os.path.join(visual_dir, f\"{vid}.pkl\"), \"rb\") as f:\n",
        "                visual_feat = joblib.load(f)\n",
        "            if isinstance(visual_feat, dict):\n",
        "                if 'punchline_embedding' in visual_feat:\n",
        "                    visual_feat = visual_feat['punchline_embedding']\n",
        "                else:\n",
        "                    raise ValueError(f\"No punchline_embedding found in {fname}\")\n",
        "            if visual_feat is None or len(visual_feat) == 0:\n",
        "                raise ValueError(f\"Visual feature is None or empty for {fname}\")\n",
        "            visual_feat = safe_pool(visual_feat)\n",
        "            X.append(visual_feat)\n",
        "            y.append(label_dict[vid])\n",
        "        except Exception as e:\n",
        "            print(f\"Skipping {fname}: {e}\")\n",
        "    return np.array(X), np.array(y)\n",
        "\n",
        "class VisualDataset(Dataset):\n",
        "    def __init__(self, X, y):\n",
        "        self.X = torch.tensor(X, dtype=torch.float32)\n",
        "        self.y = torch.tensor(y, dtype=torch.long)\n",
        "    def __len__(self):\n",
        "        return len(self.X)\n",
        "    def __getitem__(self, idx):\n",
        "        return self.X[idx], self.y[idx]\n",
        "\n",
        "class SimpleVisualMLP(nn.Module):\n",
        "    def __init__(self, input_dim):\n",
        "        super().__init__()\n",
        "        self.net = nn.Sequential(\n",
        "            nn.Linear(input_dim, 128),\n",
        "            nn.ReLU(),\n",
        "            nn.Linear(128, 2)\n",
        "        )\n",
        "    def forward(self, x):\n",
        "        return self.net(x)\n",
        "\n",
        "class VisualMLP(nn.Module):\n",
        "    def __init__(self, input_dim):\n",
        "        super().__init__()\n",
        "        self.net = nn.Sequential(\n",
        "            nn.Linear(input_dim, 256),\n",
        "            nn.ReLU(),\n",
        "            nn.Dropout(0.3),\n",
        "            nn.Linear(256, 128),\n",
        "            nn.ReLU(),\n",
        "            nn.Linear(128, 2)\n",
        "        )\n",
        "    def forward(self, x):\n",
        "        return self.net(x)\n",
        "\n",
        "class VisualTransformer(nn.Module):\n",
        "    def __init__(self, input_dim, nhead=8, num_layers=2):\n",
        "        super().__init__()\n",
        "        self.input_proj = nn.Linear(input_dim, 256)\n",
        "        encoder_layer = nn.TransformerEncoderLayer(\n",
        "            d_model=256,\n",
        "            nhead=nhead,\n",
        "            dim_feedforward=512,\n",
        "            dropout=0.2,\n",
        "            batch_first=True\n",
        "        )\n",
        "        self.transformer_encoder = nn.TransformerEncoder(encoder_layer, num_layers=num_layers)\n",
        "        self.classifier = nn.Linear(256, 2)\n",
        "\n",
        "    def forward(self, x):\n",
        "        if x.dim() == 2:\n",
        "            x = x.unsqueeze(1)\n",
        "        x = self.input_proj(x)\n",
        "        x = self.transformer_encoder(x)\n",
        "        x = x.mean(dim=1)\n",
        "        return self.classifier(x)\n",
        "\n",
        "class ResidualVisualNet(nn.Module):\n",
        "    def __init__(self, input_dim):\n",
        "        super().__init__()\n",
        "        self.fc1 = nn.Linear(input_dim, 256)\n",
        "        self.bn1 = nn.BatchNorm1d(256)\n",
        "        self.fc2 = nn.Linear(256, 256)\n",
        "        self.bn2 = nn.BatchNorm1d(256)\n",
        "        self.fc3 = nn.Linear(256, 128)\n",
        "        self.bn3 = nn.BatchNorm1d(128)\n",
        "        self.dropout = nn.Dropout(0.4)\n",
        "        self.output = nn.Linear(128, 2)\n",
        "\n",
        "    def forward(self, x):\n",
        "        identity = self.fc1(x)\n",
        "        identity = self.bn1(identity)\n",
        "        identity = F.relu(identity)\n",
        "        out = self.fc2(identity)\n",
        "        out = self.bn2(out)\n",
        "        out = F.relu(out)\n",
        "        out = out + identity\n",
        "        out = self.fc3(out)\n",
        "        out = self.bn3(out)\n",
        "        out = F.relu(out)\n",
        "        out = self.dropout(out)\n",
        "        return self.output(out)\n",
        "\n",
        "def train_model(model, train_loader, val_loader, device, epochs=10):\n",
        "    optimizer = torch.optim.Adam(model.parameters(), lr=1e-4, weight_decay=1e-5)\n",
        "    scheduler = torch.optim.lr_scheduler.ReduceLROnPlateau(optimizer, mode='max', factor=0.5, patience=2)\n",
        "    criterion = nn.CrossEntropyLoss()\n",
        "    best_val_auc = 0\n",
        "    for epoch in range(1, epochs+1):\n",
        "        model.train()\n",
        "        train_loss = 0\n",
        "        for xb, yb in tqdm(train_loader, desc=f\"Epoch {epoch}/{epochs}\"):\n",
        "            xb, yb = xb.to(device), yb.to(device)\n",
        "            optimizer.zero_grad()\n",
        "            output = model(xb)\n",
        "            loss = criterion(output, yb)\n",
        "            loss.backward()\n",
        "            optimizer.step()\n",
        "            train_loss += loss.item()\n",
        "        avg_loss = train_loss / len(train_loader)\n",
        "        val_acc, val_auc = evaluate_model(model, val_loader, device)\n",
        "        print(f\"Epoch {epoch}/{epochs} - Loss: {avg_loss:.4f}, Val Acc: {val_acc:.4f}, Val AUC: {val_auc:.4f}\")\n",
        "        scheduler.step(val_auc)\n",
        "        if val_auc > best_val_auc:\n",
        "            best_val_auc = val_auc\n",
        "\n",
        "def evaluate_model(model, loader, device):\n",
        "    model.eval()\n",
        "    preds, probs, labels = [], [], []\n",
        "    with torch.no_grad():\n",
        "        for xb, yb in loader:\n",
        "            xb = xb.to(device)\n",
        "            logits = model(xb)\n",
        "            probs.extend(F.softmax(logits, dim=1)[:, 1].cpu().numpy())\n",
        "            preds.extend(logits.argmax(dim=1).cpu().numpy())\n",
        "            labels.extend(yb.numpy())\n",
        "    acc = accuracy_score(labels, preds)\n",
        "    auc = roc_auc_score(labels, probs)\n",
        "    return acc, auc\n",
        "\n",
        "def run_visual_experiment(visual_dir, label_dict, device):\n",
        "    print(\"\\n====== Running Visual Features Classification ======\")\n",
        "    X, y = prepare_visual_data(visual_dir, label_dict)\n",
        "    X_train, X_temp, y_train, y_temp = train_test_split(X, y, test_size=0.3, stratify=y, random_state=42)\n",
        "    X_val, X_test, y_val, y_test = train_test_split(X_temp, y_temp, test_size=0.5, stratify=y_temp, random_state=42)\n",
        "    train_loader = DataLoader(VisualDataset(X_train, y_train), batch_size=64, shuffle=True)\n",
        "    val_loader = DataLoader(VisualDataset(X_val, y_val), batch_size=64)\n",
        "    test_loader = DataLoader(VisualDataset(X_test, y_test), batch_size=64)\n",
        "    input_dim = X.shape[1]\n",
        "    models = [\n",
        "        (\"Very Simple MLP\", SimpleVisualMLP(input_dim).to(device)),\n",
        "        (\"Visual MLP\", VisualMLP(input_dim).to(device)),\n",
        "        (\"Visual Transformer\", VisualTransformer(input_dim).to(device)),\n",
        "        (\"Residual Visual Network\", ResidualVisualNet(input_dim).to(device))\n",
        "    ]\n",
        "    for name, model in models:\n",
        "        print(f\"\\nTraining {name}...\")\n",
        "        train_model(model, train_loader, val_loader, device)\n",
        "        test_acc, test_auc = evaluate_model(model, test_loader, device)\n",
        "        print(f\"{name} - Test Results: Accuracy: {test_acc:.4f}, AUC: {test_auc:.4f}\")\n",
        "\n",
        "if __name__ == \"__main__\":\n",
        "    device = torch.device(\"cuda\" if torch.cuda.is_available() else \"cpu\")\n",
        "    print(f\"Using device: {device}\")\n",
        "    run_visual_experiment(visual_dir, label_dict, device)\n"
      ],
      "metadata": {
        "colab": {
          "base_uri": "https://localhost:8080/"
        },
        "id": "HXsfRa-JzsLx",
        "outputId": "521b37d0-2f8d-4755-b8c1-1e58cd58911a"
      },
      "execution_count": null,
      "outputs": [
        {
          "output_type": "stream",
          "name": "stdout",
          "text": [
            "Using device: cpu\n",
            "\n",
            "====== Running Visual Features Classification ======\n"
          ]
        },
        {
          "output_type": "stream",
          "name": "stderr",
          "text": [
            "Preparing visual data: 100%|██████████| 1322/1322 [00:22<00:00, 58.46it/s]\n"
          ]
        },
        {
          "output_type": "stream",
          "name": "stdout",
          "text": [
            "\n",
            "Training Very Simple MLP...\n"
          ]
        },
        {
          "output_type": "stream",
          "name": "stderr",
          "text": [
            "Epoch 1/10: 100%|██████████| 15/15 [00:00<00:00, 245.95it/s]\n"
          ]
        },
        {
          "output_type": "stream",
          "name": "stdout",
          "text": [
            "Epoch 1/10 - Loss: 0.6971, Val Acc: 0.4646, Val AUC: 0.4708\n"
          ]
        },
        {
          "output_type": "stream",
          "name": "stderr",
          "text": [
            "Epoch 2/10: 100%|██████████| 15/15 [00:00<00:00, 278.96it/s]\n"
          ]
        },
        {
          "output_type": "stream",
          "name": "stdout",
          "text": [
            "Epoch 2/10 - Loss: 0.6884, Val Acc: 0.4697, Val AUC: 0.4610\n"
          ]
        },
        {
          "output_type": "stream",
          "name": "stderr",
          "text": [
            "Epoch 3/10: 100%|██████████| 15/15 [00:00<00:00, 282.59it/s]\n"
          ]
        },
        {
          "output_type": "stream",
          "name": "stdout",
          "text": [
            "Epoch 3/10 - Loss: 0.6785, Val Acc: 0.4596, Val AUC: 0.4452\n"
          ]
        },
        {
          "output_type": "stream",
          "name": "stderr",
          "text": [
            "Epoch 4/10: 100%|██████████| 15/15 [00:00<00:00, 238.05it/s]\n"
          ]
        },
        {
          "output_type": "stream",
          "name": "stdout",
          "text": [
            "Epoch 4/10 - Loss: 0.6748, Val Acc: 0.4495, Val AUC: 0.4374\n"
          ]
        },
        {
          "output_type": "stream",
          "name": "stderr",
          "text": [
            "Epoch 5/10: 100%|██████████| 15/15 [00:00<00:00, 270.09it/s]\n"
          ]
        },
        {
          "output_type": "stream",
          "name": "stdout",
          "text": [
            "Epoch 5/10 - Loss: 0.6692, Val Acc: 0.4747, Val AUC: 0.4390\n"
          ]
        },
        {
          "output_type": "stream",
          "name": "stderr",
          "text": [
            "Epoch 6/10: 100%|██████████| 15/15 [00:00<00:00, 296.36it/s]\n"
          ]
        },
        {
          "output_type": "stream",
          "name": "stdout",
          "text": [
            "Epoch 6/10 - Loss: 0.6662, Val Acc: 0.4646, Val AUC: 0.4345\n"
          ]
        },
        {
          "output_type": "stream",
          "name": "stderr",
          "text": [
            "Epoch 7/10: 100%|██████████| 15/15 [00:00<00:00, 299.21it/s]\n"
          ]
        },
        {
          "output_type": "stream",
          "name": "stdout",
          "text": [
            "Epoch 7/10 - Loss: 0.6628, Val Acc: 0.4394, Val AUC: 0.4309\n"
          ]
        },
        {
          "output_type": "stream",
          "name": "stderr",
          "text": [
            "Epoch 8/10: 100%|██████████| 15/15 [00:00<00:00, 298.03it/s]"
          ]
        },
        {
          "output_type": "stream",
          "name": "stdout",
          "text": [
            "Epoch 8/10 - Loss: 0.6608, Val Acc: 0.4697, Val AUC: 0.4338"
          ]
        },
        {
          "output_type": "stream",
          "name": "stderr",
          "text": [
            "\n"
          ]
        },
        {
          "output_type": "stream",
          "name": "stdout",
          "text": [
            "\n"
          ]
        },
        {
          "output_type": "stream",
          "name": "stderr",
          "text": [
            "Epoch 9/10: 100%|██████████| 15/15 [00:00<00:00, 289.42it/s]\n"
          ]
        },
        {
          "output_type": "stream",
          "name": "stdout",
          "text": [
            "Epoch 9/10 - Loss: 0.6582, Val Acc: 0.4293, Val AUC: 0.4323\n"
          ]
        },
        {
          "output_type": "stream",
          "name": "stderr",
          "text": [
            "Epoch 10/10: 100%|██████████| 15/15 [00:00<00:00, 285.23it/s]\n"
          ]
        },
        {
          "output_type": "stream",
          "name": "stdout",
          "text": [
            "Epoch 10/10 - Loss: 0.6574, Val Acc: 0.4394, Val AUC: 0.4318\n",
            "Very Simple MLP - Test Results: Accuracy: 0.5226, AUC: 0.5290\n",
            "\n",
            "Training Visual MLP...\n"
          ]
        },
        {
          "output_type": "stream",
          "name": "stderr",
          "text": [
            "Epoch 1/10: 100%|██████████| 15/15 [00:00<00:00, 171.92it/s]\n"
          ]
        },
        {
          "output_type": "stream",
          "name": "stdout",
          "text": [
            "Epoch 1/10 - Loss: 0.6956, Val Acc: 0.5101, Val AUC: 0.5161\n"
          ]
        },
        {
          "output_type": "stream",
          "name": "stderr",
          "text": [
            "Epoch 2/10: 100%|██████████| 15/15 [00:00<00:00, 149.14it/s]\n"
          ]
        },
        {
          "output_type": "stream",
          "name": "stdout",
          "text": [
            "Epoch 2/10 - Loss: 0.6897, Val Acc: 0.5101, Val AUC: 0.5058\n"
          ]
        },
        {
          "output_type": "stream",
          "name": "stderr",
          "text": [
            "Epoch 3/10: 100%|██████████| 15/15 [00:00<00:00, 161.46it/s]\n"
          ]
        },
        {
          "output_type": "stream",
          "name": "stdout",
          "text": [
            "Epoch 3/10 - Loss: 0.6867, Val Acc: 0.5202, Val AUC: 0.4995\n"
          ]
        },
        {
          "output_type": "stream",
          "name": "stderr",
          "text": [
            "Epoch 4/10: 100%|██████████| 15/15 [00:00<00:00, 161.96it/s]\n"
          ]
        },
        {
          "output_type": "stream",
          "name": "stdout",
          "text": [
            "Epoch 4/10 - Loss: 0.6837, Val Acc: 0.5354, Val AUC: 0.4963\n"
          ]
        },
        {
          "output_type": "stream",
          "name": "stderr",
          "text": [
            "Epoch 5/10: 100%|██████████| 15/15 [00:00<00:00, 140.28it/s]\n"
          ]
        },
        {
          "output_type": "stream",
          "name": "stdout",
          "text": [
            "Epoch 5/10 - Loss: 0.6798, Val Acc: 0.5152, Val AUC: 0.4915\n"
          ]
        },
        {
          "output_type": "stream",
          "name": "stderr",
          "text": [
            "Epoch 6/10: 100%|██████████| 15/15 [00:00<00:00, 155.70it/s]\n"
          ]
        },
        {
          "output_type": "stream",
          "name": "stdout",
          "text": [
            "Epoch 6/10 - Loss: 0.6771, Val Acc: 0.5101, Val AUC: 0.4892\n"
          ]
        },
        {
          "output_type": "stream",
          "name": "stderr",
          "text": [
            "Epoch 7/10: 100%|██████████| 15/15 [00:00<00:00, 142.44it/s]\n"
          ]
        },
        {
          "output_type": "stream",
          "name": "stdout",
          "text": [
            "Epoch 7/10 - Loss: 0.6738, Val Acc: 0.5202, Val AUC: 0.4908\n"
          ]
        },
        {
          "output_type": "stream",
          "name": "stderr",
          "text": [
            "Epoch 8/10: 100%|██████████| 15/15 [00:00<00:00, 151.65it/s]\n"
          ]
        },
        {
          "output_type": "stream",
          "name": "stdout",
          "text": [
            "Epoch 8/10 - Loss: 0.6726, Val Acc: 0.5152, Val AUC: 0.4885\n"
          ]
        },
        {
          "output_type": "stream",
          "name": "stderr",
          "text": [
            "Epoch 9/10: 100%|██████████| 15/15 [00:00<00:00, 163.77it/s]\n"
          ]
        },
        {
          "output_type": "stream",
          "name": "stdout",
          "text": [
            "Epoch 9/10 - Loss: 0.6693, Val Acc: 0.5303, Val AUC: 0.4844\n"
          ]
        },
        {
          "output_type": "stream",
          "name": "stderr",
          "text": [
            "Epoch 10/10: 100%|██████████| 15/15 [00:00<00:00, 257.14it/s]\n"
          ]
        },
        {
          "output_type": "stream",
          "name": "stdout",
          "text": [
            "Epoch 10/10 - Loss: 0.6690, Val Acc: 0.5202, Val AUC: 0.4864\n",
            "Visual MLP - Test Results: Accuracy: 0.5528, AUC: 0.5595\n",
            "\n",
            "Training Visual Transformer...\n"
          ]
        },
        {
          "output_type": "stream",
          "name": "stderr",
          "text": [
            "Epoch 1/10: 100%|██████████| 15/15 [00:00<00:00, 41.32it/s]\n"
          ]
        },
        {
          "output_type": "stream",
          "name": "stdout",
          "text": [
            "Epoch 1/10 - Loss: 0.7462, Val Acc: 0.4697, Val AUC: 0.4339\n"
          ]
        },
        {
          "output_type": "stream",
          "name": "stderr",
          "text": [
            "Epoch 2/10: 100%|██████████| 15/15 [00:00<00:00, 42.73it/s]\n"
          ]
        },
        {
          "output_type": "stream",
          "name": "stdout",
          "text": [
            "Epoch 2/10 - Loss: 0.7027, Val Acc: 0.4747, Val AUC: 0.4668\n"
          ]
        },
        {
          "output_type": "stream",
          "name": "stderr",
          "text": [
            "Epoch 3/10: 100%|██████████| 15/15 [00:00<00:00, 42.42it/s]\n"
          ]
        },
        {
          "output_type": "stream",
          "name": "stdout",
          "text": [
            "Epoch 3/10 - Loss: 0.6695, Val Acc: 0.4747, Val AUC: 0.4527\n"
          ]
        },
        {
          "output_type": "stream",
          "name": "stderr",
          "text": [
            "Epoch 4/10: 100%|██████████| 15/15 [00:00<00:00, 40.84it/s]\n"
          ]
        },
        {
          "output_type": "stream",
          "name": "stdout",
          "text": [
            "Epoch 4/10 - Loss: 0.6534, Val Acc: 0.4495, Val AUC: 0.4544\n"
          ]
        },
        {
          "output_type": "stream",
          "name": "stderr",
          "text": [
            "Epoch 5/10: 100%|██████████| 15/15 [00:00<00:00, 42.06it/s]\n"
          ]
        },
        {
          "output_type": "stream",
          "name": "stdout",
          "text": [
            "Epoch 5/10 - Loss: 0.6502, Val Acc: 0.4444, Val AUC: 0.4384\n"
          ]
        },
        {
          "output_type": "stream",
          "name": "stderr",
          "text": [
            "Epoch 6/10: 100%|██████████| 15/15 [00:00<00:00, 39.92it/s]\n"
          ]
        },
        {
          "output_type": "stream",
          "name": "stdout",
          "text": [
            "Epoch 6/10 - Loss: 0.6241, Val Acc: 0.4899, Val AUC: 0.4576\n"
          ]
        },
        {
          "output_type": "stream",
          "name": "stderr",
          "text": [
            "Epoch 7/10: 100%|██████████| 15/15 [00:00<00:00, 42.23it/s]\n"
          ]
        },
        {
          "output_type": "stream",
          "name": "stdout",
          "text": [
            "Epoch 7/10 - Loss: 0.6130, Val Acc: 0.4596, Val AUC: 0.4513\n"
          ]
        },
        {
          "output_type": "stream",
          "name": "stderr",
          "text": [
            "Epoch 8/10: 100%|██████████| 15/15 [00:00<00:00, 43.13it/s]\n"
          ]
        },
        {
          "output_type": "stream",
          "name": "stdout",
          "text": [
            "Epoch 8/10 - Loss: 0.6057, Val Acc: 0.4747, Val AUC: 0.4570\n"
          ]
        },
        {
          "output_type": "stream",
          "name": "stderr",
          "text": [
            "Epoch 9/10: 100%|██████████| 15/15 [00:00<00:00, 42.20it/s]\n"
          ]
        },
        {
          "output_type": "stream",
          "name": "stdout",
          "text": [
            "Epoch 9/10 - Loss: 0.5959, Val Acc: 0.4444, Val AUC: 0.4560\n"
          ]
        },
        {
          "output_type": "stream",
          "name": "stderr",
          "text": [
            "Epoch 10/10: 100%|██████████| 15/15 [00:00<00:00, 42.04it/s]\n"
          ]
        },
        {
          "output_type": "stream",
          "name": "stdout",
          "text": [
            "Epoch 10/10 - Loss: 0.5756, Val Acc: 0.4697, Val AUC: 0.4534\n",
            "Visual Transformer - Test Results: Accuracy: 0.5729, AUC: 0.5801\n",
            "\n",
            "Training Residual Visual Network...\n"
          ]
        },
        {
          "output_type": "stream",
          "name": "stderr",
          "text": [
            "Epoch 1/10: 100%|██████████| 15/15 [00:00<00:00, 152.92it/s]\n"
          ]
        },
        {
          "output_type": "stream",
          "name": "stdout",
          "text": [
            "Epoch 1/10 - Loss: 0.7473, Val Acc: 0.4747, Val AUC: 0.4597\n"
          ]
        },
        {
          "output_type": "stream",
          "name": "stderr",
          "text": [
            "Epoch 2/10: 100%|██████████| 15/15 [00:00<00:00, 156.42it/s]\n"
          ]
        },
        {
          "output_type": "stream",
          "name": "stdout",
          "text": [
            "Epoch 2/10 - Loss: 0.6911, Val Acc: 0.4949, Val AUC: 0.4555\n"
          ]
        },
        {
          "output_type": "stream",
          "name": "stderr",
          "text": [
            "Epoch 3/10: 100%|██████████| 15/15 [00:00<00:00, 148.38it/s]\n"
          ]
        },
        {
          "output_type": "stream",
          "name": "stdout",
          "text": [
            "Epoch 3/10 - Loss: 0.6494, Val Acc: 0.4899, Val AUC: 0.4761\n"
          ]
        },
        {
          "output_type": "stream",
          "name": "stderr",
          "text": [
            "Epoch 4/10: 100%|██████████| 15/15 [00:00<00:00, 130.34it/s]\n"
          ]
        },
        {
          "output_type": "stream",
          "name": "stdout",
          "text": [
            "Epoch 4/10 - Loss: 0.6015, Val Acc: 0.4949, Val AUC: 0.4784\n"
          ]
        },
        {
          "output_type": "stream",
          "name": "stderr",
          "text": [
            "Epoch 5/10: 100%|██████████| 15/15 [00:00<00:00, 154.78it/s]\n"
          ]
        },
        {
          "output_type": "stream",
          "name": "stdout",
          "text": [
            "Epoch 5/10 - Loss: 0.5607, Val Acc: 0.4949, Val AUC: 0.4827\n"
          ]
        },
        {
          "output_type": "stream",
          "name": "stderr",
          "text": [
            "Epoch 6/10: 100%|██████████| 15/15 [00:00<00:00, 150.74it/s]\n"
          ]
        },
        {
          "output_type": "stream",
          "name": "stdout",
          "text": [
            "Epoch 6/10 - Loss: 0.5508, Val Acc: 0.5101, Val AUC: 0.4775\n"
          ]
        },
        {
          "output_type": "stream",
          "name": "stderr",
          "text": [
            "Epoch 7/10: 100%|██████████| 15/15 [00:00<00:00, 161.52it/s]\n"
          ]
        },
        {
          "output_type": "stream",
          "name": "stdout",
          "text": [
            "Epoch 7/10 - Loss: 0.5110, Val Acc: 0.5505, Val AUC: 0.4794\n"
          ]
        },
        {
          "output_type": "stream",
          "name": "stderr",
          "text": [
            "Epoch 8/10: 100%|██████████| 15/15 [00:00<00:00, 151.73it/s]\n"
          ]
        },
        {
          "output_type": "stream",
          "name": "stdout",
          "text": [
            "Epoch 8/10 - Loss: 0.4886, Val Acc: 0.5253, Val AUC: 0.4767\n"
          ]
        },
        {
          "output_type": "stream",
          "name": "stderr",
          "text": [
            "Epoch 9/10: 100%|██████████| 15/15 [00:00<00:00, 142.44it/s]\n"
          ]
        },
        {
          "output_type": "stream",
          "name": "stdout",
          "text": [
            "Epoch 9/10 - Loss: 0.4743, Val Acc: 0.5202, Val AUC: 0.4773\n"
          ]
        },
        {
          "output_type": "stream",
          "name": "stderr",
          "text": [
            "Epoch 10/10: 100%|██████████| 15/15 [00:00<00:00, 143.89it/s]"
          ]
        },
        {
          "output_type": "stream",
          "name": "stdout",
          "text": [
            "Epoch 10/10 - Loss: 0.4534, Val Acc: 0.5303, Val AUC: 0.4749\n",
            "Residual Visual Network - Test Results: Accuracy: 0.5477, AUC: 0.5538\n"
          ]
        },
        {
          "output_type": "stream",
          "name": "stderr",
          "text": [
            "\n"
          ]
        }
      ]
    },
    {
      "cell_type": "markdown",
      "source": [
        "## Bimodal Fusion (New Features)"
      ],
      "metadata": {
        "id": "VJUDMRdsRVO0"
      }
    },
    {
      "cell_type": "code",
      "source": [
        "import os\n",
        "import pickle\n",
        "import numpy as np\n",
        "import torch\n",
        "import torch.nn as nn\n",
        "import torch.nn.functional as F\n",
        "from torch.utils.data import Dataset, DataLoader\n",
        "from sklearn.model_selection import train_test_split\n",
        "from sklearn.metrics import accuracy_score, roc_auc_score\n",
        "from tqdm import tqdm\n",
        "import joblib\n",
        "\n",
        "visual_dir = \"/content/zip files/new_yo/urfunny2_visual_pkl\"\n",
        "audio_dir = \"/content/zip files/new_yo/urfunny2_1322_audios_feature_pkl\"\n",
        "text_dir = \"/content/zip files/full_features/urfunny2_1322_text_feature_pkl\"\n",
        "label_path = \"/content/humor_label_sdk.pkl\"\n",
        "\n",
        "with open(label_path, \"rb\") as f:\n",
        "    label_dict = pickle.load(f)\n",
        "\n",
        "def safe_pool(x):\n",
        "    if isinstance(x, torch.Tensor):\n",
        "        x = x.cpu().numpy()\n",
        "    x = np.array(x)\n",
        "    while x.ndim > 2:\n",
        "        x = np.squeeze(x, axis=0)\n",
        "    if x.ndim == 2:\n",
        "        x = np.mean(x, axis=0)\n",
        "    return x\n",
        "\n",
        "# Combines and processes two modalities for both early and late fusion\n",
        "def prepare_bimodal_data(modal1_dir, modal2_dir, label_dict):\n",
        "    X_early, X_late, y_all = [], [], []\n",
        "    for fname in tqdm(sorted(os.listdir(modal1_dir)), desc=\"Preparing data\"):\n",
        "        if not fname.endswith(\".pkl\"):\n",
        "            continue\n",
        "        try:\n",
        "            vid = int(os.path.splitext(fname)[0])\n",
        "            if vid not in label_dict:\n",
        "                continue\n",
        "            with open(os.path.join(modal1_dir, f\"{vid}.pkl\"), \"rb\") as f:\n",
        "                m1_feat = joblib.load(f)\n",
        "            with open(os.path.join(modal2_dir, f\"{vid}.pkl\"), \"rb\") as f:\n",
        "                m2_feat = joblib.load(f)\n",
        "            if isinstance(m1_feat, dict):\n",
        "                if 'punchline_embedding' in m1_feat:\n",
        "                    m1_feat = m1_feat['punchline_embedding']\n",
        "                else:\n",
        "                    raise ValueError(f\"No punchline_embedding found in {fname}\")\n",
        "            if isinstance(m2_feat, dict):\n",
        "                if 'punchline_embedding' in m2_feat:\n",
        "                    m2_feat = m2_feat['punchline_embedding']\n",
        "            for name, feat in zip([\"modal1\", \"modal2\"], [m1_feat, m2_feat]):\n",
        "                if feat is None:\n",
        "                    raise ValueError(f\"{name} is None\")\n",
        "                if not isinstance(feat, (np.ndarray, list, torch.Tensor)):\n",
        "                    raise ValueError(f\"{name} not array/list/tensor (got {type(feat)})\")\n",
        "                if len(feat) == 0:\n",
        "                    raise ValueError(f\"{name} is empty\")\n",
        "            m1 = safe_pool(m1_feat)\n",
        "            m2 = safe_pool(m2_feat)\n",
        "            X_early.append(np.concatenate([m1, m2]))\n",
        "            X_late.append((m1, m2))\n",
        "            y_all.append(label_dict[vid])\n",
        "        except Exception as e:\n",
        "            print(f\"Skipping {fname}: {e}\")\n",
        "    return np.array(X_early), np.array(X_late, dtype=object), np.array(y_all)\n",
        "\n",
        "class EarlyFusionDataset(Dataset):\n",
        "    def __init__(self, X, y):\n",
        "        self.X = torch.tensor(X, dtype=torch.float32)\n",
        "        self.y = torch.tensor(y, dtype=torch.long)\n",
        "    def __len__(self): return len(self.X)\n",
        "    def __getitem__(self, idx): return self.X[idx], self.y[idx]\n",
        "\n",
        "class LateFusionDataset(Dataset):\n",
        "    def __init__(self, X, y):\n",
        "        self.X = X\n",
        "        self.y = torch.tensor(y, dtype=torch.long)\n",
        "    def __len__(self): return len(self.y)\n",
        "    def __getitem__(self, idx):\n",
        "        m1, m2 = self.X[idx]\n",
        "        return (torch.tensor(m1, dtype=torch.float32),\n",
        "                torch.tensor(m2, dtype=torch.float32)), self.y[idx]\n",
        "\n",
        "class MLP(nn.Module):\n",
        "    def __init__(self, input_dim):\n",
        "        super().__init__()\n",
        "        self.net = nn.Sequential(\n",
        "            nn.Linear(input_dim, 128),\n",
        "            nn.ReLU(),\n",
        "            nn.Linear(128, 2)\n",
        "        )\n",
        "    def forward(self, x): return self.net(x)\n",
        "\n",
        "class LateFusionModel(nn.Module):\n",
        "    def __init__(self, dims):\n",
        "        super().__init__()\n",
        "        self.m1_proj = nn.Linear(dims[0], 64)\n",
        "        self.m2_proj = nn.Linear(dims[1], 64)\n",
        "        self.fc = nn.Linear(64 * 2, 2)\n",
        "    def forward(self, m1, m2):\n",
        "        m1, m2 = self.m1_proj(m1), self.m2_proj(m2)\n",
        "        x = torch.cat([m1, m2], dim=-1)\n",
        "        return self.fc(x)\n",
        "\n",
        "# Unified training loop supporting both early and late fusion models\n",
        "def train_model(model, train_loader, val_loader, device):\n",
        "    optimizer = torch.optim.Adam(model.parameters(), lr=1e-4)\n",
        "    criterion = nn.CrossEntropyLoss()\n",
        "    for epoch in range(1, 11):\n",
        "        model.train()\n",
        "        for batch in train_loader:\n",
        "            xb, yb = batch if isinstance(batch, tuple) else (batch[0], batch[1])\n",
        "            xb = [x.to(device) for x in xb] if isinstance(xb, (tuple, list)) else xb.to(device)\n",
        "            yb = yb.to(device)\n",
        "            optimizer.zero_grad()\n",
        "            output = model(*xb) if isinstance(xb, (tuple, list)) else model(xb)\n",
        "            loss = criterion(output, yb)\n",
        "            loss.backward()\n",
        "            optimizer.step()\n",
        "\n",
        "def evaluate_model(model, loader, device):\n",
        "    model.eval()\n",
        "    preds, probs, labels = [], [], []\n",
        "    with torch.no_grad():\n",
        "        for batch in loader:\n",
        "            xb, yb = batch if isinstance(batch, tuple) else (batch[0], batch[1])\n",
        "            xb = [x.to(device) for x in xb] if isinstance(xb, (tuple, list)) else xb.to(device)\n",
        "            logits = model(*xb) if isinstance(xb, (tuple, list)) else model(xb)\n",
        "            probs.extend(F.softmax(logits, dim=1)[:, 1].cpu().numpy())\n",
        "            preds.extend(logits.argmax(dim=1).cpu().numpy())\n",
        "            labels.extend(yb.numpy())\n",
        "    acc = accuracy_score(labels, preds)\n",
        "    auc = roc_auc_score(labels, probs)\n",
        "    return acc, auc\n",
        "\n",
        "def run_bimodal_experiment(modal1_dir, modal2_dir, label_dict, device, name):\n",
        "    print(f\"\\n====== Running {name} Fusion ======\")\n",
        "    X_early, X_late, y_all = prepare_bimodal_data(modal1_dir, modal2_dir, label_dict)\n",
        "\n",
        "    X_e_train, X_e_temp, X_l_train, X_l_temp, y_train, y_temp = train_test_split(\n",
        "        X_early, X_late, y_all, test_size=0.3, stratify=y_all, random_state=42)\n",
        "    X_e_val, X_e_test, X_l_val, X_l_test, y_val, y_test = train_test_split(\n",
        "        X_e_temp, X_l_temp, y_temp, test_size=0.5, stratify=y_temp, random_state=42)\n",
        "\n",
        "    early_model = MLP(X_early.shape[1]).to(device)\n",
        "    train_model(early_model,\n",
        "                DataLoader(EarlyFusionDataset(X_e_train, y_train), batch_size=64, shuffle=True),\n",
        "                DataLoader(EarlyFusionDataset(X_e_val, y_val), batch_size=64),\n",
        "                device)\n",
        "    acc, auc = evaluate_model(early_model,\n",
        "                DataLoader(EarlyFusionDataset(X_e_test, y_test), batch_size=64), device)\n",
        "    print(f\"[{name}] Early Fusion - Test Accuracy: {acc:.4f}, AUC: {auc:.4f}\")\n",
        "\n",
        "    input_dims = (X_l_train[0][0].shape[0], X_l_train[0][1].shape[0])\n",
        "    late_model = LateFusionModel(input_dims).to(device)\n",
        "    train_model(late_model,\n",
        "                DataLoader(LateFusionDataset(X_l_train, y_train), batch_size=64, shuffle=True),\n",
        "                DataLoader(LateFusionDataset(X_l_val, y_val), batch_size=64),\n",
        "                device)\n",
        "    acc, auc = evaluate_model(late_model,\n",
        "                DataLoader(LateFusionDataset(X_l_test, y_test), batch_size=64), device)\n",
        "    print(f\"[{name}] Late Fusion - Test Accuracy: {acc:.4f}, AUC: {auc:.4f}\")\n",
        "\n",
        "device = torch.device(\"cuda\" if torch.cuda.is_available() else \"cpu\")\n",
        "\n",
        "# To run an experiment, uncomment one of the following:\n",
        "# run_bimodal_experiment(audio_dir, text_dir, label_dict, device, name=\"Audio + Text\")\n",
        "# run_bimodal_experiment(audio_dir, visual_dir, label_dict, device, name=\"Audio + Visual\")\n",
        "# run_bimodal_experiment(text_dir, visual_dir, label_dict, device, name=\"Text + Visual\")"
      ],
      "metadata": {
        "id": "M42sqvYDyvDD"
      },
      "execution_count": null,
      "outputs": []
    },
    {
      "cell_type": "code",
      "source": [
        "run_bimodal_experiment(audio_dir, text_dir, label_dict, device, name=\"Audio + Text\")"
      ],
      "metadata": {
        "colab": {
          "base_uri": "https://localhost:8080/"
        },
        "id": "bAQ2mp01ua_R",
        "outputId": "4c97e31e-3d4f-4703-e951-9037e82f2fc0"
      },
      "execution_count": null,
      "outputs": [
        {
          "output_type": "stream",
          "name": "stdout",
          "text": [
            "\n",
            "====== Running Audio + Text Fusion ======\n"
          ]
        },
        {
          "output_type": "stream",
          "name": "stderr",
          "text": [
            "Preparing data: 100%|██████████| 1322/1322 [00:46<00:00, 28.68it/s]\n"
          ]
        },
        {
          "output_type": "stream",
          "name": "stdout",
          "text": [
            "[Audio + Text] Early Fusion - Test Accuracy: 0.7387, AUC: 0.7654\n",
            "[Audio + Text] Late Fusion - Test Accuracy: 0.7085, AUC: 0.7551\n"
          ]
        }
      ]
    },
    {
      "cell_type": "code",
      "source": [
        "run_bimodal_experiment(text_dir, visual_dir, label_dict, device, name=\"Text + Visual\")"
      ],
      "metadata": {
        "id": "4QUhPpBuAw-a",
        "colab": {
          "base_uri": "https://localhost:8080/"
        },
        "outputId": "6c98849e-35c5-40e8-e67a-2c35a98c1c2c"
      },
      "execution_count": null,
      "outputs": [
        {
          "output_type": "stream",
          "name": "stdout",
          "text": [
            "\n",
            "====== Running Text + Visual Fusion ======\n"
          ]
        },
        {
          "output_type": "stream",
          "name": "stderr",
          "text": [
            "Preparing data: 100%|██████████| 1322/1322 [00:22<00:00, 57.87it/s]\n"
          ]
        },
        {
          "output_type": "stream",
          "name": "stdout",
          "text": [
            "[Text + Visual] Early Fusion - Test Accuracy: 0.6683, AUC: 0.7612\n",
            "[Text + Visual] Late Fusion - Test Accuracy: 0.6884, AUC: 0.7611\n"
          ]
        }
      ]
    },
    {
      "cell_type": "code",
      "source": [
        "run_bimodal_experiment(audio_dir, visual_dir, label_dict, device, name=\"Audio + Visual\")\n",
        "\n",
        "\n",
        "\"\"\"[Audio + Visual] Early Fusion - Test Accuracy: 0.5578, AUC: 0.5806\n",
        "[Audio + Visual] Late Fusion - Test Accuracy: 0.5465, AUC: 0.5716 (from previous run)\"\"\""
      ],
      "metadata": {
        "id": "POK7j00ngK7o"
      },
      "execution_count": null,
      "outputs": []
    }
  ]
}